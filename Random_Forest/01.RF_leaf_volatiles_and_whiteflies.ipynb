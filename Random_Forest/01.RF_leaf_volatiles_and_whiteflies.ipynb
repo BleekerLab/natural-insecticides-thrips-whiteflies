{
 "cells": [
  {
   "cell_type": "markdown",
   "metadata": {
    "toc": true
   },
   "source": [
    "<h1>Table of Contents<span class=\"tocSkip\"></span></h1>\n",
    "<div class=\"toc\"><ul class=\"toc-item\"><li><span><a href=\"#Data-import\" data-toc-modified-id=\"Data-import-1\"><span class=\"toc-item-num\">1&nbsp;&nbsp;</span>Data import</a></span></li><li><span><a href=\"#Random-Forest-analysis\" data-toc-modified-id=\"Random-Forest-analysis-2\"><span class=\"toc-item-num\">2&nbsp;&nbsp;</span>Random Forest analysis</a></span><ul class=\"toc-item\"><li><span><a href=\"#get-the-X-and-y-arrays\" data-toc-modified-id=\"get-the-X-and-y-arrays-2.1\"><span class=\"toc-item-num\">2.1&nbsp;&nbsp;</span>get the X and y arrays</a></span></li><li><span><a href=\"#Extract-feature-importance-from-the-RF-runs\" data-toc-modified-id=\"Extract-feature-importance-from-the-RF-runs-2.2\"><span class=\"toc-item-num\">2.2&nbsp;&nbsp;</span>Extract feature importance from the RF runs</a></span></li><li><span><a href=\"#Permutations-to-extract-p-values-for-each-metabolite\" data-toc-modified-id=\"Permutations-to-extract-p-values-for-each-metabolite-2.3\"><span class=\"toc-item-num\">2.3&nbsp;&nbsp;</span>Permutations to extract p-values for each metabolite</a></span></li><li><span><a href=\"#Calculate-p-values\" data-toc-modified-id=\"Calculate-p-values-2.4\"><span class=\"toc-item-num\">2.4&nbsp;&nbsp;</span>Calculate p-values</a></span></li><li><span><a href=\"#Select-significant-variables\" data-toc-modified-id=\"Select-significant-variables-2.5\"><span class=\"toc-item-num\">2.5&nbsp;&nbsp;</span>Select significant variables</a></span></li><li><span><a href=\"#Plots-of-feature-importance-averages-and-standard-deviations\" data-toc-modified-id=\"Plots-of-feature-importance-averages-and-standard-deviations-2.6\"><span class=\"toc-item-num\">2.6&nbsp;&nbsp;</span>Plots of feature importance averages and standard deviations</a></span></li></ul></li><li><span><a href=\"#Plots-(heatmap-and-sum-by-class)\" data-toc-modified-id=\"Plots-(heatmap-and-sum-by-class)-3\"><span class=\"toc-item-num\">3&nbsp;&nbsp;</span>Plots (heatmap and sum by class)</a></span><ul class=\"toc-item\"><li><span><a href=\"#Heatmap\" data-toc-modified-id=\"Heatmap-3.1\"><span class=\"toc-item-num\">3.1&nbsp;&nbsp;</span>Heatmap</a></span></li><li><span><a href=\"#Make-plots-for-each-candidate-summing-over-the-class\" data-toc-modified-id=\"Make-plots-for-each-candidate-summing-over-the-class-3.2\"><span class=\"toc-item-num\">3.2&nbsp;&nbsp;</span>Make plots for each candidate summing over the class</a></span></li></ul></li><li><span><a href=\"#Export-results\" data-toc-modified-id=\"Export-results-4\"><span class=\"toc-item-num\">4&nbsp;&nbsp;</span>Export results</a></span></li></ul></div>"
   ]
  },
  {
   "cell_type": "code",
   "execution_count": 1,
   "metadata": {},
   "outputs": [],
   "source": [
    "import matplotlib.pyplot as plt\n",
    "import seaborn as sns\n",
    "%matplotlib inline\n",
    "import pandas as pd\n",
    "import numpy as np\n",
    "\n",
    "from sklearn.model_selection import KFold\n",
    "from sklearn.model_selection import StratifiedKFold\n",
    "from sklearn.ensemble import RandomForestClassifier\n",
    "import random \n",
    "\n",
    "# custom functions\n",
    "from helper_functions import extract_feature_importance_avg_and_sd_from_multiple_random_forest_runs\n",
    "from helper_functions import extract_feature_importances_from_random_forests_on_permuted_y\n",
    "from helper_functions import get_significant_features\n",
    "from helper_functions import plot_candidate_heatmap\n",
    "from helper_functions import plot_candidate_sum_by_class\n",
    "from helper_functions import get_sum_by_class_df\n",
    "\n",
    "\n",
    "from helper_functions import single_random_forest_run"
   ]
  },
  {
   "cell_type": "markdown",
   "metadata": {},
   "source": [
    "# Data import"
   ]
  },
  {
   "cell_type": "code",
   "execution_count": 2,
   "metadata": {},
   "outputs": [
    {
     "data": {
      "text/plain": [
       "(19, 87)"
      ]
     },
     "execution_count": 2,
     "metadata": {},
     "output_type": "execute_result"
    }
   ],
   "source": [
    "df = pd.read_csv(\"phenotypes_vs_leaf_terpenoids.tsv\",sep=\"\\t\",index_col=0)\n",
    "df.shape"
   ]
  },
  {
   "cell_type": "markdown",
   "metadata": {},
   "source": [
    "# Random Forest analysis "
   ]
  },
  {
   "cell_type": "markdown",
   "metadata": {},
   "source": [
    "## get the X and y arrays"
   ]
  },
  {
   "cell_type": "code",
   "execution_count": 3,
   "metadata": {},
   "outputs": [],
   "source": [
    "# get whitefly classes\n",
    "y = df[\"wf\"].tolist()\n",
    "stratify_info = df['wf'].map({'non-toxic': 0, 'toxic': 1})\n",
    "\n",
    "# get matrix X of volatile values\n",
    "X = df.iloc[:,2:]"
   ]
  },
  {
   "cell_type": "markdown",
   "metadata": {},
   "source": [
    "## Extract feature importance from the RF runs"
   ]
  },
  {
   "cell_type": "code",
   "execution_count": 4,
   "metadata": {
    "scrolled": true
   },
   "outputs": [],
   "source": [
    "# generates a list with three elements\n",
    "# first element average of the feature importance \n",
    "# second element standard deviation of the feature importance\n",
    "# third element accuracy score of the Random Forest model\n",
    "feature_importances  = extract_feature_importance_avg_and_sd_from_multiple_random_forest_runs(\n",
    "    X,\n",
    "    y,\n",
    "    nb_of_splits=6,\n",
    "    nb_of_trees=1000,\n",
    "    nb_of_runs=5,\n",
    "    njobs=2\n",
    ")"
   ]
  },
  {
   "cell_type": "code",
   "execution_count": 5,
   "metadata": {},
   "outputs": [],
   "source": [
    "mean_varimportance = feature_importances[0].mean(axis=1)\n",
    "# sum the variances (=squared std) and then take the mean\n",
    "pooled_std = np.sqrt((feature_importances[1]**2).mean(axis=1))\n",
    "# create panda for convenience\n",
    "yerr = pd.concat([mean_varimportance-2*pooled_std, mean_varimportance,mean_varimportance+2*pooled_std],axis=1)"
   ]
  },
  {
   "cell_type": "code",
   "execution_count": 6,
   "metadata": {},
   "outputs": [
    {
     "name": "stdout",
     "output_type": "stream",
     "text": [
      "This is the global accuracy score of the model: 0.63\n"
     ]
    }
   ],
   "source": [
    "# accuracy score of the model\n",
    "print(\"This is the global accuracy score of the model:\",feature_importances[2])"
   ]
  },
  {
   "cell_type": "markdown",
   "metadata": {},
   "source": [
    "## Permutations to extract p-values for each metabolite "
   ]
  },
  {
   "cell_type": "code",
   "execution_count": 7,
   "metadata": {},
   "outputs": [],
   "source": [
    "# compute feature importances based on permuted y values\n",
    "feature_importance_perm = extract_feature_importances_from_random_forests_on_permuted_y(\n",
    "    X,\n",
    "    y,\n",
    "    nb_of_splits=6,\n",
    "    nb_of_trees=1000,\n",
    "    nperm=100,\n",
    "    randomSeed=1234,\n",
    "    njobs=2\n",
    ")"
   ]
  },
  {
   "cell_type": "code",
   "execution_count": 8,
   "metadata": {},
   "outputs": [],
   "source": [
    "feature_importance_perm_250 = extract_feature_importances_from_random_forests_on_permuted_y(\n",
    "    X,\n",
    "    y,\n",
    "    nb_of_splits=6,\n",
    "    nb_of_trees=1000,\n",
    "    nperm=250,\n",
    "    randomSeed=4567,\n",
    "    njobs=2\n",
    ")\n"
   ]
  },
  {
   "cell_type": "code",
   "execution_count": 9,
   "metadata": {},
   "outputs": [],
   "source": [
    "feature_importance_perm_500 = extract_feature_importances_from_random_forests_on_permuted_y(\n",
    "    X,\n",
    "    y,\n",
    "    nb_of_splits=6,\n",
    "    nb_of_trees=1000,\n",
    "    nperm=500,\n",
    "    randomSeed=8910,\n",
    "    njobs=2\n",
    ")"
   ]
  },
  {
   "cell_type": "markdown",
   "metadata": {},
   "source": [
    "## Calculate p-values\n",
    "\n",
    "**How?** By comparing the average feature importance from the original dataset to the distribution of feature importance based on N permutations.   "
   ]
  },
  {
   "cell_type": "code",
   "execution_count": 8,
   "metadata": {},
   "outputs": [],
   "source": [
    "all_pvalues = get_significant_features(X,\n",
    "                                  original_feature_importances=feature_importances,\n",
    "                                  permuted_feature_importances=feature_importance_perm,\n",
    "                                  pval=0.05)"
   ]
  },
  {
   "cell_type": "code",
   "execution_count": 9,
   "metadata": {},
   "outputs": [
    {
     "data": {
      "image/png": "[encoded data removed]",
      "text/plain": [
       "<Figure size 432x288 with 1 Axes>"
      ]
     },
     "metadata": {
      "needs_background": "light"
     },
     "output_type": "display_data"
    }
   ],
   "source": [
    "sns.distplot(all_pvalues.iloc[:,0].astype('float'),20)\n",
    "plt.title('Distribution of observed p-values');"
   ]
  },
  {
   "cell_type": "markdown",
   "metadata": {},
   "source": [
    "## Select significant variables"
   ]
  },
  {
   "cell_type": "code",
   "execution_count": 10,
   "metadata": {},
   "outputs": [
    {
     "name": "stdout",
     "output_type": "stream",
     "text": [
      "4 significant candidates were identified\n"
     ]
    }
   ],
   "source": [
    "# Select significant variables\n",
    "signif = all_pvalues.loc[(all_pvalues.iloc[:,0]<0.01) & (all_pvalues.iloc[:,3]<0.5)]\n",
    "print(signif.shape[0],\"significant candidates were identified\")"
   ]
  },
  {
   "cell_type": "markdown",
   "metadata": {},
   "source": [
    "## Keep only significant variables with an average feature importance higher than the average random one"
   ]
  },
  {
   "cell_type": "code",
   "execution_count": 11,
   "metadata": {},
   "outputs": [
    {
     "data": {
      "text/html": [
       "<div>\n",
       "<style scoped>\n",
       "    .dataframe tbody tr th:only-of-type {\n",
       "        vertical-align: middle;\n",
       "    }\n",
       "\n",
       "    .dataframe tbody tr th {\n",
       "        vertical-align: top;\n",
       "    }\n",
       "\n",
       "    .dataframe thead th {\n",
       "        text-align: right;\n",
       "    }\n",
       "</style>\n",
       "<table border=\"1\" class=\"dataframe\">\n",
       "  <thead>\n",
       "    <tr style=\"text-align: right;\">\n",
       "      <th></th>\n",
       "      <th>p-value</th>\n",
       "      <th>average</th>\n",
       "      <th>sd</th>\n",
       "      <th>rsd</th>\n",
       "      <th>average_permuted</th>\n",
       "      <th>original_imp_higher_than_random_imp</th>\n",
       "    </tr>\n",
       "  </thead>\n",
       "  <tbody>\n",
       "    <tr>\n",
       "      <th>24.707_93.0725</th>\n",
       "      <td>0</td>\n",
       "      <td>0.092058</td>\n",
       "      <td>0.021945</td>\n",
       "      <td>0.238387</td>\n",
       "      <td>0.041339</td>\n",
       "      <td>True</td>\n",
       "    </tr>\n",
       "  </tbody>\n",
       "</table>\n",
       "</div>"
      ],
      "text/plain": [
       "               p-value   average        sd       rsd  average_permuted  \\\n",
       "24.707_93.0725       0  0.092058  0.021945  0.238387          0.041339   \n",
       "\n",
       "               original_imp_higher_than_random_imp  \n",
       "24.707_93.0725                                True  "
      ]
     },
     "execution_count": 11,
     "metadata": {},
     "output_type": "execute_result"
    }
   ],
   "source": [
    "# Compute average permuted feature importances (n = 100 permutations)\n",
    "average_permuted_feature_importances = pd.DataFrame(feature_importance_perm.apply(np.mean, axis=1), \n",
    "                                                    columns=[\"average_permuted\"])\n",
    "\n",
    "# combine p-values dataframe with the average permuted feature importances\n",
    "signif = pd.merge(signif, average_permuted_feature_importances, left_index=True, right_index=True)\n",
    "\n",
    "# keep the metabolites with an original feature importance higher than the average random one \n",
    "signif['original_imp_higher_than_random_imp'] = np.where(signif['average'] >= signif['average_permuted'],\"True\",\"False\")\n",
    "signif = signif[signif['original_imp_higher_than_random_imp'] == \"True\"]\n",
    "signif"
   ]
  },
  {
   "cell_type": "markdown",
   "metadata": {},
   "source": [
    "## Plots of feature importance averages and standard deviations\n",
    "These plots show the Random Forest feature importance average and standard deviation for each significant metabolic candidates. Significant metabolic candidates should have their average feature importance different from the distribution of the random feature importances (estimated by the permutations).\n",
    "\n",
    "In addition, the feature importance standard deviation should not be too important (e.g. relative standard deviation < 50%) as it might impairs its generability to distinguish its importance to distinguish between \"toxic\" from \"non-toxic\" genotypes.\n",
    "\n",
    "Average and standard deviation for each feature are estimate from 5 independent Random Forest runs."
   ]
  },
  {
   "cell_type": "code",
   "execution_count": 14,
   "metadata": {},
   "outputs": [
    {
     "ename": "TypeError",
     "evalue": "'AxesSubplot' object does not support indexing",
     "output_type": "error",
     "traceback": [
      "\u001b[0;31m---------------------------------------------------------------------------\u001b[0m",
      "\u001b[0;31mTypeError\u001b[0m                                 Traceback (most recent call last)",
      "\u001b[0;32m<ipython-input-14-c83b36c042e3>\u001b[0m in \u001b[0;36m<module>\u001b[0;34m\u001b[0m\n\u001b[1;32m      6\u001b[0m \u001b[0;34m\u001b[0m\u001b[0m\n\u001b[1;32m      7\u001b[0m \u001b[0;32mfor\u001b[0m \u001b[0mi\u001b[0m \u001b[0;32min\u001b[0m \u001b[0mrange\u001b[0m\u001b[0;34m(\u001b[0m\u001b[0mnrplots\u001b[0m\u001b[0;34m)\u001b[0m\u001b[0;34m:\u001b[0m\u001b[0;34m\u001b[0m\u001b[0;34m\u001b[0m\u001b[0m\n\u001b[0;32m----> 8\u001b[0;31m     \u001b[0mplt\u001b[0m\u001b[0;34m.\u001b[0m\u001b[0msubplot\u001b[0m\u001b[0;34m(\u001b[0m\u001b[0max\u001b[0m\u001b[0;34m[\u001b[0m\u001b[0mi\u001b[0m\u001b[0;34m]\u001b[0m\u001b[0;34m)\u001b[0m\u001b[0;34m\u001b[0m\u001b[0;34m\u001b[0m\u001b[0m\n\u001b[0m\u001b[1;32m      9\u001b[0m     \u001b[0msns\u001b[0m\u001b[0;34m.\u001b[0m\u001b[0mdistplot\u001b[0m\u001b[0;34m(\u001b[0m\u001b[0mfeature_importance_perm\u001b[0m\u001b[0;34m.\u001b[0m\u001b[0mloc\u001b[0m\u001b[0;34m[\u001b[0m\u001b[0msignif\u001b[0m\u001b[0;34m.\u001b[0m\u001b[0mindex\u001b[0m\u001b[0;34m.\u001b[0m\u001b[0mvalues\u001b[0m\u001b[0;34m[\u001b[0m\u001b[0mi\u001b[0m\u001b[0;34m]\u001b[0m\u001b[0;34m,\u001b[0m\u001b[0;34m:\u001b[0m\u001b[0;34m]\u001b[0m\u001b[0;34m,\u001b[0m\u001b[0mbins\u001b[0m\u001b[0;34m=\u001b[0m\u001b[0;36m10\u001b[0m\u001b[0;34m,\u001b[0m\u001b[0max\u001b[0m\u001b[0;34m=\u001b[0m\u001b[0max\u001b[0m\u001b[0;34m[\u001b[0m\u001b[0mi\u001b[0m\u001b[0;34m]\u001b[0m\u001b[0;34m)\u001b[0m\u001b[0;34m\u001b[0m\u001b[0;34m\u001b[0m\u001b[0m\n\u001b[1;32m     10\u001b[0m     \u001b[0msns\u001b[0m\u001b[0;34m.\u001b[0m\u001b[0mdistplot\u001b[0m\u001b[0;34m(\u001b[0m\u001b[0mfeature_importance_perm_250\u001b[0m\u001b[0;34m.\u001b[0m\u001b[0mloc\u001b[0m\u001b[0;34m[\u001b[0m\u001b[0msignif\u001b[0m\u001b[0;34m.\u001b[0m\u001b[0mindex\u001b[0m\u001b[0;34m.\u001b[0m\u001b[0mvalues\u001b[0m\u001b[0;34m[\u001b[0m\u001b[0mi\u001b[0m\u001b[0;34m]\u001b[0m\u001b[0;34m,\u001b[0m\u001b[0;34m:\u001b[0m\u001b[0;34m]\u001b[0m\u001b[0;34m,\u001b[0m\u001b[0mbins\u001b[0m\u001b[0;34m=\u001b[0m\u001b[0;36m10\u001b[0m\u001b[0;34m,\u001b[0m\u001b[0max\u001b[0m\u001b[0;34m=\u001b[0m\u001b[0max\u001b[0m\u001b[0;34m[\u001b[0m\u001b[0mi\u001b[0m\u001b[0;34m]\u001b[0m\u001b[0;34m)\u001b[0m\u001b[0;34m\u001b[0m\u001b[0;34m\u001b[0m\u001b[0m\n",
      "\u001b[0;31mTypeError\u001b[0m: 'AxesSubplot' object does not support indexing"
     ]
    },
    {
     "data": {
      "image/png": "[encoded data removed]",
      "text/plain": [
       "<Figure size 450x1800 with 1 Axes>"
      ]
     },
     "metadata": {
      "needs_background": "light"
     },
     "output_type": "display_data"
    }
   ],
   "source": [
    "nrplots = len(signif.index.values)\n",
    "fig = plt.figure(figsize=([3,12]),dpi=150)\n",
    "ax = fig.subplots(nrows=nrplots,ncols=1)\n",
    "\n",
    "#yerr = pd.concat([mean_varimportance-2*pooled_std, mean_varimportance,mean_varimportance+2*pooled_std],axis=1)\n",
    "\n",
    "for i in range(nrplots):                \n",
    "    plt.subplot(ax[i])\n",
    "    sns.distplot(feature_importance_perm.loc[signif.index.values[i],:],bins=10,ax=ax[i])\n",
    "    sns.distplot(feature_importance_perm_250.loc[signif.index.values[i],:],bins=10,ax=ax[i])\n",
    "    sns.distplot(feature_importance_perm_500.loc[signif.index.values[i],:],bins=10,ax=ax[i])\n",
    "    plt.plot(yerr.loc[signif.index.values[i],1],0,yerr.loc[signif.index.values[i],1],50,'^')\n",
    "    plt.plot(yerr.loc[signif.index.values[i],0],0,yerr.loc[signif.index.values[i],0],50,'^')\n",
    "    plt.plot(yerr.loc[signif.index.values[i],2],0,yerr.loc[signif.index.values[i],2],50,'v')\n",
    "\n",
    "    \n",
    "plt.tight_layout()"
   ]
  },
  {
   "cell_type": "markdown",
   "metadata": {},
   "source": [
    "# Plots (heatmap and sum by class)"
   ]
  },
  {
   "cell_type": "markdown",
   "metadata": {},
   "source": [
    "## Heatmap\n",
    "To display a heatmap that shows the rows of the non-toxic genotypes followed by the rows of the toxic genotypes."
   ]
  },
  {
   "cell_type": "code",
   "execution_count": 12,
   "metadata": {},
   "outputs": [
    {
     "data": {
      "text/plain": [
       "<matplotlib.axes._subplots.AxesSubplot at 0x7fe31bb52c50>"
      ]
     },
     "execution_count": 12,
     "metadata": {},
     "output_type": "execute_result"
    },
    {
     "data": {
      "image/png": "[encoded data removed]",
      "text/plain": [
       "<Figure size 432x288 with 2 Axes>"
      ]
     },
     "metadata": {
      "needs_background": "light"
     },
     "output_type": "display_data"
    }
   ],
   "source": [
    "# drops the thrips columns\n",
    "df_wf = df.drop(\"thrips\",axis=1) \n",
    "\n",
    "# plot\n",
    "plot_candidate_heatmap(\n",
    "    df=df_wf,\n",
    "    class_col=\"wf\",\n",
    "    significant=signif.index.values,\n",
    "    log=True\n",
    ")"
   ]
  },
  {
   "cell_type": "markdown",
   "metadata": {},
   "source": [
    "## Make plots for each candidate summing over the class"
   ]
  },
  {
   "cell_type": "code",
   "execution_count": 13,
   "metadata": {},
   "outputs": [
    {
     "data": {
      "text/plain": [
       "<matplotlib.axes._subplots.AxesSubplot at 0x7fe31e48d438>"
      ]
     },
     "execution_count": 13,
     "metadata": {},
     "output_type": "execute_result"
    },
    {
     "data": {
      "image/png": "[encoded data removed]",
      "text/plain": [
       "<Figure size 864x720 with 1 Axes>"
      ]
     },
     "metadata": {
      "needs_background": "light"
     },
     "output_type": "display_data"
    }
   ],
   "source": [
    "plot_candidate_sum_by_class(\n",
    "    df = df_wf,\n",
    "    class_col = \"wf\",\n",
    "    significant=signif.index.values\n",
    ")"
   ]
  },
  {
   "cell_type": "markdown",
   "metadata": {},
   "source": [
    "# Export results"
   ]
  },
  {
   "cell_type": "code",
   "execution_count": 14,
   "metadata": {},
   "outputs": [],
   "source": [
    "# write to table\n",
    "signif.to_csv(\"../Table2/01.candidates_leaf_volatiles_vs_whiteflies.tsv\",sep=\"\\t\")"
   ]
  },
  {
   "cell_type": "code",
   "execution_count": 15,
   "metadata": {},
   "outputs": [
    {
     "data": {
      "image/png": "[encoded data removed]",
      "text/plain": [
       "<Figure size 864x720 with 1 Axes>"
      ]
     },
     "metadata": {
      "needs_background": "light"
     },
     "output_type": "display_data"
    }
   ],
   "source": [
    "# save barplot figure\n",
    "plot_candidate_sum_by_class(\n",
    "    df = df_wf,\n",
    "    class_col = \"wf\",\n",
    "    significant=signif.index.values\n",
    ")\n",
    "plt.savefig('Figure5A.svg',format='svg')\n",
    "plt.savefig('Figure5A.pdf',format='pdf')"
   ]
  },
  {
   "cell_type": "markdown",
   "metadata": {},
   "source": [
    "# Marginal p-values candidates\n",
    "## Extract significant candidates"
   ]
  },
  {
   "cell_type": "code",
   "execution_count": 16,
   "metadata": {},
   "outputs": [],
   "source": [
    "pd.set_option('display.max_rows', None)\n",
    "signif_marginal = all_pvalues.loc[(all_pvalues.iloc[:,0]<0.1) & (all_pvalues.iloc[:,3]<0.5)]"
   ]
  },
  {
   "cell_type": "markdown",
   "metadata": {},
   "source": [
    "## Show marginal candidates (p < 0.1) with a feature importance higher than random"
   ]
  },
  {
   "cell_type": "code",
   "execution_count": 17,
   "metadata": {
    "scrolled": false
   },
   "outputs": [
    {
     "data": {
      "text/html": [
       "<div>\n",
       "<style scoped>\n",
       "    .dataframe tbody tr th:only-of-type {\n",
       "        vertical-align: middle;\n",
       "    }\n",
       "\n",
       "    .dataframe tbody tr th {\n",
       "        vertical-align: top;\n",
       "    }\n",
       "\n",
       "    .dataframe thead th {\n",
       "        text-align: right;\n",
       "    }\n",
       "</style>\n",
       "<table border=\"1\" class=\"dataframe\">\n",
       "  <thead>\n",
       "    <tr style=\"text-align: right;\">\n",
       "      <th></th>\n",
       "      <th>p-value</th>\n",
       "      <th>average</th>\n",
       "      <th>sd</th>\n",
       "      <th>rsd</th>\n",
       "      <th>average_permuted</th>\n",
       "      <th>original_imp_higher_than_random_imp</th>\n",
       "    </tr>\n",
       "  </thead>\n",
       "  <tbody>\n",
       "    <tr>\n",
       "      <th>22.444_161.1317</th>\n",
       "      <td>0.0117647</td>\n",
       "      <td>0.056840</td>\n",
       "      <td>0.020801</td>\n",
       "      <td>0.365953</td>\n",
       "      <td>0.030356</td>\n",
       "      <td>True</td>\n",
       "    </tr>\n",
       "    <tr>\n",
       "      <th>23.181_147.1173</th>\n",
       "      <td>0.0352941</td>\n",
       "      <td>0.031373</td>\n",
       "      <td>0.012825</td>\n",
       "      <td>0.408775</td>\n",
       "      <td>0.016881</td>\n",
       "      <td>True</td>\n",
       "    </tr>\n",
       "    <tr>\n",
       "      <th>24.707_93.0725</th>\n",
       "      <td>0</td>\n",
       "      <td>0.092058</td>\n",
       "      <td>0.021945</td>\n",
       "      <td>0.238387</td>\n",
       "      <td>0.041339</td>\n",
       "      <td>True</td>\n",
       "    </tr>\n",
       "    <tr>\n",
       "      <th>26.595_91.0568</th>\n",
       "      <td>0.0823529</td>\n",
       "      <td>0.012335</td>\n",
       "      <td>0.004903</td>\n",
       "      <td>0.397510</td>\n",
       "      <td>0.007222</td>\n",
       "      <td>True</td>\n",
       "    </tr>\n",
       "  </tbody>\n",
       "</table>\n",
       "</div>"
      ],
      "text/plain": [
       "                   p-value   average        sd       rsd  average_permuted  \\\n",
       "22.444_161.1317  0.0117647  0.056840  0.020801  0.365953          0.030356   \n",
       "23.181_147.1173  0.0352941  0.031373  0.012825  0.408775          0.016881   \n",
       "24.707_93.0725           0  0.092058  0.021945  0.238387          0.041339   \n",
       "26.595_91.0568   0.0823529  0.012335  0.004903  0.397510          0.007222   \n",
       "\n",
       "                original_imp_higher_than_random_imp  \n",
       "22.444_161.1317                                True  \n",
       "23.181_147.1173                                True  \n",
       "24.707_93.0725                                 True  \n",
       "26.595_91.0568                                 True  "
      ]
     },
     "execution_count": 17,
     "metadata": {},
     "output_type": "execute_result"
    }
   ],
   "source": [
    "# combine p-values dataframe with the average permuted feature importances\n",
    "signif_marginal = pd.merge(signif_marginal, average_permuted_feature_importances, left_index=True, right_index=True)\n",
    "\n",
    "# keep the metabolites with an original feature importance higher than the average random one \n",
    "signif_marginal['original_imp_higher_than_random_imp'] = np.where(signif_marginal['average'] >= signif_marginal['average_permuted'],\"True\",\"False\")\n",
    "signif_marginal[signif_marginal['original_imp_higher_than_random_imp'] == \"True\"]"
   ]
  },
  {
   "cell_type": "code",
   "execution_count": null,
   "metadata": {},
   "outputs": [],
   "source": []
  }
 ],
 "metadata": {
  "kernelspec": {
   "display_name": "Python 3",
   "language": "python",
   "name": "python3"
  },
  "language_info": {
   "codemirror_mode": {
    "name": "ipython",
    "version": 3
   },
   "file_extension": ".py",
   "mimetype": "text/x-python",
   "name": "python",
   "nbconvert_exporter": "python",
   "pygments_lexer": "ipython3",
   "version": "3.7.1"
  },
  "toc": {
   "base_numbering": 1,
   "nav_menu": {},
   "number_sections": true,
   "sideBar": true,
   "skip_h1_title": false,
   "title_cell": "Table of Contents",
   "title_sidebar": "Contents",
   "toc_cell": true,
   "toc_position": {},
   "toc_section_display": true,
   "toc_window_display": false
  }
 },
 "nbformat": 4,
 "nbformat_minor": 4
}
