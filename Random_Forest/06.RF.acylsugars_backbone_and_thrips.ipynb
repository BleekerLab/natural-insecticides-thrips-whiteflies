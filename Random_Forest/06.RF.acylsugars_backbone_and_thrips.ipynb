{
 "cells": [
  {
   "cell_type": "markdown",
   "metadata": {
    "toc": true
   },
   "source": [
    "<h1>Table of Contents<span class=\"tocSkip\"></span></h1>\n",
    "<div class=\"toc\"><ul class=\"toc-item\"><li><span><a href=\"#Data-import\" data-toc-modified-id=\"Data-import-1\"><span class=\"toc-item-num\">1&nbsp;&nbsp;</span>Data import</a></span></li><li><span><a href=\"#Random-Forest-analysis\" data-toc-modified-id=\"Random-Forest-analysis-2\"><span class=\"toc-item-num\">2&nbsp;&nbsp;</span>Random Forest analysis</a></span><ul class=\"toc-item\"><li><span><a href=\"#get-the-X-and-y-arrays\" data-toc-modified-id=\"get-the-X-and-y-arrays-2.1\"><span class=\"toc-item-num\">2.1&nbsp;&nbsp;</span>get the X and y arrays</a></span></li><li><span><a href=\"#Extract-feature-importance-from-the-RF-runs\" data-toc-modified-id=\"Extract-feature-importance-from-the-RF-runs-2.2\"><span class=\"toc-item-num\">2.2&nbsp;&nbsp;</span>Extract feature importance from the RF runs</a></span></li><li><span><a href=\"#Permutations-to-extract-p-values-for-each-metabolite\" data-toc-modified-id=\"Permutations-to-extract-p-values-for-each-metabolite-2.3\"><span class=\"toc-item-num\">2.3&nbsp;&nbsp;</span>Permutations to extract p-values for each metabolite</a></span></li><li><span><a href=\"#Calculate-p-values\" data-toc-modified-id=\"Calculate-p-values-2.4\"><span class=\"toc-item-num\">2.4&nbsp;&nbsp;</span>Calculate p-values</a></span></li><li><span><a href=\"#Write-final-results-to-file\" data-toc-modified-id=\"Write-final-results-to-file-2.5\"><span class=\"toc-item-num\">2.5&nbsp;&nbsp;</span>Write final results to file</a></span></li><li><span><a href=\"#Plots-of-feature-importance-averages-and-standard-deviations\" data-toc-modified-id=\"Plots-of-feature-importance-averages-and-standard-deviations-2.6\"><span class=\"toc-item-num\">2.6&nbsp;&nbsp;</span>Plots of feature importance averages and standard deviations</a></span></li></ul></li><li><span><a href=\"#Plots-(heatmap-and-sum-by-class)\" data-toc-modified-id=\"Plots-(heatmap-and-sum-by-class)-3\"><span class=\"toc-item-num\">3&nbsp;&nbsp;</span>Plots (heatmap and sum by class)</a></span><ul class=\"toc-item\"><li><span><a href=\"#Heatmap\" data-toc-modified-id=\"Heatmap-3.1\"><span class=\"toc-item-num\">3.1&nbsp;&nbsp;</span>Heatmap</a></span></li><li><span><a href=\"#Make-plots-for-each-candidate-summing-over-the-class\" data-toc-modified-id=\"Make-plots-for-each-candidate-summing-over-the-class-3.2\"><span class=\"toc-item-num\">3.2&nbsp;&nbsp;</span>Make plots for each candidate summing over the class</a></span></li></ul></li><li><span><a href=\"#Export-results\" data-toc-modified-id=\"Export-results-4\"><span class=\"toc-item-num\">4&nbsp;&nbsp;</span>Export results</a></span></li></ul></div>"
   ]
  },
  {
   "cell_type": "code",
   "execution_count": 18,
   "metadata": {},
   "outputs": [],
   "source": [
    "import matplotlib.pyplot as plt\n",
    "import seaborn as sns\n",
    "%matplotlib inline\n",
    "import pandas as pd\n",
    "import numpy as np\n",
    "\n",
    "from sklearn.model_selection import KFold\n",
    "from sklearn.model_selection import StratifiedKFold\n",
    "from sklearn.ensemble import RandomForestClassifier\n",
    "import random \n",
    "\n",
    "# custom functions\n",
    "from helper_functions import extract_feature_importance_avg_and_sd_from_multiple_random_forest_runs\n",
    "from helper_functions import extract_feature_importances_from_random_forests_on_permuted_y\n",
    "from helper_functions import get_significant_features\n",
    "from helper_functions import plot_candidate_heatmap\n",
    "from helper_functions import plot_candidate_sum_by_class\n",
    "from helper_functions import get_sum_by_class_df\n",
    "\n",
    "\n",
    "from helper_functions import single_random_forest_run"
   ]
  },
  {
   "cell_type": "markdown",
   "metadata": {},
   "source": [
    "# Data import"
   ]
  },
  {
   "cell_type": "code",
   "execution_count": 19,
   "metadata": {},
   "outputs": [
    {
     "data": {
      "text/html": [
       "<div>\n",
       "<style scoped>\n",
       "    .dataframe tbody tr th:only-of-type {\n",
       "        vertical-align: middle;\n",
       "    }\n",
       "\n",
       "    .dataframe tbody tr th {\n",
       "        vertical-align: top;\n",
       "    }\n",
       "\n",
       "    .dataframe thead th {\n",
       "        text-align: right;\n",
       "    }\n",
       "</style>\n",
       "<table border=\"1\" class=\"dataframe\">\n",
       "  <thead>\n",
       "    <tr style=\"text-align: right;\">\n",
       "      <th></th>\n",
       "      <th>wf</th>\n",
       "      <th>thrips</th>\n",
       "      <th>Glucose_2</th>\n",
       "      <th>Glucose_3</th>\n",
       "      <th>Glucose_4</th>\n",
       "      <th>Glucose_5</th>\n",
       "      <th>Sucrose_1</th>\n",
       "      <th>Sucrose_2</th>\n",
       "      <th>Sucrose_3</th>\n",
       "      <th>Sucrose_4</th>\n",
       "      <th>Sucrose_5</th>\n",
       "      <th>total_glucose</th>\n",
       "      <th>total_sucrose</th>\n",
       "    </tr>\n",
       "    <tr>\n",
       "      <th>sample</th>\n",
       "      <th></th>\n",
       "      <th></th>\n",
       "      <th></th>\n",
       "      <th></th>\n",
       "      <th></th>\n",
       "      <th></th>\n",
       "      <th></th>\n",
       "      <th></th>\n",
       "      <th></th>\n",
       "      <th></th>\n",
       "      <th></th>\n",
       "      <th></th>\n",
       "      <th></th>\n",
       "    </tr>\n",
       "  </thead>\n",
       "  <tbody>\n",
       "    <tr>\n",
       "      <th>MM</th>\n",
       "      <td>non-toxic</td>\n",
       "      <td>non-toxic</td>\n",
       "      <td>0.0</td>\n",
       "      <td>11.591665</td>\n",
       "      <td>70.068765</td>\n",
       "      <td>44.355994</td>\n",
       "      <td>1.264401</td>\n",
       "      <td>1.451547</td>\n",
       "      <td>8.359466</td>\n",
       "      <td>371.798175</td>\n",
       "      <td>126.739905</td>\n",
       "      <td>126.016425</td>\n",
       "      <td>509.613494</td>\n",
       "    </tr>\n",
       "    <tr>\n",
       "      <th>LA4024</th>\n",
       "      <td>non-toxic</td>\n",
       "      <td>non-toxic</td>\n",
       "      <td>0.0</td>\n",
       "      <td>1.260663</td>\n",
       "      <td>2.429888</td>\n",
       "      <td>0.000000</td>\n",
       "      <td>0.000000</td>\n",
       "      <td>0.446886</td>\n",
       "      <td>10.589788</td>\n",
       "      <td>1.004579</td>\n",
       "      <td>0.000000</td>\n",
       "      <td>3.690551</td>\n",
       "      <td>12.041254</td>\n",
       "    </tr>\n",
       "    <tr>\n",
       "      <th>LA1578</th>\n",
       "      <td>non-toxic</td>\n",
       "      <td>non-toxic</td>\n",
       "      <td>0.0</td>\n",
       "      <td>9.078842</td>\n",
       "      <td>350.776672</td>\n",
       "      <td>321.914205</td>\n",
       "      <td>0.000000</td>\n",
       "      <td>0.897126</td>\n",
       "      <td>21.280534</td>\n",
       "      <td>1408.536948</td>\n",
       "      <td>690.574564</td>\n",
       "      <td>681.769720</td>\n",
       "      <td>2121.289171</td>\n",
       "    </tr>\n",
       "    <tr>\n",
       "      <th>LA1278</th>\n",
       "      <td>non-toxic</td>\n",
       "      <td>toxic</td>\n",
       "      <td>0.0</td>\n",
       "      <td>23.279711</td>\n",
       "      <td>118.584926</td>\n",
       "      <td>112.817646</td>\n",
       "      <td>0.380556</td>\n",
       "      <td>0.639418</td>\n",
       "      <td>14.521886</td>\n",
       "      <td>628.620406</td>\n",
       "      <td>215.159937</td>\n",
       "      <td>254.682283</td>\n",
       "      <td>859.322203</td>\n",
       "    </tr>\n",
       "    <tr>\n",
       "      <th>LA1954</th>\n",
       "      <td>toxic</td>\n",
       "      <td>non-toxic</td>\n",
       "      <td>0.0</td>\n",
       "      <td>6.368703</td>\n",
       "      <td>300.504894</td>\n",
       "      <td>241.461846</td>\n",
       "      <td>0.000000</td>\n",
       "      <td>3.161044</td>\n",
       "      <td>104.294512</td>\n",
       "      <td>1145.804123</td>\n",
       "      <td>481.086098</td>\n",
       "      <td>548.335442</td>\n",
       "      <td>1734.345776</td>\n",
       "    </tr>\n",
       "  </tbody>\n",
       "</table>\n",
       "</div>"
      ],
      "text/plain": [
       "               wf     thrips  Glucose_2  Glucose_3   Glucose_4   Glucose_5  \\\n",
       "sample                                                                       \n",
       "MM      non-toxic  non-toxic        0.0  11.591665   70.068765   44.355994   \n",
       "LA4024  non-toxic  non-toxic        0.0   1.260663    2.429888    0.000000   \n",
       "LA1578  non-toxic  non-toxic        0.0   9.078842  350.776672  321.914205   \n",
       "LA1278  non-toxic      toxic        0.0  23.279711  118.584926  112.817646   \n",
       "LA1954      toxic  non-toxic        0.0   6.368703  300.504894  241.461846   \n",
       "\n",
       "        Sucrose_1  Sucrose_2   Sucrose_3    Sucrose_4   Sucrose_5  \\\n",
       "sample                                                              \n",
       "MM       1.264401   1.451547    8.359466   371.798175  126.739905   \n",
       "LA4024   0.000000   0.446886   10.589788     1.004579    0.000000   \n",
       "LA1578   0.000000   0.897126   21.280534  1408.536948  690.574564   \n",
       "LA1278   0.380556   0.639418   14.521886   628.620406  215.159937   \n",
       "LA1954   0.000000   3.161044  104.294512  1145.804123  481.086098   \n",
       "\n",
       "        total_glucose  total_sucrose  \n",
       "sample                                \n",
       "MM         126.016425     509.613494  \n",
       "LA4024       3.690551      12.041254  \n",
       "LA1578     681.769720    2121.289171  \n",
       "LA1278     254.682283     859.322203  \n",
       "LA1954     548.335442    1734.345776  "
      ]
     },
     "execution_count": 19,
     "metadata": {},
     "output_type": "execute_result"
    }
   ],
   "source": [
    "df = pd.read_csv(\"../Figure_3/acylsugar_analytics/acylsugar_summary.tsv\",sep=\"\\t\",index_col=0)\n",
    "df.head()"
   ]
  },
  {
   "cell_type": "markdown",
   "metadata": {},
   "source": [
    "# Random Forest analysis "
   ]
  },
  {
   "cell_type": "markdown",
   "metadata": {},
   "source": [
    "## get the X and y arrays"
   ]
  },
  {
   "cell_type": "code",
   "execution_count": 20,
   "metadata": {},
   "outputs": [],
   "source": [
    "# get thrips classes\n",
    "y = df[\"thrips\"].tolist()\n",
    "stratify_info = df['thrips'].map({'non-toxic': 0, 'toxic': 1})\n",
    "\n",
    "# get matrix X of volatile values\n",
    "X = df.iloc[:,2:]"
   ]
  },
  {
   "cell_type": "markdown",
   "metadata": {},
   "source": [
    "## Extract feature importance from the RF runs"
   ]
  },
  {
   "cell_type": "code",
   "execution_count": 21,
   "metadata": {
    "scrolled": true
   },
   "outputs": [],
   "source": [
    "# generates a list with three elements\n",
    "# first element average of the feature importance \n",
    "# second element standard deviation of the feature importance\n",
    "# third element accuracy score of the Random Forest model\n",
    "feature_importances  = extract_feature_importance_avg_and_sd_from_multiple_random_forest_runs(\n",
    "    X,\n",
    "    y,\n",
    "    nb_of_splits=6,\n",
    "    nb_of_trees=1000,\n",
    "    nb_of_runs=5,\n",
    "    njobs=2\n",
    ")"
   ]
  },
  {
   "cell_type": "code",
   "execution_count": 22,
   "metadata": {},
   "outputs": [],
   "source": [
    "mean_varimportance = feature_importances[0].mean(axis=1)\n",
    "# sum the variances (=squared std) and then take the mean\n",
    "pooled_std = np.sqrt((feature_importances[1]**2).mean(axis=1))\n",
    "# create panda for convenience\n",
    "yerr = pd.concat([mean_varimportance-2*pooled_std, mean_varimportance,mean_varimportance+2*pooled_std],axis=1)"
   ]
  },
  {
   "cell_type": "code",
   "execution_count": 23,
   "metadata": {},
   "outputs": [
    {
     "name": "stdout",
     "output_type": "stream",
     "text": [
      "This is the global accuracy score of the model: 0.57\n"
     ]
    }
   ],
   "source": [
    "# accuracy score of the model\n",
    "print(\"This is the global accuracy score of the model:\",feature_importances[2])"
   ]
  },
  {
   "cell_type": "markdown",
   "metadata": {},
   "source": [
    "## Permutations to extract p-values for each metabolite "
   ]
  },
  {
   "cell_type": "code",
   "execution_count": 17,
   "metadata": {},
   "outputs": [
    {
     "data": {
      "text/html": [
       "<div>\n",
       "<style scoped>\n",
       "    .dataframe tbody tr th:only-of-type {\n",
       "        vertical-align: middle;\n",
       "    }\n",
       "\n",
       "    .dataframe tbody tr th {\n",
       "        vertical-align: top;\n",
       "    }\n",
       "\n",
       "    .dataframe thead th {\n",
       "        text-align: right;\n",
       "    }\n",
       "</style>\n",
       "<table border=\"1\" class=\"dataframe\">\n",
       "  <thead>\n",
       "    <tr style=\"text-align: right;\">\n",
       "      <th></th>\n",
       "      <th>perm0</th>\n",
       "      <th>perm1</th>\n",
       "      <th>perm2</th>\n",
       "      <th>perm3</th>\n",
       "      <th>perm4</th>\n",
       "      <th>perm5</th>\n",
       "      <th>perm6</th>\n",
       "      <th>perm7</th>\n",
       "      <th>perm8</th>\n",
       "      <th>perm9</th>\n",
       "      <th>...</th>\n",
       "      <th>perm90</th>\n",
       "      <th>perm91</th>\n",
       "      <th>perm92</th>\n",
       "      <th>perm93</th>\n",
       "      <th>perm94</th>\n",
       "      <th>perm95</th>\n",
       "      <th>perm96</th>\n",
       "      <th>perm97</th>\n",
       "      <th>perm98</th>\n",
       "      <th>perm99</th>\n",
       "    </tr>\n",
       "  </thead>\n",
       "  <tbody>\n",
       "    <tr>\n",
       "      <th>Glucose_2</th>\n",
       "      <td>0.032658</td>\n",
       "      <td>0.050086</td>\n",
       "      <td>0.041463</td>\n",
       "      <td>0.052154</td>\n",
       "      <td>0.037105</td>\n",
       "      <td>0.028200</td>\n",
       "      <td>0.046761</td>\n",
       "      <td>0.048662</td>\n",
       "      <td>0.096658</td>\n",
       "      <td>0.031010</td>\n",
       "      <td>...</td>\n",
       "      <td>0.030592</td>\n",
       "      <td>0.063902</td>\n",
       "      <td>0.033027</td>\n",
       "      <td>0.035900</td>\n",
       "      <td>0.051319</td>\n",
       "      <td>0.041121</td>\n",
       "      <td>0.041247</td>\n",
       "      <td>0.038792</td>\n",
       "      <td>0.028195</td>\n",
       "      <td>0.059579</td>\n",
       "    </tr>\n",
       "    <tr>\n",
       "      <th>Glucose_3</th>\n",
       "      <td>0.092636</td>\n",
       "      <td>0.089333</td>\n",
       "      <td>0.182691</td>\n",
       "      <td>0.099689</td>\n",
       "      <td>0.107137</td>\n",
       "      <td>0.118951</td>\n",
       "      <td>0.237562</td>\n",
       "      <td>0.131536</td>\n",
       "      <td>0.135314</td>\n",
       "      <td>0.141806</td>\n",
       "      <td>...</td>\n",
       "      <td>0.082575</td>\n",
       "      <td>0.062794</td>\n",
       "      <td>0.128019</td>\n",
       "      <td>0.099122</td>\n",
       "      <td>0.094144</td>\n",
       "      <td>0.128373</td>\n",
       "      <td>0.102732</td>\n",
       "      <td>0.105404</td>\n",
       "      <td>0.085783</td>\n",
       "      <td>0.097857</td>\n",
       "    </tr>\n",
       "    <tr>\n",
       "      <th>Glucose_4</th>\n",
       "      <td>0.064017</td>\n",
       "      <td>0.098526</td>\n",
       "      <td>0.083066</td>\n",
       "      <td>0.097158</td>\n",
       "      <td>0.088460</td>\n",
       "      <td>0.124759</td>\n",
       "      <td>0.056625</td>\n",
       "      <td>0.078226</td>\n",
       "      <td>0.080152</td>\n",
       "      <td>0.092161</td>\n",
       "      <td>...</td>\n",
       "      <td>0.127832</td>\n",
       "      <td>0.144482</td>\n",
       "      <td>0.079211</td>\n",
       "      <td>0.122232</td>\n",
       "      <td>0.096460</td>\n",
       "      <td>0.090174</td>\n",
       "      <td>0.093486</td>\n",
       "      <td>0.084985</td>\n",
       "      <td>0.068691</td>\n",
       "      <td>0.117591</td>\n",
       "    </tr>\n",
       "    <tr>\n",
       "      <th>Glucose_5</th>\n",
       "      <td>0.056630</td>\n",
       "      <td>0.093309</td>\n",
       "      <td>0.063522</td>\n",
       "      <td>0.076517</td>\n",
       "      <td>0.090728</td>\n",
       "      <td>0.081301</td>\n",
       "      <td>0.057447</td>\n",
       "      <td>0.058546</td>\n",
       "      <td>0.064827</td>\n",
       "      <td>0.108539</td>\n",
       "      <td>...</td>\n",
       "      <td>0.103679</td>\n",
       "      <td>0.140555</td>\n",
       "      <td>0.066798</td>\n",
       "      <td>0.093840</td>\n",
       "      <td>0.085232</td>\n",
       "      <td>0.105459</td>\n",
       "      <td>0.090947</td>\n",
       "      <td>0.079635</td>\n",
       "      <td>0.068249</td>\n",
       "      <td>0.094447</td>\n",
       "    </tr>\n",
       "    <tr>\n",
       "      <th>Sucrose_1</th>\n",
       "      <td>0.209117</td>\n",
       "      <td>0.071763</td>\n",
       "      <td>0.125206</td>\n",
       "      <td>0.085917</td>\n",
       "      <td>0.091426</td>\n",
       "      <td>0.079316</td>\n",
       "      <td>0.055901</td>\n",
       "      <td>0.058688</td>\n",
       "      <td>0.066604</td>\n",
       "      <td>0.078507</td>\n",
       "      <td>...</td>\n",
       "      <td>0.126922</td>\n",
       "      <td>0.066870</td>\n",
       "      <td>0.054310</td>\n",
       "      <td>0.144294</td>\n",
       "      <td>0.069375</td>\n",
       "      <td>0.052914</td>\n",
       "      <td>0.060396</td>\n",
       "      <td>0.110039</td>\n",
       "      <td>0.065915</td>\n",
       "      <td>0.091084</td>\n",
       "    </tr>\n",
       "    <tr>\n",
       "      <th>Sucrose_2</th>\n",
       "      <td>0.078780</td>\n",
       "      <td>0.101032</td>\n",
       "      <td>0.101651</td>\n",
       "      <td>0.092543</td>\n",
       "      <td>0.095894</td>\n",
       "      <td>0.085582</td>\n",
       "      <td>0.102226</td>\n",
       "      <td>0.067643</td>\n",
       "      <td>0.115592</td>\n",
       "      <td>0.085057</td>\n",
       "      <td>...</td>\n",
       "      <td>0.084570</td>\n",
       "      <td>0.095009</td>\n",
       "      <td>0.105689</td>\n",
       "      <td>0.085515</td>\n",
       "      <td>0.089924</td>\n",
       "      <td>0.063057</td>\n",
       "      <td>0.083592</td>\n",
       "      <td>0.081575</td>\n",
       "      <td>0.106502</td>\n",
       "      <td>0.086540</td>\n",
       "    </tr>\n",
       "    <tr>\n",
       "      <th>Sucrose_3</th>\n",
       "      <td>0.183700</td>\n",
       "      <td>0.098231</td>\n",
       "      <td>0.095508</td>\n",
       "      <td>0.106078</td>\n",
       "      <td>0.116394</td>\n",
       "      <td>0.099465</td>\n",
       "      <td>0.136390</td>\n",
       "      <td>0.112045</td>\n",
       "      <td>0.116226</td>\n",
       "      <td>0.102835</td>\n",
       "      <td>...</td>\n",
       "      <td>0.058322</td>\n",
       "      <td>0.094112</td>\n",
       "      <td>0.163995</td>\n",
       "      <td>0.091890</td>\n",
       "      <td>0.102915</td>\n",
       "      <td>0.112913</td>\n",
       "      <td>0.151402</td>\n",
       "      <td>0.194152</td>\n",
       "      <td>0.086646</td>\n",
       "      <td>0.083437</td>\n",
       "    </tr>\n",
       "    <tr>\n",
       "      <th>Sucrose_4</th>\n",
       "      <td>0.076839</td>\n",
       "      <td>0.085424</td>\n",
       "      <td>0.065300</td>\n",
       "      <td>0.100202</td>\n",
       "      <td>0.104120</td>\n",
       "      <td>0.085919</td>\n",
       "      <td>0.060736</td>\n",
       "      <td>0.102549</td>\n",
       "      <td>0.066598</td>\n",
       "      <td>0.072183</td>\n",
       "      <td>...</td>\n",
       "      <td>0.104560</td>\n",
       "      <td>0.068142</td>\n",
       "      <td>0.114992</td>\n",
       "      <td>0.066311</td>\n",
       "      <td>0.119563</td>\n",
       "      <td>0.124872</td>\n",
       "      <td>0.084698</td>\n",
       "      <td>0.073082</td>\n",
       "      <td>0.195479</td>\n",
       "      <td>0.107208</td>\n",
       "    </tr>\n",
       "    <tr>\n",
       "      <th>Sucrose_5</th>\n",
       "      <td>0.059005</td>\n",
       "      <td>0.075129</td>\n",
       "      <td>0.103067</td>\n",
       "      <td>0.118489</td>\n",
       "      <td>0.117719</td>\n",
       "      <td>0.104670</td>\n",
       "      <td>0.059083</td>\n",
       "      <td>0.064650</td>\n",
       "      <td>0.066902</td>\n",
       "      <td>0.139778</td>\n",
       "      <td>...</td>\n",
       "      <td>0.124059</td>\n",
       "      <td>0.130337</td>\n",
       "      <td>0.069116</td>\n",
       "      <td>0.094368</td>\n",
       "      <td>0.102711</td>\n",
       "      <td>0.101758</td>\n",
       "      <td>0.126004</td>\n",
       "      <td>0.067483</td>\n",
       "      <td>0.076209</td>\n",
       "      <td>0.089058</td>\n",
       "    </tr>\n",
       "    <tr>\n",
       "      <th>total_glucose</th>\n",
       "      <td>0.061521</td>\n",
       "      <td>0.126770</td>\n",
       "      <td>0.072962</td>\n",
       "      <td>0.093652</td>\n",
       "      <td>0.076725</td>\n",
       "      <td>0.108083</td>\n",
       "      <td>0.107918</td>\n",
       "      <td>0.137664</td>\n",
       "      <td>0.112481</td>\n",
       "      <td>0.080102</td>\n",
       "      <td>...</td>\n",
       "      <td>0.083380</td>\n",
       "      <td>0.073613</td>\n",
       "      <td>0.104126</td>\n",
       "      <td>0.086668</td>\n",
       "      <td>0.087867</td>\n",
       "      <td>0.097284</td>\n",
       "      <td>0.085888</td>\n",
       "      <td>0.087568</td>\n",
       "      <td>0.085672</td>\n",
       "      <td>0.076171</td>\n",
       "    </tr>\n",
       "    <tr>\n",
       "      <th>total_sucrose</th>\n",
       "      <td>0.085097</td>\n",
       "      <td>0.110397</td>\n",
       "      <td>0.065398</td>\n",
       "      <td>0.077601</td>\n",
       "      <td>0.074292</td>\n",
       "      <td>0.083587</td>\n",
       "      <td>0.079350</td>\n",
       "      <td>0.139791</td>\n",
       "      <td>0.078646</td>\n",
       "      <td>0.067855</td>\n",
       "      <td>...</td>\n",
       "      <td>0.073342</td>\n",
       "      <td>0.060184</td>\n",
       "      <td>0.080716</td>\n",
       "      <td>0.079859</td>\n",
       "      <td>0.100490</td>\n",
       "      <td>0.082076</td>\n",
       "      <td>0.079609</td>\n",
       "      <td>0.077285</td>\n",
       "      <td>0.132492</td>\n",
       "      <td>0.097028</td>\n",
       "    </tr>\n",
       "  </tbody>\n",
       "</table>\n",
       "<p>11 rows × 100 columns</p>\n",
       "</div>"
      ],
      "text/plain": [
       "                  perm0     perm1     perm2     perm3     perm4     perm5  \\\n",
       "Glucose_2      0.032658  0.050086  0.041463  0.052154  0.037105  0.028200   \n",
       "Glucose_3      0.092636  0.089333  0.182691  0.099689  0.107137  0.118951   \n",
       "Glucose_4      0.064017  0.098526  0.083066  0.097158  0.088460  0.124759   \n",
       "Glucose_5      0.056630  0.093309  0.063522  0.076517  0.090728  0.081301   \n",
       "Sucrose_1      0.209117  0.071763  0.125206  0.085917  0.091426  0.079316   \n",
       "Sucrose_2      0.078780  0.101032  0.101651  0.092543  0.095894  0.085582   \n",
       "Sucrose_3      0.183700  0.098231  0.095508  0.106078  0.116394  0.099465   \n",
       "Sucrose_4      0.076839  0.085424  0.065300  0.100202  0.104120  0.085919   \n",
       "Sucrose_5      0.059005  0.075129  0.103067  0.118489  0.117719  0.104670   \n",
       "total_glucose  0.061521  0.126770  0.072962  0.093652  0.076725  0.108083   \n",
       "total_sucrose  0.085097  0.110397  0.065398  0.077601  0.074292  0.083587   \n",
       "\n",
       "                  perm6     perm7     perm8     perm9  ...    perm90  \\\n",
       "Glucose_2      0.046761  0.048662  0.096658  0.031010  ...  0.030592   \n",
       "Glucose_3      0.237562  0.131536  0.135314  0.141806  ...  0.082575   \n",
       "Glucose_4      0.056625  0.078226  0.080152  0.092161  ...  0.127832   \n",
       "Glucose_5      0.057447  0.058546  0.064827  0.108539  ...  0.103679   \n",
       "Sucrose_1      0.055901  0.058688  0.066604  0.078507  ...  0.126922   \n",
       "Sucrose_2      0.102226  0.067643  0.115592  0.085057  ...  0.084570   \n",
       "Sucrose_3      0.136390  0.112045  0.116226  0.102835  ...  0.058322   \n",
       "Sucrose_4      0.060736  0.102549  0.066598  0.072183  ...  0.104560   \n",
       "Sucrose_5      0.059083  0.064650  0.066902  0.139778  ...  0.124059   \n",
       "total_glucose  0.107918  0.137664  0.112481  0.080102  ...  0.083380   \n",
       "total_sucrose  0.079350  0.139791  0.078646  0.067855  ...  0.073342   \n",
       "\n",
       "                 perm91    perm92    perm93    perm94    perm95    perm96  \\\n",
       "Glucose_2      0.063902  0.033027  0.035900  0.051319  0.041121  0.041247   \n",
       "Glucose_3      0.062794  0.128019  0.099122  0.094144  0.128373  0.102732   \n",
       "Glucose_4      0.144482  0.079211  0.122232  0.096460  0.090174  0.093486   \n",
       "Glucose_5      0.140555  0.066798  0.093840  0.085232  0.105459  0.090947   \n",
       "Sucrose_1      0.066870  0.054310  0.144294  0.069375  0.052914  0.060396   \n",
       "Sucrose_2      0.095009  0.105689  0.085515  0.089924  0.063057  0.083592   \n",
       "Sucrose_3      0.094112  0.163995  0.091890  0.102915  0.112913  0.151402   \n",
       "Sucrose_4      0.068142  0.114992  0.066311  0.119563  0.124872  0.084698   \n",
       "Sucrose_5      0.130337  0.069116  0.094368  0.102711  0.101758  0.126004   \n",
       "total_glucose  0.073613  0.104126  0.086668  0.087867  0.097284  0.085888   \n",
       "total_sucrose  0.060184  0.080716  0.079859  0.100490  0.082076  0.079609   \n",
       "\n",
       "                 perm97    perm98    perm99  \n",
       "Glucose_2      0.038792  0.028195  0.059579  \n",
       "Glucose_3      0.105404  0.085783  0.097857  \n",
       "Glucose_4      0.084985  0.068691  0.117591  \n",
       "Glucose_5      0.079635  0.068249  0.094447  \n",
       "Sucrose_1      0.110039  0.065915  0.091084  \n",
       "Sucrose_2      0.081575  0.106502  0.086540  \n",
       "Sucrose_3      0.194152  0.086646  0.083437  \n",
       "Sucrose_4      0.073082  0.195479  0.107208  \n",
       "Sucrose_5      0.067483  0.076209  0.089058  \n",
       "total_glucose  0.087568  0.085672  0.076171  \n",
       "total_sucrose  0.077285  0.132492  0.097028  \n",
       "\n",
       "[11 rows x 100 columns]"
      ]
     },
     "execution_count": 17,
     "metadata": {},
     "output_type": "execute_result"
    }
   ],
   "source": [
    "# compute feature importances based on permuted y values\n",
    "feature_importance_perm = extract_feature_importances_from_random_forests_on_permuted_y(\n",
    "    X,\n",
    "    y,\n",
    "    nb_of_splits=6,\n",
    "    nb_of_trees=1000,\n",
    "    nperm=100,\n",
    "    randomSeed=1234,\n",
    "    njobs=2\n",
    ")"
   ]
  },
  {
   "cell_type": "code",
   "execution_count": 25,
   "metadata": {},
   "outputs": [
    {
     "data": {
      "text/html": [
       "<div>\n",
       "<style scoped>\n",
       "    .dataframe tbody tr th:only-of-type {\n",
       "        vertical-align: middle;\n",
       "    }\n",
       "\n",
       "    .dataframe tbody tr th {\n",
       "        vertical-align: top;\n",
       "    }\n",
       "\n",
       "    .dataframe thead th {\n",
       "        text-align: right;\n",
       "    }\n",
       "</style>\n",
       "<table border=\"1\" class=\"dataframe\">\n",
       "  <thead>\n",
       "    <tr style=\"text-align: right;\">\n",
       "      <th></th>\n",
       "      <th>perm0</th>\n",
       "      <th>perm1</th>\n",
       "      <th>perm2</th>\n",
       "      <th>perm3</th>\n",
       "      <th>perm4</th>\n",
       "    </tr>\n",
       "  </thead>\n",
       "  <tbody>\n",
       "    <tr>\n",
       "      <th>Glucose_2</th>\n",
       "      <td>0.032658</td>\n",
       "      <td>0.050086</td>\n",
       "      <td>0.041463</td>\n",
       "      <td>0.052154</td>\n",
       "      <td>0.037105</td>\n",
       "    </tr>\n",
       "    <tr>\n",
       "      <th>Glucose_3</th>\n",
       "      <td>0.092636</td>\n",
       "      <td>0.089333</td>\n",
       "      <td>0.182691</td>\n",
       "      <td>0.099689</td>\n",
       "      <td>0.107137</td>\n",
       "    </tr>\n",
       "    <tr>\n",
       "      <th>Glucose_4</th>\n",
       "      <td>0.064017</td>\n",
       "      <td>0.098526</td>\n",
       "      <td>0.083066</td>\n",
       "      <td>0.097158</td>\n",
       "      <td>0.088460</td>\n",
       "    </tr>\n",
       "    <tr>\n",
       "      <th>Glucose_5</th>\n",
       "      <td>0.056630</td>\n",
       "      <td>0.093309</td>\n",
       "      <td>0.063522</td>\n",
       "      <td>0.076517</td>\n",
       "      <td>0.090728</td>\n",
       "    </tr>\n",
       "    <tr>\n",
       "      <th>Sucrose_1</th>\n",
       "      <td>0.209117</td>\n",
       "      <td>0.071763</td>\n",
       "      <td>0.125206</td>\n",
       "      <td>0.085917</td>\n",
       "      <td>0.091426</td>\n",
       "    </tr>\n",
       "  </tbody>\n",
       "</table>\n",
       "</div>"
      ],
      "text/plain": [
       "              perm0     perm1     perm2     perm3     perm4\n",
       "Glucose_2  0.032658  0.050086  0.041463  0.052154  0.037105\n",
       "Glucose_3  0.092636  0.089333  0.182691  0.099689  0.107137\n",
       "Glucose_4  0.064017  0.098526  0.083066  0.097158  0.088460\n",
       "Glucose_5  0.056630  0.093309  0.063522  0.076517  0.090728\n",
       "Sucrose_1  0.209117  0.071763  0.125206  0.085917  0.091426"
      ]
     },
     "execution_count": 25,
     "metadata": {},
     "output_type": "execute_result"
    }
   ],
   "source": [
    "feature_importance_perm.iloc[0:5,0:5]"
   ]
  },
  {
   "cell_type": "code",
   "execution_count": 26,
   "metadata": {},
   "outputs": [],
   "source": [
    "feature_importance_perm_250 = extract_feature_importances_from_random_forests_on_permuted_y(\n",
    "    X,\n",
    "    y,\n",
    "    nb_of_splits=6,\n",
    "    nb_of_trees=1000,\n",
    "    nperm=250,\n",
    "    randomSeed=4567,\n",
    "    njobs=2\n",
    ")"
   ]
  },
  {
   "cell_type": "code",
   "execution_count": 27,
   "metadata": {},
   "outputs": [
    {
     "data": {
      "text/html": [
       "<div>\n",
       "<style scoped>\n",
       "    .dataframe tbody tr th:only-of-type {\n",
       "        vertical-align: middle;\n",
       "    }\n",
       "\n",
       "    .dataframe tbody tr th {\n",
       "        vertical-align: top;\n",
       "    }\n",
       "\n",
       "    .dataframe thead th {\n",
       "        text-align: right;\n",
       "    }\n",
       "</style>\n",
       "<table border=\"1\" class=\"dataframe\">\n",
       "  <thead>\n",
       "    <tr style=\"text-align: right;\">\n",
       "      <th></th>\n",
       "      <th>perm0</th>\n",
       "      <th>perm1</th>\n",
       "      <th>perm2</th>\n",
       "      <th>perm3</th>\n",
       "      <th>perm4</th>\n",
       "    </tr>\n",
       "  </thead>\n",
       "  <tbody>\n",
       "    <tr>\n",
       "      <th>Glucose_2</th>\n",
       "      <td>0.039296</td>\n",
       "      <td>0.028030</td>\n",
       "      <td>0.030680</td>\n",
       "      <td>0.041866</td>\n",
       "      <td>0.035180</td>\n",
       "    </tr>\n",
       "    <tr>\n",
       "      <th>Glucose_3</th>\n",
       "      <td>0.084533</td>\n",
       "      <td>0.126409</td>\n",
       "      <td>0.121878</td>\n",
       "      <td>0.115674</td>\n",
       "      <td>0.122935</td>\n",
       "    </tr>\n",
       "    <tr>\n",
       "      <th>Glucose_4</th>\n",
       "      <td>0.081652</td>\n",
       "      <td>0.170275</td>\n",
       "      <td>0.088718</td>\n",
       "      <td>0.086107</td>\n",
       "      <td>0.078813</td>\n",
       "    </tr>\n",
       "    <tr>\n",
       "      <th>Glucose_5</th>\n",
       "      <td>0.068594</td>\n",
       "      <td>0.128828</td>\n",
       "      <td>0.070853</td>\n",
       "      <td>0.070026</td>\n",
       "      <td>0.075147</td>\n",
       "    </tr>\n",
       "    <tr>\n",
       "      <th>Sucrose_1</th>\n",
       "      <td>0.083198</td>\n",
       "      <td>0.057793</td>\n",
       "      <td>0.075130</td>\n",
       "      <td>0.080396</td>\n",
       "      <td>0.136536</td>\n",
       "    </tr>\n",
       "  </tbody>\n",
       "</table>\n",
       "</div>"
      ],
      "text/plain": [
       "              perm0     perm1     perm2     perm3     perm4\n",
       "Glucose_2  0.039296  0.028030  0.030680  0.041866  0.035180\n",
       "Glucose_3  0.084533  0.126409  0.121878  0.115674  0.122935\n",
       "Glucose_4  0.081652  0.170275  0.088718  0.086107  0.078813\n",
       "Glucose_5  0.068594  0.128828  0.070853  0.070026  0.075147\n",
       "Sucrose_1  0.083198  0.057793  0.075130  0.080396  0.136536"
      ]
     },
     "execution_count": 27,
     "metadata": {},
     "output_type": "execute_result"
    }
   ],
   "source": [
    "feature_importance_perm_250.iloc[0:5,0:5]"
   ]
  },
  {
   "cell_type": "code",
   "execution_count": null,
   "metadata": {},
   "outputs": [],
   "source": [
    "feature_importance_perm_500 = extract_feature_importances_from_random_forests_on_permuted_y(\n",
    "    X,\n",
    "    y,\n",
    "    nb_of_splits=6,\n",
    "    nb_of_trees=1000,\n",
    "    nperm=500,\n",
    "    randomSeed=8910,\n",
    "    njobs=2\n",
    ")"
   ]
  },
  {
   "cell_type": "markdown",
   "metadata": {},
   "source": [
    "## Calculate p-values\n",
    "\n",
    "**How?** By comparing the average feature importance from the original dataset to the distribution of feature importance based on N permutations.   "
   ]
  },
  {
   "cell_type": "code",
   "execution_count": 28,
   "metadata": {},
   "outputs": [],
   "source": [
    "all_pvalues = get_significant_features(X,\n",
    "                                  original_feature_importances=feature_importances,\n",
    "                                  permuted_feature_importances=feature_importance_perm,\n",
    "                                  pval=0.05)"
   ]
  },
  {
   "cell_type": "code",
   "execution_count": 29,
   "metadata": {},
   "outputs": [
    {
     "data": {
      "image/png": "[encoded data removed]",
      "text/plain": [
       "<Figure size 432x288 with 1 Axes>"
      ]
     },
     "metadata": {
      "needs_background": "light"
     },
     "output_type": "display_data"
    }
   ],
   "source": [
    "sns.distplot(all_pvalues.iloc[:,0].astype('float'),20)\n",
    "plt.title('Distribution of observed p-values');"
   ]
  },
  {
   "cell_type": "markdown",
   "metadata": {},
   "source": [
    "## Select significant variables"
   ]
  },
  {
   "cell_type": "code",
   "execution_count": 30,
   "metadata": {},
   "outputs": [
    {
     "name": "stdout",
     "output_type": "stream",
     "text": [
      "0 significant candidates were identified\n"
     ]
    }
   ],
   "source": [
    "# Select significant variables\n",
    "signif = all_pvalues.loc[(all_pvalues.iloc[:,0]<0.05) & (all_pvalues.iloc[:,3]<0.5)]\n",
    "print(signif.shape[0],\"significant candidates were identified\")"
   ]
  },
  {
   "cell_type": "markdown",
   "metadata": {},
   "source": [
    "## Plots of feature importance averages and standard deviations\n",
    "\n",
    "These plots show the Random Forest feature importance average and standard deviation for each significant metabolic candidates. Significant metabolic candidates should have their average feature importance different from the distribution of the random feature importances (estimated by the permutations).\n",
    "\n",
    "In addition, the feature importance standard deviation should not be too important (e.g. relative standard deviation < 50%) as it might impairs its generability to distinguish its importance to distinguish between \"toxic\" from \"non-toxic\" genotypes.\n",
    "\n",
    "Average and standard deviation for each feature are estimate from 5 independent Random Forest runs."
   ]
  },
  {
   "cell_type": "code",
   "execution_count": 31,
   "metadata": {},
   "outputs": [
    {
     "data": {
      "text/plain": [
       "<Figure size 450x1800 with 0 Axes>"
      ]
     },
     "metadata": {},
     "output_type": "display_data"
    }
   ],
   "source": [
    "nrplots = len(signif.index.values)\n",
    "fig = plt.figure(figsize=([3,12]),dpi=150)\n",
    "ax = fig.subplots(nrows=nrplots,ncols=1)\n",
    "\n",
    "#yerr = pd.concat([mean_varimportance-2*pooled_std, mean_varimportance,mean_varimportance+2*pooled_std],axis=1)\n",
    "\n",
    "for i in range(nrplots):                \n",
    "    plt.subplot(ax[i])\n",
    "    sns.distplot(feature_importance_perm.loc[signif.index.values[i],:],bins=10,ax=ax[i])\n",
    "    sns.distplot(feature_importance_perm_250.loc[signif.index.values[i],:],bins=10,ax=ax[i])\n",
    "    sns.distplot(feature_importance_perm_500.loc[signif.index.values[i],:],bins=10,ax=ax[i])\n",
    "    plt.plot(yerr.loc[signif.index.values[i],1],0,yerr.loc[signif.index.values[i],1],50,'^')\n",
    "    plt.plot(yerr.loc[signif.index.values[i],0],0,yerr.loc[signif.index.values[i],0],50,'^')\n",
    "    plt.plot(yerr.loc[signif.index.values[i],2],0,yerr.loc[signif.index.values[i],2],50,'v')\n",
    "\n",
    "    \n",
    "plt.tight_layout()"
   ]
  },
  {
   "cell_type": "markdown",
   "metadata": {},
   "source": [
    "# Plots (heatmap and sum by class)"
   ]
  },
  {
   "cell_type": "markdown",
   "metadata": {},
   "source": [
    "## Heatmap\n",
    "To display a heatmap that shows the rows of the non-toxic genotypes followed by the rows of the toxic genotypes."
   ]
  },
  {
   "cell_type": "code",
   "execution_count": 13,
   "metadata": {},
   "outputs": [
    {
     "ename": "ValueError",
     "evalue": "zero-size array to reduction operation minimum which has no identity",
     "output_type": "error",
     "traceback": [
      "\u001b[0;31m---------------------------------------------------------------------------\u001b[0m",
      "\u001b[0;31mValueError\u001b[0m                                Traceback (most recent call last)",
      "\u001b[0;32m<ipython-input-13-615f9d1a4683>\u001b[0m in \u001b[0;36m<module>\u001b[0;34m\u001b[0m\n\u001b[1;32m      7\u001b[0m     \u001b[0mclass_col\u001b[0m\u001b[0;34m=\u001b[0m\u001b[0;34m\"thrips\"\u001b[0m\u001b[0;34m,\u001b[0m\u001b[0;34m\u001b[0m\u001b[0;34m\u001b[0m\u001b[0m\n\u001b[1;32m      8\u001b[0m     \u001b[0msignificant\u001b[0m\u001b[0;34m=\u001b[0m\u001b[0msignif\u001b[0m\u001b[0;34m.\u001b[0m\u001b[0mindex\u001b[0m\u001b[0;34m.\u001b[0m\u001b[0mvalues\u001b[0m\u001b[0;34m,\u001b[0m\u001b[0;34m\u001b[0m\u001b[0;34m\u001b[0m\u001b[0m\n\u001b[0;32m----> 9\u001b[0;31m     \u001b[0mlog\u001b[0m\u001b[0;34m=\u001b[0m\u001b[0;32mTrue\u001b[0m\u001b[0;34m\u001b[0m\u001b[0;34m\u001b[0m\u001b[0m\n\u001b[0m\u001b[1;32m     10\u001b[0m )\n",
      "\u001b[0;32m~/Documents/workspace/natural-insecticides-thrips-whiteflies/Random_Forest/helper_functions.py\u001b[0m in \u001b[0;36mplot_candidate_heatmap\u001b[0;34m(df, class_col, significant, log)\u001b[0m\n\u001b[1;32m    316\u001b[0m \u001b[0;34m\u001b[0m\u001b[0m\n\u001b[1;32m    317\u001b[0m     \u001b[0;31m# final plot\u001b[0m\u001b[0;34m\u001b[0m\u001b[0;34m\u001b[0m\u001b[0;34m\u001b[0m\u001b[0m\n\u001b[0;32m--> 318\u001b[0;31m     \u001b[0;32mreturn\u001b[0m \u001b[0msns\u001b[0m\u001b[0;34m.\u001b[0m\u001b[0mheatmap\u001b[0m\u001b[0;34m(\u001b[0m\u001b[0mdf_final\u001b[0m\u001b[0;34m,\u001b[0m\u001b[0mcmap\u001b[0m\u001b[0;34m=\u001b[0m\u001b[0;34m\"Blues\"\u001b[0m\u001b[0;34m)\u001b[0m\u001b[0;34m\u001b[0m\u001b[0;34m\u001b[0m\u001b[0m\n\u001b[0m\u001b[1;32m    319\u001b[0m \u001b[0;34m\u001b[0m\u001b[0m\n\u001b[1;32m    320\u001b[0m \u001b[0;32mdef\u001b[0m \u001b[0mplot_candidate_sum_by_class\u001b[0m\u001b[0;34m(\u001b[0m\u001b[0mdf\u001b[0m\u001b[0;34m,\u001b[0m\u001b[0mclass_col\u001b[0m\u001b[0;34m=\u001b[0m\u001b[0;34m\"wf\"\u001b[0m\u001b[0;34m,\u001b[0m\u001b[0msignificant\u001b[0m\u001b[0;34m=\u001b[0m\u001b[0;34m\"signif.index.values\"\u001b[0m\u001b[0;34m,\u001b[0m\u001b[0max\u001b[0m\u001b[0;34m=\u001b[0m\u001b[0;32mNone\u001b[0m\u001b[0;34m)\u001b[0m\u001b[0;34m:\u001b[0m\u001b[0;34m\u001b[0m\u001b[0;34m\u001b[0m\u001b[0m\n",
      "\u001b[0;32m~/opt/miniconda3/envs/rf/lib/python3.7/site-packages/seaborn/matrix.py\u001b[0m in \u001b[0;36mheatmap\u001b[0;34m(data, vmin, vmax, cmap, center, robust, annot, fmt, annot_kws, linewidths, linecolor, cbar, cbar_kws, cbar_ax, square, xticklabels, yticklabels, mask, ax, **kwargs)\u001b[0m\n\u001b[1;32m    515\u001b[0m     plotter = _HeatMapper(data, vmin, vmax, cmap, center, robust, annot, fmt,\n\u001b[1;32m    516\u001b[0m                           \u001b[0mannot_kws\u001b[0m\u001b[0;34m,\u001b[0m \u001b[0mcbar\u001b[0m\u001b[0;34m,\u001b[0m \u001b[0mcbar_kws\u001b[0m\u001b[0;34m,\u001b[0m \u001b[0mxticklabels\u001b[0m\u001b[0;34m,\u001b[0m\u001b[0;34m\u001b[0m\u001b[0;34m\u001b[0m\u001b[0m\n\u001b[0;32m--> 517\u001b[0;31m                           yticklabels, mask)\n\u001b[0m\u001b[1;32m    518\u001b[0m \u001b[0;34m\u001b[0m\u001b[0m\n\u001b[1;32m    519\u001b[0m     \u001b[0;31m# Add the pcolormesh kwargs here\u001b[0m\u001b[0;34m\u001b[0m\u001b[0;34m\u001b[0m\u001b[0;34m\u001b[0m\u001b[0m\n",
      "\u001b[0;32m~/opt/miniconda3/envs/rf/lib/python3.7/site-packages/seaborn/matrix.py\u001b[0m in \u001b[0;36m__init__\u001b[0;34m(self, data, vmin, vmax, cmap, center, robust, annot, fmt, annot_kws, cbar, cbar_kws, xticklabels, yticklabels, mask)\u001b[0m\n\u001b[1;32m    165\u001b[0m         \u001b[0;31m# Determine good default values for the colormapping\u001b[0m\u001b[0;34m\u001b[0m\u001b[0;34m\u001b[0m\u001b[0;34m\u001b[0m\u001b[0m\n\u001b[1;32m    166\u001b[0m         self._determine_cmap_params(plot_data, vmin, vmax,\n\u001b[0;32m--> 167\u001b[0;31m                                     cmap, center, robust)\n\u001b[0m\u001b[1;32m    168\u001b[0m \u001b[0;34m\u001b[0m\u001b[0m\n\u001b[1;32m    169\u001b[0m         \u001b[0;31m# Sort out the annotations\u001b[0m\u001b[0;34m\u001b[0m\u001b[0;34m\u001b[0m\u001b[0;34m\u001b[0m\u001b[0m\n",
      "\u001b[0;32m~/opt/miniconda3/envs/rf/lib/python3.7/site-packages/seaborn/matrix.py\u001b[0m in \u001b[0;36m_determine_cmap_params\u001b[0;34m(self, plot_data, vmin, vmax, cmap, center, robust)\u001b[0m\n\u001b[1;32m    204\u001b[0m         \u001b[0mcalc_data\u001b[0m \u001b[0;34m=\u001b[0m \u001b[0mplot_data\u001b[0m\u001b[0;34m.\u001b[0m\u001b[0mdata\u001b[0m\u001b[0;34m[\u001b[0m\u001b[0;34m~\u001b[0m\u001b[0mnp\u001b[0m\u001b[0;34m.\u001b[0m\u001b[0misnan\u001b[0m\u001b[0;34m(\u001b[0m\u001b[0mplot_data\u001b[0m\u001b[0;34m.\u001b[0m\u001b[0mdata\u001b[0m\u001b[0;34m)\u001b[0m\u001b[0;34m]\u001b[0m\u001b[0;34m\u001b[0m\u001b[0;34m\u001b[0m\u001b[0m\n\u001b[1;32m    205\u001b[0m         \u001b[0;32mif\u001b[0m \u001b[0mvmin\u001b[0m \u001b[0;32mis\u001b[0m \u001b[0;32mNone\u001b[0m\u001b[0;34m:\u001b[0m\u001b[0;34m\u001b[0m\u001b[0;34m\u001b[0m\u001b[0m\n\u001b[0;32m--> 206\u001b[0;31m             \u001b[0mvmin\u001b[0m \u001b[0;34m=\u001b[0m \u001b[0mnp\u001b[0m\u001b[0;34m.\u001b[0m\u001b[0mpercentile\u001b[0m\u001b[0;34m(\u001b[0m\u001b[0mcalc_data\u001b[0m\u001b[0;34m,\u001b[0m \u001b[0;36m2\u001b[0m\u001b[0;34m)\u001b[0m \u001b[0;32mif\u001b[0m \u001b[0mrobust\u001b[0m \u001b[0;32melse\u001b[0m \u001b[0mcalc_data\u001b[0m\u001b[0;34m.\u001b[0m\u001b[0mmin\u001b[0m\u001b[0;34m(\u001b[0m\u001b[0;34m)\u001b[0m\u001b[0;34m\u001b[0m\u001b[0;34m\u001b[0m\u001b[0m\n\u001b[0m\u001b[1;32m    207\u001b[0m         \u001b[0;32mif\u001b[0m \u001b[0mvmax\u001b[0m \u001b[0;32mis\u001b[0m \u001b[0;32mNone\u001b[0m\u001b[0;34m:\u001b[0m\u001b[0;34m\u001b[0m\u001b[0;34m\u001b[0m\u001b[0m\n\u001b[1;32m    208\u001b[0m             \u001b[0mvmax\u001b[0m \u001b[0;34m=\u001b[0m \u001b[0mnp\u001b[0m\u001b[0;34m.\u001b[0m\u001b[0mpercentile\u001b[0m\u001b[0;34m(\u001b[0m\u001b[0mcalc_data\u001b[0m\u001b[0;34m,\u001b[0m \u001b[0;36m98\u001b[0m\u001b[0;34m)\u001b[0m \u001b[0;32mif\u001b[0m \u001b[0mrobust\u001b[0m \u001b[0;32melse\u001b[0m \u001b[0mcalc_data\u001b[0m\u001b[0;34m.\u001b[0m\u001b[0mmax\u001b[0m\u001b[0;34m(\u001b[0m\u001b[0;34m)\u001b[0m\u001b[0;34m\u001b[0m\u001b[0;34m\u001b[0m\u001b[0m\n",
      "\u001b[0;32m~/opt/miniconda3/envs/rf/lib/python3.7/site-packages/numpy/core/_methods.py\u001b[0m in \u001b[0;36m_amin\u001b[0;34m(a, axis, out, keepdims, initial, where)\u001b[0m\n\u001b[1;32m     41\u001b[0m def _amin(a, axis=None, out=None, keepdims=False,\n\u001b[1;32m     42\u001b[0m           initial=_NoValue, where=True):\n\u001b[0;32m---> 43\u001b[0;31m     \u001b[0;32mreturn\u001b[0m \u001b[0mumr_minimum\u001b[0m\u001b[0;34m(\u001b[0m\u001b[0ma\u001b[0m\u001b[0;34m,\u001b[0m \u001b[0maxis\u001b[0m\u001b[0;34m,\u001b[0m \u001b[0;32mNone\u001b[0m\u001b[0;34m,\u001b[0m \u001b[0mout\u001b[0m\u001b[0;34m,\u001b[0m \u001b[0mkeepdims\u001b[0m\u001b[0;34m,\u001b[0m \u001b[0minitial\u001b[0m\u001b[0;34m,\u001b[0m \u001b[0mwhere\u001b[0m\u001b[0;34m)\u001b[0m\u001b[0;34m\u001b[0m\u001b[0;34m\u001b[0m\u001b[0m\n\u001b[0m\u001b[1;32m     44\u001b[0m \u001b[0;34m\u001b[0m\u001b[0m\n\u001b[1;32m     45\u001b[0m def _sum(a, axis=None, dtype=None, out=None, keepdims=False,\n",
      "\u001b[0;31mValueError\u001b[0m: zero-size array to reduction operation minimum which has no identity"
     ]
    }
   ],
   "source": [
    "# drops the wf columns\n",
    "df_thrips = df.drop(\"wf\",axis=1) \n",
    "\n",
    "# plot\n",
    "plot_candidate_heatmap(\n",
    "    df=df_thrips,\n",
    "    class_col=\"thrips\",\n",
    "    significant=signif.index.values,\n",
    "    log=True\n",
    ")"
   ]
  },
  {
   "cell_type": "markdown",
   "metadata": {},
   "source": [
    "## Make plots for each candidate summing over the class"
   ]
  },
  {
   "cell_type": "code",
   "execution_count": 14,
   "metadata": {},
   "outputs": [
    {
     "ename": "ValueError",
     "evalue": "min() arg is an empty sequence",
     "output_type": "error",
     "traceback": [
      "\u001b[0;31m---------------------------------------------------------------------------\u001b[0m",
      "\u001b[0;31mValueError\u001b[0m                                Traceback (most recent call last)",
      "\u001b[0;32m<ipython-input-14-1eba20ccce8d>\u001b[0m in \u001b[0;36m<module>\u001b[0;34m\u001b[0m\n\u001b[1;32m      2\u001b[0m     \u001b[0mdf\u001b[0m \u001b[0;34m=\u001b[0m \u001b[0mdf_thrips\u001b[0m\u001b[0;34m,\u001b[0m\u001b[0;34m\u001b[0m\u001b[0;34m\u001b[0m\u001b[0m\n\u001b[1;32m      3\u001b[0m     \u001b[0mclass_col\u001b[0m \u001b[0;34m=\u001b[0m \u001b[0;34m\"thrips\"\u001b[0m\u001b[0;34m,\u001b[0m\u001b[0;34m\u001b[0m\u001b[0;34m\u001b[0m\u001b[0m\n\u001b[0;32m----> 4\u001b[0;31m     \u001b[0msignificant\u001b[0m\u001b[0;34m=\u001b[0m\u001b[0msignif\u001b[0m\u001b[0;34m.\u001b[0m\u001b[0mindex\u001b[0m\u001b[0;34m.\u001b[0m\u001b[0mvalues\u001b[0m\u001b[0;34m\u001b[0m\u001b[0;34m\u001b[0m\u001b[0m\n\u001b[0m\u001b[1;32m      5\u001b[0m )\n",
      "\u001b[0;32m~/Documents/workspace/natural-insecticides-thrips-whiteflies/Random_Forest/helper_functions.py\u001b[0m in \u001b[0;36mplot_candidate_sum_by_class\u001b[0;34m(df, class_col, significant, ax)\u001b[0m\n\u001b[1;32m    352\u001b[0m     \u001b[0mfig\u001b[0m\u001b[0;34m,\u001b[0m \u001b[0max\u001b[0m \u001b[0;34m=\u001b[0m \u001b[0mplt\u001b[0m\u001b[0;34m.\u001b[0m\u001b[0msubplots\u001b[0m\u001b[0;34m(\u001b[0m\u001b[0mfigsize\u001b[0m\u001b[0;34m=\u001b[0m\u001b[0;34m(\u001b[0m\u001b[0;36m12\u001b[0m\u001b[0;34m,\u001b[0m\u001b[0;36m10\u001b[0m\u001b[0;34m)\u001b[0m\u001b[0;34m)\u001b[0m\u001b[0;34m\u001b[0m\u001b[0;34m\u001b[0m\u001b[0m\n\u001b[1;32m    353\u001b[0m     \u001b[0max\u001b[0m\u001b[0;34m.\u001b[0m\u001b[0mset_xscale\u001b[0m\u001b[0;34m(\u001b[0m\u001b[0;34m\"log\"\u001b[0m\u001b[0;34m,\u001b[0m\u001b[0mbasex\u001b[0m\u001b[0;34m=\u001b[0m\u001b[0;36m2\u001b[0m\u001b[0;34m)\u001b[0m\u001b[0;34m\u001b[0m\u001b[0;34m\u001b[0m\u001b[0m\n\u001b[0;32m--> 354\u001b[0;31m     \u001b[0;32mreturn\u001b[0m \u001b[0msns\u001b[0m\u001b[0;34m.\u001b[0m\u001b[0mbarplot\u001b[0m\u001b[0;34m(\u001b[0m\u001b[0mx\u001b[0m\u001b[0;34m=\u001b[0m\u001b[0;34m\"value\"\u001b[0m\u001b[0;34m,\u001b[0m\u001b[0my\u001b[0m\u001b[0;34m=\u001b[0m\u001b[0;34m\"candidate\"\u001b[0m\u001b[0;34m,\u001b[0m\u001b[0mhue\u001b[0m\u001b[0;34m=\u001b[0m\u001b[0;34m\"class\"\u001b[0m\u001b[0;34m,\u001b[0m\u001b[0mdata\u001b[0m\u001b[0;34m=\u001b[0m\u001b[0msumByClass\u001b[0m\u001b[0;34m,\u001b[0m\u001b[0max\u001b[0m\u001b[0;34m=\u001b[0m\u001b[0max\u001b[0m\u001b[0;34m)\u001b[0m\u001b[0;34m\u001b[0m\u001b[0;34m\u001b[0m\u001b[0m\n\u001b[0m\u001b[1;32m    355\u001b[0m \u001b[0;34m\u001b[0m\u001b[0m\n\u001b[1;32m    356\u001b[0m \u001b[0;32mdef\u001b[0m \u001b[0mget_sum_by_class_df\u001b[0m\u001b[0;34m(\u001b[0m\u001b[0mdf\u001b[0m\u001b[0;34m,\u001b[0m\u001b[0mclass_col\u001b[0m\u001b[0;34m=\u001b[0m\u001b[0;34m\"wf\"\u001b[0m\u001b[0;34m,\u001b[0m\u001b[0msignificant\u001b[0m\u001b[0;34m=\u001b[0m\u001b[0;34m\"signif.index.values\"\u001b[0m\u001b[0;34m,\u001b[0m\u001b[0max\u001b[0m\u001b[0;34m=\u001b[0m\u001b[0;32mNone\u001b[0m\u001b[0;34m)\u001b[0m\u001b[0;34m:\u001b[0m\u001b[0;34m\u001b[0m\u001b[0;34m\u001b[0m\u001b[0m\n",
      "\u001b[0;32m~/opt/miniconda3/envs/rf/lib/python3.7/site-packages/seaborn/categorical.py\u001b[0m in \u001b[0;36mbarplot\u001b[0;34m(x, y, hue, data, order, hue_order, estimator, ci, n_boot, units, orient, color, palette, saturation, errcolor, errwidth, capsize, dodge, ax, **kwargs)\u001b[0m\n\u001b[1;32m   3147\u001b[0m                           \u001b[0mestimator\u001b[0m\u001b[0;34m,\u001b[0m \u001b[0mci\u001b[0m\u001b[0;34m,\u001b[0m \u001b[0mn_boot\u001b[0m\u001b[0;34m,\u001b[0m \u001b[0munits\u001b[0m\u001b[0;34m,\u001b[0m\u001b[0;34m\u001b[0m\u001b[0;34m\u001b[0m\u001b[0m\n\u001b[1;32m   3148\u001b[0m                           \u001b[0morient\u001b[0m\u001b[0;34m,\u001b[0m \u001b[0mcolor\u001b[0m\u001b[0;34m,\u001b[0m \u001b[0mpalette\u001b[0m\u001b[0;34m,\u001b[0m \u001b[0msaturation\u001b[0m\u001b[0;34m,\u001b[0m\u001b[0;34m\u001b[0m\u001b[0;34m\u001b[0m\u001b[0m\n\u001b[0;32m-> 3149\u001b[0;31m                           errcolor, errwidth, capsize, dodge)\n\u001b[0m\u001b[1;32m   3150\u001b[0m \u001b[0;34m\u001b[0m\u001b[0m\n\u001b[1;32m   3151\u001b[0m     \u001b[0;32mif\u001b[0m \u001b[0max\u001b[0m \u001b[0;32mis\u001b[0m \u001b[0;32mNone\u001b[0m\u001b[0;34m:\u001b[0m\u001b[0;34m\u001b[0m\u001b[0;34m\u001b[0m\u001b[0m\n",
      "\u001b[0;32m~/opt/miniconda3/envs/rf/lib/python3.7/site-packages/seaborn/categorical.py\u001b[0m in \u001b[0;36m__init__\u001b[0;34m(self, x, y, hue, data, order, hue_order, estimator, ci, n_boot, units, orient, color, palette, saturation, errcolor, errwidth, capsize, dodge)\u001b[0m\n\u001b[1;32m   1606\u001b[0m         self.establish_variables(x, y, hue, data, orient,\n\u001b[1;32m   1607\u001b[0m                                  order, hue_order, units)\n\u001b[0;32m-> 1608\u001b[0;31m         \u001b[0mself\u001b[0m\u001b[0;34m.\u001b[0m\u001b[0mestablish_colors\u001b[0m\u001b[0;34m(\u001b[0m\u001b[0mcolor\u001b[0m\u001b[0;34m,\u001b[0m \u001b[0mpalette\u001b[0m\u001b[0;34m,\u001b[0m \u001b[0msaturation\u001b[0m\u001b[0;34m)\u001b[0m\u001b[0;34m\u001b[0m\u001b[0;34m\u001b[0m\u001b[0m\n\u001b[0m\u001b[1;32m   1609\u001b[0m         \u001b[0mself\u001b[0m\u001b[0;34m.\u001b[0m\u001b[0mestimate_statistic\u001b[0m\u001b[0;34m(\u001b[0m\u001b[0mestimator\u001b[0m\u001b[0;34m,\u001b[0m \u001b[0mci\u001b[0m\u001b[0;34m,\u001b[0m \u001b[0mn_boot\u001b[0m\u001b[0;34m)\u001b[0m\u001b[0;34m\u001b[0m\u001b[0;34m\u001b[0m\u001b[0m\n\u001b[1;32m   1610\u001b[0m \u001b[0;34m\u001b[0m\u001b[0m\n",
      "\u001b[0;32m~/opt/miniconda3/envs/rf/lib/python3.7/site-packages/seaborn/categorical.py\u001b[0m in \u001b[0;36mestablish_colors\u001b[0;34m(self, color, palette, saturation)\u001b[0m\n\u001b[1;32m    313\u001b[0m         \u001b[0;31m# Determine the gray color to use for the lines framing the plot\u001b[0m\u001b[0;34m\u001b[0m\u001b[0;34m\u001b[0m\u001b[0;34m\u001b[0m\u001b[0m\n\u001b[1;32m    314\u001b[0m         \u001b[0mlight_vals\u001b[0m \u001b[0;34m=\u001b[0m \u001b[0;34m[\u001b[0m\u001b[0mcolorsys\u001b[0m\u001b[0;34m.\u001b[0m\u001b[0mrgb_to_hls\u001b[0m\u001b[0;34m(\u001b[0m\u001b[0;34m*\u001b[0m\u001b[0mc\u001b[0m\u001b[0;34m)\u001b[0m\u001b[0;34m[\u001b[0m\u001b[0;36m1\u001b[0m\u001b[0;34m]\u001b[0m \u001b[0;32mfor\u001b[0m \u001b[0mc\u001b[0m \u001b[0;32min\u001b[0m \u001b[0mrgb_colors\u001b[0m\u001b[0;34m]\u001b[0m\u001b[0;34m\u001b[0m\u001b[0;34m\u001b[0m\u001b[0m\n\u001b[0;32m--> 315\u001b[0;31m         \u001b[0mlum\u001b[0m \u001b[0;34m=\u001b[0m \u001b[0mmin\u001b[0m\u001b[0;34m(\u001b[0m\u001b[0mlight_vals\u001b[0m\u001b[0;34m)\u001b[0m \u001b[0;34m*\u001b[0m \u001b[0;36m.6\u001b[0m\u001b[0;34m\u001b[0m\u001b[0;34m\u001b[0m\u001b[0m\n\u001b[0m\u001b[1;32m    316\u001b[0m         \u001b[0mgray\u001b[0m \u001b[0;34m=\u001b[0m \u001b[0mmpl\u001b[0m\u001b[0;34m.\u001b[0m\u001b[0mcolors\u001b[0m\u001b[0;34m.\u001b[0m\u001b[0mrgb2hex\u001b[0m\u001b[0;34m(\u001b[0m\u001b[0;34m(\u001b[0m\u001b[0mlum\u001b[0m\u001b[0;34m,\u001b[0m \u001b[0mlum\u001b[0m\u001b[0;34m,\u001b[0m \u001b[0mlum\u001b[0m\u001b[0;34m)\u001b[0m\u001b[0;34m)\u001b[0m\u001b[0;34m\u001b[0m\u001b[0;34m\u001b[0m\u001b[0m\n\u001b[1;32m    317\u001b[0m \u001b[0;34m\u001b[0m\u001b[0m\n",
      "\u001b[0;31mValueError\u001b[0m: min() arg is an empty sequence"
     ]
    },
    {
     "data": {
      "image/png": "[encoded data removed]",
      "text/plain": [
       "<Figure size 864x720 with 1 Axes>"
      ]
     },
     "metadata": {
      "needs_background": "light"
     },
     "output_type": "display_data"
    }
   ],
   "source": [
    "plot_candidate_sum_by_class(\n",
    "    df = df_thrips,\n",
    "    class_col = \"thrips\",\n",
    "    significant=signif.index.values\n",
    ")"
   ]
  },
  {
   "cell_type": "markdown",
   "metadata": {},
   "source": [
    "# Export results"
   ]
  },
  {
   "cell_type": "code",
   "execution_count": 15,
   "metadata": {},
   "outputs": [],
   "source": [
    "# write to table\n",
    "signif.to_csv(\"../Table3/acylsugar_backbone_vs_thrips.tsv\",sep=\"\\t\")"
   ]
  },
  {
   "cell_type": "code",
   "execution_count": 16,
   "metadata": {},
   "outputs": [
    {
     "ename": "ValueError",
     "evalue": "min() arg is an empty sequence",
     "output_type": "error",
     "traceback": [
      "\u001b[0;31m---------------------------------------------------------------------------\u001b[0m",
      "\u001b[0;31mValueError\u001b[0m                                Traceback (most recent call last)",
      "\u001b[0;32m<ipython-input-16-7ef98a7f3ce2>\u001b[0m in \u001b[0;36m<module>\u001b[0;34m\u001b[0m\n\u001b[1;32m      3\u001b[0m    \u001b[0mdf\u001b[0m \u001b[0;34m=\u001b[0m \u001b[0mdf_thrips\u001b[0m\u001b[0;34m,\u001b[0m\u001b[0;34m\u001b[0m\u001b[0;34m\u001b[0m\u001b[0m\n\u001b[1;32m      4\u001b[0m    \u001b[0mclass_col\u001b[0m \u001b[0;34m=\u001b[0m \u001b[0;34m\"thrips\"\u001b[0m\u001b[0;34m,\u001b[0m\u001b[0;34m\u001b[0m\u001b[0;34m\u001b[0m\u001b[0m\n\u001b[0;32m----> 5\u001b[0;31m    \u001b[0msignificant\u001b[0m\u001b[0;34m=\u001b[0m\u001b[0msignif\u001b[0m\u001b[0;34m.\u001b[0m\u001b[0mindex\u001b[0m\u001b[0;34m.\u001b[0m\u001b[0mvalues\u001b[0m\u001b[0;34m\u001b[0m\u001b[0;34m\u001b[0m\u001b[0m\n\u001b[0m\u001b[1;32m      6\u001b[0m )\n\u001b[1;32m      7\u001b[0m \u001b[0mplt\u001b[0m\u001b[0;34m.\u001b[0m\u001b[0msavefig\u001b[0m\u001b[0;34m(\u001b[0m\u001b[0;34m'Figure5F_acylsugar_backbone_vs_thrips.png'\u001b[0m\u001b[0;34m,\u001b[0m\u001b[0mformat\u001b[0m\u001b[0;34m=\u001b[0m\u001b[0;34m'png'\u001b[0m\u001b[0;34m)\u001b[0m\u001b[0;34m\u001b[0m\u001b[0;34m\u001b[0m\u001b[0m\n",
      "\u001b[0;32m~/Documents/workspace/natural-insecticides-thrips-whiteflies/Random_Forest/helper_functions.py\u001b[0m in \u001b[0;36mplot_candidate_sum_by_class\u001b[0;34m(df, class_col, significant, ax)\u001b[0m\n\u001b[1;32m    352\u001b[0m     \u001b[0mfig\u001b[0m\u001b[0;34m,\u001b[0m \u001b[0max\u001b[0m \u001b[0;34m=\u001b[0m \u001b[0mplt\u001b[0m\u001b[0;34m.\u001b[0m\u001b[0msubplots\u001b[0m\u001b[0;34m(\u001b[0m\u001b[0mfigsize\u001b[0m\u001b[0;34m=\u001b[0m\u001b[0;34m(\u001b[0m\u001b[0;36m12\u001b[0m\u001b[0;34m,\u001b[0m\u001b[0;36m10\u001b[0m\u001b[0;34m)\u001b[0m\u001b[0;34m)\u001b[0m\u001b[0;34m\u001b[0m\u001b[0;34m\u001b[0m\u001b[0m\n\u001b[1;32m    353\u001b[0m     \u001b[0max\u001b[0m\u001b[0;34m.\u001b[0m\u001b[0mset_xscale\u001b[0m\u001b[0;34m(\u001b[0m\u001b[0;34m\"log\"\u001b[0m\u001b[0;34m,\u001b[0m\u001b[0mbasex\u001b[0m\u001b[0;34m=\u001b[0m\u001b[0;36m2\u001b[0m\u001b[0;34m)\u001b[0m\u001b[0;34m\u001b[0m\u001b[0;34m\u001b[0m\u001b[0m\n\u001b[0;32m--> 354\u001b[0;31m     \u001b[0;32mreturn\u001b[0m \u001b[0msns\u001b[0m\u001b[0;34m.\u001b[0m\u001b[0mbarplot\u001b[0m\u001b[0;34m(\u001b[0m\u001b[0mx\u001b[0m\u001b[0;34m=\u001b[0m\u001b[0;34m\"value\"\u001b[0m\u001b[0;34m,\u001b[0m\u001b[0my\u001b[0m\u001b[0;34m=\u001b[0m\u001b[0;34m\"candidate\"\u001b[0m\u001b[0;34m,\u001b[0m\u001b[0mhue\u001b[0m\u001b[0;34m=\u001b[0m\u001b[0;34m\"class\"\u001b[0m\u001b[0;34m,\u001b[0m\u001b[0mdata\u001b[0m\u001b[0;34m=\u001b[0m\u001b[0msumByClass\u001b[0m\u001b[0;34m,\u001b[0m\u001b[0max\u001b[0m\u001b[0;34m=\u001b[0m\u001b[0max\u001b[0m\u001b[0;34m)\u001b[0m\u001b[0;34m\u001b[0m\u001b[0;34m\u001b[0m\u001b[0m\n\u001b[0m\u001b[1;32m    355\u001b[0m \u001b[0;34m\u001b[0m\u001b[0m\n\u001b[1;32m    356\u001b[0m \u001b[0;32mdef\u001b[0m \u001b[0mget_sum_by_class_df\u001b[0m\u001b[0;34m(\u001b[0m\u001b[0mdf\u001b[0m\u001b[0;34m,\u001b[0m\u001b[0mclass_col\u001b[0m\u001b[0;34m=\u001b[0m\u001b[0;34m\"wf\"\u001b[0m\u001b[0;34m,\u001b[0m\u001b[0msignificant\u001b[0m\u001b[0;34m=\u001b[0m\u001b[0;34m\"signif.index.values\"\u001b[0m\u001b[0;34m,\u001b[0m\u001b[0max\u001b[0m\u001b[0;34m=\u001b[0m\u001b[0;32mNone\u001b[0m\u001b[0;34m)\u001b[0m\u001b[0;34m:\u001b[0m\u001b[0;34m\u001b[0m\u001b[0;34m\u001b[0m\u001b[0m\n",
      "\u001b[0;32m~/opt/miniconda3/envs/rf/lib/python3.7/site-packages/seaborn/categorical.py\u001b[0m in \u001b[0;36mbarplot\u001b[0;34m(x, y, hue, data, order, hue_order, estimator, ci, n_boot, units, orient, color, palette, saturation, errcolor, errwidth, capsize, dodge, ax, **kwargs)\u001b[0m\n\u001b[1;32m   3147\u001b[0m                           \u001b[0mestimator\u001b[0m\u001b[0;34m,\u001b[0m \u001b[0mci\u001b[0m\u001b[0;34m,\u001b[0m \u001b[0mn_boot\u001b[0m\u001b[0;34m,\u001b[0m \u001b[0munits\u001b[0m\u001b[0;34m,\u001b[0m\u001b[0;34m\u001b[0m\u001b[0;34m\u001b[0m\u001b[0m\n\u001b[1;32m   3148\u001b[0m                           \u001b[0morient\u001b[0m\u001b[0;34m,\u001b[0m \u001b[0mcolor\u001b[0m\u001b[0;34m,\u001b[0m \u001b[0mpalette\u001b[0m\u001b[0;34m,\u001b[0m \u001b[0msaturation\u001b[0m\u001b[0;34m,\u001b[0m\u001b[0;34m\u001b[0m\u001b[0;34m\u001b[0m\u001b[0m\n\u001b[0;32m-> 3149\u001b[0;31m                           errcolor, errwidth, capsize, dodge)\n\u001b[0m\u001b[1;32m   3150\u001b[0m \u001b[0;34m\u001b[0m\u001b[0m\n\u001b[1;32m   3151\u001b[0m     \u001b[0;32mif\u001b[0m \u001b[0max\u001b[0m \u001b[0;32mis\u001b[0m \u001b[0;32mNone\u001b[0m\u001b[0;34m:\u001b[0m\u001b[0;34m\u001b[0m\u001b[0;34m\u001b[0m\u001b[0m\n",
      "\u001b[0;32m~/opt/miniconda3/envs/rf/lib/python3.7/site-packages/seaborn/categorical.py\u001b[0m in \u001b[0;36m__init__\u001b[0;34m(self, x, y, hue, data, order, hue_order, estimator, ci, n_boot, units, orient, color, palette, saturation, errcolor, errwidth, capsize, dodge)\u001b[0m\n\u001b[1;32m   1606\u001b[0m         self.establish_variables(x, y, hue, data, orient,\n\u001b[1;32m   1607\u001b[0m                                  order, hue_order, units)\n\u001b[0;32m-> 1608\u001b[0;31m         \u001b[0mself\u001b[0m\u001b[0;34m.\u001b[0m\u001b[0mestablish_colors\u001b[0m\u001b[0;34m(\u001b[0m\u001b[0mcolor\u001b[0m\u001b[0;34m,\u001b[0m \u001b[0mpalette\u001b[0m\u001b[0;34m,\u001b[0m \u001b[0msaturation\u001b[0m\u001b[0;34m)\u001b[0m\u001b[0;34m\u001b[0m\u001b[0;34m\u001b[0m\u001b[0m\n\u001b[0m\u001b[1;32m   1609\u001b[0m         \u001b[0mself\u001b[0m\u001b[0;34m.\u001b[0m\u001b[0mestimate_statistic\u001b[0m\u001b[0;34m(\u001b[0m\u001b[0mestimator\u001b[0m\u001b[0;34m,\u001b[0m \u001b[0mci\u001b[0m\u001b[0;34m,\u001b[0m \u001b[0mn_boot\u001b[0m\u001b[0;34m)\u001b[0m\u001b[0;34m\u001b[0m\u001b[0;34m\u001b[0m\u001b[0m\n\u001b[1;32m   1610\u001b[0m \u001b[0;34m\u001b[0m\u001b[0m\n",
      "\u001b[0;32m~/opt/miniconda3/envs/rf/lib/python3.7/site-packages/seaborn/categorical.py\u001b[0m in \u001b[0;36mestablish_colors\u001b[0;34m(self, color, palette, saturation)\u001b[0m\n\u001b[1;32m    313\u001b[0m         \u001b[0;31m# Determine the gray color to use for the lines framing the plot\u001b[0m\u001b[0;34m\u001b[0m\u001b[0;34m\u001b[0m\u001b[0;34m\u001b[0m\u001b[0m\n\u001b[1;32m    314\u001b[0m         \u001b[0mlight_vals\u001b[0m \u001b[0;34m=\u001b[0m \u001b[0;34m[\u001b[0m\u001b[0mcolorsys\u001b[0m\u001b[0;34m.\u001b[0m\u001b[0mrgb_to_hls\u001b[0m\u001b[0;34m(\u001b[0m\u001b[0;34m*\u001b[0m\u001b[0mc\u001b[0m\u001b[0;34m)\u001b[0m\u001b[0;34m[\u001b[0m\u001b[0;36m1\u001b[0m\u001b[0;34m]\u001b[0m \u001b[0;32mfor\u001b[0m \u001b[0mc\u001b[0m \u001b[0;32min\u001b[0m \u001b[0mrgb_colors\u001b[0m\u001b[0;34m]\u001b[0m\u001b[0;34m\u001b[0m\u001b[0;34m\u001b[0m\u001b[0m\n\u001b[0;32m--> 315\u001b[0;31m         \u001b[0mlum\u001b[0m \u001b[0;34m=\u001b[0m \u001b[0mmin\u001b[0m\u001b[0;34m(\u001b[0m\u001b[0mlight_vals\u001b[0m\u001b[0;34m)\u001b[0m \u001b[0;34m*\u001b[0m \u001b[0;36m.6\u001b[0m\u001b[0;34m\u001b[0m\u001b[0;34m\u001b[0m\u001b[0m\n\u001b[0m\u001b[1;32m    316\u001b[0m         \u001b[0mgray\u001b[0m \u001b[0;34m=\u001b[0m \u001b[0mmpl\u001b[0m\u001b[0;34m.\u001b[0m\u001b[0mcolors\u001b[0m\u001b[0;34m.\u001b[0m\u001b[0mrgb2hex\u001b[0m\u001b[0;34m(\u001b[0m\u001b[0;34m(\u001b[0m\u001b[0mlum\u001b[0m\u001b[0;34m,\u001b[0m \u001b[0mlum\u001b[0m\u001b[0;34m,\u001b[0m \u001b[0mlum\u001b[0m\u001b[0;34m)\u001b[0m\u001b[0;34m)\u001b[0m\u001b[0;34m\u001b[0m\u001b[0;34m\u001b[0m\u001b[0m\n\u001b[1;32m    317\u001b[0m \u001b[0;34m\u001b[0m\u001b[0m\n",
      "\u001b[0;31mValueError\u001b[0m: min() arg is an empty sequence"
     ]
    },
    {
     "data": {
      "image/png": "[encoded data removed]",
      "text/plain": [
       "<Figure size 864x720 with 1 Axes>"
      ]
     },
     "metadata": {
      "needs_background": "light"
     },
     "output_type": "display_data"
    }
   ],
   "source": [
    "# save barplot figure\n",
    "plot_candidate_sum_by_class(\n",
    "   df = df_thrips,\n",
    "   class_col = \"thrips\",\n",
    "   significant=signif.index.values\n",
    ")\n",
    "plt.savefig('Figure5F_acylsugar_backbone_vs_thrips.png',format='png')\n",
    "plt.savefig('Figure5F_acylsugar_backbone_vs_thrips.svg',format='svg')"
   ]
  },
  {
   "cell_type": "code",
   "execution_count": null,
   "metadata": {},
   "outputs": [],
   "source": []
  }
 ],
 "metadata": {
  "kernelspec": {
   "display_name": "Python 3",
   "language": "python",
   "name": "python3"
  },
  "language_info": {
   "codemirror_mode": {
    "name": "ipython",
    "version": 3
   },
   "file_extension": ".py",
   "mimetype": "text/x-python",
   "name": "python",
   "nbconvert_exporter": "python",
   "pygments_lexer": "ipython3",
   "version": "3.7.1"
  },
  "toc": {
   "base_numbering": 1,
   "nav_menu": {},
   "number_sections": true,
   "sideBar": true,
   "skip_h1_title": false,
   "title_cell": "Table of Contents",
   "title_sidebar": "Contents",
   "toc_cell": true,
   "toc_position": {},
   "toc_section_display": true,
   "toc_window_display": false
  }
 },
 "nbformat": 4,
 "nbformat_minor": 4
}
