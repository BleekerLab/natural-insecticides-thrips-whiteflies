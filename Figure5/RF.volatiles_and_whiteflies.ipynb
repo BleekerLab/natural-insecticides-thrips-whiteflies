{
 "cells": [
  {
   "cell_type": "markdown",
   "metadata": {
    "toc": true
   },
   "source": [
    "<h1>Table of Contents<span class=\"tocSkip\"></span></h1>\n",
    "<div class=\"toc\"><ul class=\"toc-item\"><li><span><a href=\"#Data-import\" data-toc-modified-id=\"Data-import-1\"><span class=\"toc-item-num\">1&nbsp;&nbsp;</span>Data import</a></span></li><li><span><a href=\"#Random-Forest-analysis\" data-toc-modified-id=\"Random-Forest-analysis-2\"><span class=\"toc-item-num\">2&nbsp;&nbsp;</span>Random Forest analysis</a></span><ul class=\"toc-item\"><li><span><a href=\"#get-the-X-and-y-arrays\" data-toc-modified-id=\"get-the-X-and-y-arrays-2.1\"><span class=\"toc-item-num\">2.1&nbsp;&nbsp;</span>get the X and y arrays</a></span></li><li><span><a href=\"#Extract-feature-importance-from-the-RF-runs\" data-toc-modified-id=\"Extract-feature-importance-from-the-RF-runs-2.2\"><span class=\"toc-item-num\">2.2&nbsp;&nbsp;</span>Extract feature importance from the RF runs</a></span></li><li><span><a href=\"#Permutations-to-extract-p-values-for-each-metabolite\" data-toc-modified-id=\"Permutations-to-extract-p-values-for-each-metabolite-2.3\"><span class=\"toc-item-num\">2.3&nbsp;&nbsp;</span>Permutations to extract p-values for each metabolite</a></span></li><li><span><a href=\"#Calculate-p-values\" data-toc-modified-id=\"Calculate-p-values-2.4\"><span class=\"toc-item-num\">2.4&nbsp;&nbsp;</span>Calculate p-values</a></span></li><li><span><a href=\"#Write-final-results-to-file\" data-toc-modified-id=\"Write-final-results-to-file-2.5\"><span class=\"toc-item-num\">2.5&nbsp;&nbsp;</span>Write final results to file</a></span></li></ul></li><li><span><a href=\"#Plots-(heatmap-and-sum-by-class)\" data-toc-modified-id=\"Plots-(heatmap-and-sum-by-class)-3\"><span class=\"toc-item-num\">3&nbsp;&nbsp;</span>Plots (heatmap and sum by class)</a></span><ul class=\"toc-item\"><li><span><a href=\"#Heatmap\" data-toc-modified-id=\"Heatmap-3.1\"><span class=\"toc-item-num\">3.1&nbsp;&nbsp;</span>Heatmap</a></span></li><li><span><a href=\"#Make-plots-for-each-candidate-summing-over-the-class\" data-toc-modified-id=\"Make-plots-for-each-candidate-summing-over-the-class-3.2\"><span class=\"toc-item-num\">3.2&nbsp;&nbsp;</span>Make plots for each candidate summing over the class</a></span></li></ul></li><li><span><a href=\"#Step-wise-selection\" data-toc-modified-id=\"Step-wise-selection-4\"><span class=\"toc-item-num\">4&nbsp;&nbsp;</span>Step-wise selection</a></span><ul class=\"toc-item\"><li><span><a href=\"#Find-candidates-to-be-removed\" data-toc-modified-id=\"Find-candidates-to-be-removed-4.1\"><span class=\"toc-item-num\">4.1&nbsp;&nbsp;</span>Find candidates to be removed</a></span></li><li><span><a href=\"#Random-Forest-run\" data-toc-modified-id=\"Random-Forest-run-4.2\"><span class=\"toc-item-num\">4.2&nbsp;&nbsp;</span>Random Forest run</a></span></li><li><span><a href=\"#Permutations\" data-toc-modified-id=\"Permutations-4.3\"><span class=\"toc-item-num\">4.3&nbsp;&nbsp;</span>Permutations</a></span></li><li><span><a href=\"#p-values\" data-toc-modified-id=\"p-values-4.4\"><span class=\"toc-item-num\">4.4&nbsp;&nbsp;</span>p-values</a></span></li><li><span><a href=\"#Plots\" data-toc-modified-id=\"Plots-4.5\"><span class=\"toc-item-num\">4.5&nbsp;&nbsp;</span>Plots</a></span></li></ul></li></ul></div>"
   ]
  },
  {
   "cell_type": "code",
   "execution_count": 1,
   "metadata": {},
   "outputs": [],
   "source": [
    "import matplotlib.pyplot as plt\n",
    "import seaborn as sns\n",
    "%matplotlib inline\n",
    "import pandas as pd\n",
    "import numpy as np\n",
    "\n",
    "from sklearn.model_selection import KFold\n",
    "from sklearn.model_selection import StratifiedKFold\n",
    "from sklearn.ensemble import RandomForestClassifier\n",
    "import random \n",
    "\n",
    "# custom functions\n",
    "from helper_functions import extract_feature_importance_avg_and_sd_from_multiple_random_forest_runs\n",
    "from helper_functions import extract_feature_importances_from_random_forests_on_permuted_y\n",
    "from helper_functions import get_significant_features\n",
    "from helper_functions import plot_candidate_heatmap\n",
    "from helper_functions import plot_candidate_sum_by_class\n",
    "from helper_functions import get_sum_by_class_df\n",
    "\n",
    "\n",
    "\n",
    "\n",
    "from helper_functions import single_random_forest_run"
   ]
  },
  {
   "cell_type": "markdown",
   "metadata": {},
   "source": [
    "# Data import"
   ]
  },
  {
   "cell_type": "code",
   "execution_count": 2,
   "metadata": {},
   "outputs": [],
   "source": [
    "df = pd.read_csv(\"pheno_terpenoids.tsv\",sep=\"\\t\",index_col=0)"
   ]
  },
  {
   "cell_type": "markdown",
   "metadata": {},
   "source": [
    "# Random Forest analysis "
   ]
  },
  {
   "cell_type": "markdown",
   "metadata": {},
   "source": [
    "## get the X and y arrays"
   ]
  },
  {
   "cell_type": "code",
   "execution_count": 3,
   "metadata": {},
   "outputs": [],
   "source": [
    "# get whitefly classes\n",
    "y = df[\"wf\"].tolist()\n",
    "stratify_info = df['wf'].map({'non-toxic': 0, 'toxic': 1})\n",
    "\n",
    "# get matrix X of volatile values\n",
    "X = df.iloc[:,2:]"
   ]
  },
  {
   "cell_type": "markdown",
   "metadata": {},
   "source": [
    "## Extract feature importance from the RF runs"
   ]
  },
  {
   "cell_type": "code",
   "execution_count": 4,
   "metadata": {
    "scrolled": true
   },
   "outputs": [],
   "source": [
    "# generates a list with three elements\n",
    "# first element average of the feature importance \n",
    "# second element standard deviation of the feature importance\n",
    "# third element accuracy score of the Random Forest model\n",
    "feature_importances = extract_feature_importance_avg_and_sd_from_multiple_random_forest_runs(\n",
    "    X,\n",
    "    y,\n",
    "    nb_of_splits=6,\n",
    "    nb_of_trees=1000,\n",
    "    nb_of_runs=5,\n",
    "    njobs=2\n",
    ")"
   ]
  },
  {
   "cell_type": "code",
   "execution_count": 5,
   "metadata": {},
   "outputs": [
    {
     "name": "stdout",
     "output_type": "stream",
     "text": [
      "This is the global accuracy score of the model: 0.74\n"
     ]
    }
   ],
   "source": [
    "# accuracy score of the model\n",
    "print(\"This is the global accuracy score of the model:\",feature_importances[2])"
   ]
  },
  {
   "cell_type": "markdown",
   "metadata": {},
   "source": [
    "## Permutations to extract p-values for each metabolite "
   ]
  },
  {
   "cell_type": "code",
   "execution_count": 6,
   "metadata": {},
   "outputs": [],
   "source": [
    "# compute feature importances based on permuted y values\n",
    "feature_importance_perm = extract_feature_importances_from_random_forests_on_permuted_y(\n",
    "    X,\n",
    "    y,\n",
    "    nb_of_splits=6,\n",
    "    nb_of_trees=1000,\n",
    "    nperm=200,\n",
    "    randomSeed=1234,\n",
    "    njobs=2\n",
    ")"
   ]
  },
  {
   "cell_type": "markdown",
   "metadata": {},
   "source": [
    "## Calculate p-values\n",
    "\n",
    "**How?** By comparing the average feature importance from the original dataset to the distribution of feature importance based on N permutations.   "
   ]
  },
  {
   "cell_type": "code",
   "execution_count": 7,
   "metadata": {},
   "outputs": [],
   "source": [
    "all_pvalues = get_significant_features(X,\n",
    "                                  original_feature_importances=feature_importances,\n",
    "                                  permuted_feature_importances=feature_importance_perm,\n",
    "                                  pval=0.05)"
   ]
  },
  {
   "cell_type": "code",
   "execution_count": 8,
   "metadata": {},
   "outputs": [
    {
     "data": {
      "image/png": "[encoded data removed]",
      "text/plain": [
       "<Figure size 432x288 with 1 Axes>"
      ]
     },
     "metadata": {
      "needs_background": "light"
     },
     "output_type": "display_data"
    }
   ],
   "source": [
    "sns.distplot(all_pvalues.iloc[:,0].astype('float'),20)\n",
    "plt.title('Distribution of observed p-values');"
   ]
  },
  {
   "cell_type": "markdown",
   "metadata": {},
   "source": [
    "## Write final results to file"
   ]
  },
  {
   "cell_type": "code",
   "execution_count": 9,
   "metadata": {},
   "outputs": [
    {
     "name": "stdout",
     "output_type": "stream",
     "text": [
      "6 significant candidates were identified\n"
     ]
    }
   ],
   "source": [
    "# Select significant variables\n",
    "signif = all_pvalues.loc[all_pvalues.iloc[:,0]<0.05,:]\n",
    "print(signif.shape[0],\"significant candidates were identified\")"
   ]
  },
  {
   "cell_type": "code",
   "execution_count": 10,
   "metadata": {},
   "outputs": [],
   "source": [
    "# write to table\n",
    "signif.to_csv(\"../Table2/candidates_volatiles_vs_whiteflies.tsv\",sep=\"\\t\")"
   ]
  },
  {
   "cell_type": "markdown",
   "metadata": {},
   "source": [
    "# Plots (heatmap and sum by class)"
   ]
  },
  {
   "cell_type": "markdown",
   "metadata": {},
   "source": [
    "## Heatmap\n",
    "To display a heatmap that shows the rows of the non-toxic genotypes followed by the rows of the toxic genotypes."
   ]
  },
  {
   "cell_type": "code",
   "execution_count": 11,
   "metadata": {},
   "outputs": [
    {
     "data": {
      "text/plain": [
       "<matplotlib.axes._subplots.AxesSubplot at 0x1a2232a908>"
      ]
     },
     "execution_count": 11,
     "metadata": {},
     "output_type": "execute_result"
    },
    {
     "data": {
      "image/png": "[encoded data removed]",
      "text/plain": [
       "<Figure size 432x288 with 2 Axes>"
      ]
     },
     "metadata": {
      "needs_background": "light"
     },
     "output_type": "display_data"
    }
   ],
   "source": [
    "# drops the thrips columns\n",
    "df_wf = df.drop(\"thrips\",axis=1) \n",
    "\n",
    "# plot\n",
    "plot_candidate_heatmap(\n",
    "    df=df_wf,\n",
    "    class_col=\"wf\",\n",
    "    significant=signif.index.values,\n",
    "    log=True\n",
    ")"
   ]
  },
  {
   "cell_type": "markdown",
   "metadata": {},
   "source": [
    "## Make plots for each candidate summing over the class"
   ]
  },
  {
   "cell_type": "code",
   "execution_count": 12,
   "metadata": {},
   "outputs": [
    {
     "data": {
      "text/plain": [
       "<matplotlib.axes._subplots.AxesSubplot at 0x1a226b1940>"
      ]
     },
     "execution_count": 12,
     "metadata": {},
     "output_type": "execute_result"
    },
    {
     "data": {
      "image/png": "[encoded data removed]",
      "text/plain": [
       "<Figure size 864x720 with 1 Axes>"
      ]
     },
     "metadata": {
      "needs_background": "light"
     },
     "output_type": "display_data"
    }
   ],
   "source": [
    "plot_candidate_sum_by_class(\n",
    "    df = df_wf,\n",
    "    class_col = \"wf\",\n",
    "    significant=signif.index.values\n",
    ")"
   ]
  },
  {
   "cell_type": "markdown",
   "metadata": {},
   "source": [
    "# Step-wise selection\n",
    "\n",
    "This analysis is different because we will use a filtered dataset based on the results using the original, non-filtered dataset.\n",
    "\n",
    "Significant volatiles that are only detected in the whitefly *non-toxic* class are taken out from the original dataset. That is, their abundance in the *toxic* class should be equal to 0 (not detected in the toxic genotypes).\n",
    "\n",
    "Indeed, these volatiles are too discriminant between the two classes and thus these volatiles get a very high feature importance. As the goal of this analysis is also to get significant volatiles that are either present in both classes (but quantitatively different) or only detectable in the *toxic* class. \n",
    "\n",
    "**Which of the candidate have a value close to 0 in the toxic class but a value > 0 in the non-toxic class?**\n",
    "To answer this, I can calculate the ratio of the candidates abundances in the non-toxic class and divide it by its abundance in the toxic class. A high ratio would suggest that the compound is almost exclusively present in the non-toxic genotypes. "
   ]
  },
  {
   "cell_type": "markdown",
   "metadata": {},
   "source": [
    "## Find candidates to be removed"
   ]
  },
  {
   "cell_type": "code",
   "execution_count": 13,
   "metadata": {},
   "outputs": [],
   "source": [
    "# getting candidates with a high non-toxic to toxic ratio\n",
    "ratio_threshold = 10"
   ]
  },
  {
   "cell_type": "code",
   "execution_count": 14,
   "metadata": {},
   "outputs": [
    {
     "data": {
      "text/html": [
       "<div>\n",
       "<style scoped>\n",
       "    .dataframe tbody tr th:only-of-type {\n",
       "        vertical-align: middle;\n",
       "    }\n",
       "\n",
       "    .dataframe tbody tr th {\n",
       "        vertical-align: top;\n",
       "    }\n",
       "\n",
       "    .dataframe thead th {\n",
       "        text-align: right;\n",
       "    }\n",
       "</style>\n",
       "<table border=\"1\" class=\"dataframe\">\n",
       "  <thead>\n",
       "    <tr style=\"text-align: right;\">\n",
       "      <th>class</th>\n",
       "      <th>non-toxic</th>\n",
       "      <th>toxic</th>\n",
       "      <th>ratio</th>\n",
       "    </tr>\n",
       "    <tr>\n",
       "      <th>candidate</th>\n",
       "      <th></th>\n",
       "      <th></th>\n",
       "      <th></th>\n",
       "    </tr>\n",
       "  </thead>\n",
       "  <tbody>\n",
       "    <tr>\n",
       "      <th>14.572_91.0565</th>\n",
       "      <td>7.552164e+04</td>\n",
       "      <td>3.477586e+04</td>\n",
       "      <td>2.171668</td>\n",
       "    </tr>\n",
       "    <tr>\n",
       "      <th>15.562_91.0570</th>\n",
       "      <td>1.429277e+04</td>\n",
       "      <td>0.000000e+00</td>\n",
       "      <td>inf</td>\n",
       "    </tr>\n",
       "    <tr>\n",
       "      <th>20.136_79.0560</th>\n",
       "      <td>4.238272e+03</td>\n",
       "      <td>0.000000e+00</td>\n",
       "      <td>inf</td>\n",
       "    </tr>\n",
       "    <tr>\n",
       "      <th>24.707_93.0725</th>\n",
       "      <td>1.287497e+06</td>\n",
       "      <td>1.164370e+05</td>\n",
       "      <td>11.057457</td>\n",
       "    </tr>\n",
       "    <tr>\n",
       "      <th>25.356_105.0726</th>\n",
       "      <td>4.826327e+05</td>\n",
       "      <td>7.559031e+06</td>\n",
       "      <td>0.063848</td>\n",
       "    </tr>\n",
       "    <tr>\n",
       "      <th>5.541_67.0557</th>\n",
       "      <td>2.471935e+05</td>\n",
       "      <td>1.869883e+04</td>\n",
       "      <td>13.219731</td>\n",
       "    </tr>\n",
       "  </tbody>\n",
       "</table>\n",
       "</div>"
      ],
      "text/plain": [
       "class                non-toxic         toxic      ratio\n",
       "candidate                                              \n",
       "14.572_91.0565    7.552164e+04  3.477586e+04   2.171668\n",
       "15.562_91.0570    1.429277e+04  0.000000e+00        inf\n",
       "20.136_79.0560    4.238272e+03  0.000000e+00        inf\n",
       "24.707_93.0725    1.287497e+06  1.164370e+05  11.057457\n",
       "25.356_105.0726   4.826327e+05  7.559031e+06   0.063848\n",
       "5.541_67.0557     2.471935e+05  1.869883e+04  13.219731"
      ]
     },
     "execution_count": 14,
     "metadata": {},
     "output_type": "execute_result"
    }
   ],
   "source": [
    "# get the sumByClass dataframe\n",
    "sumByClass = get_sum_by_class_df(df_wf,class_col=\"wf\",significant=signif.index.values)\n",
    "\n",
    "# calculating the ratio \n",
    "sumByClass[\"ratio\"] = sumByClass[\"non-toxic\"] / sumByClass[\"toxic\"]\n",
    "\n",
    "sumByClass"
   ]
  },
  {
   "cell_type": "code",
   "execution_count": 15,
   "metadata": {},
   "outputs": [
    {
     "data": {
      "text/plain": [
       "['15.562_91.0570 ', '20.136_79.0560 ', '24.707_93.0725 ', '5.541_67.0557 ']"
      ]
     },
     "execution_count": 15,
     "metadata": {},
     "output_type": "execute_result"
    }
   ],
   "source": [
    "# which variables should be dropped?\n",
    "candidates_to_drop = sumByClass[sumByClass[\"ratio\"] > ratio_threshold].index.get_values().tolist()\n",
    "candidates_to_drop"
   ]
  },
  {
   "cell_type": "code",
   "execution_count": 16,
   "metadata": {
    "scrolled": true
   },
   "outputs": [
    {
     "name": "stdout",
     "output_type": "stream",
     "text": [
      "original dimensions: (19, 89)\n",
      "After dropping variables: dimensions: (19, 85)\n"
     ]
    }
   ],
   "source": [
    "# read original dataframe\n",
    "df = pd.read_csv(\"pheno_terpenoids.tsv\",sep=\"\\t\",index_col=0)\n",
    "print(\"original dimensions:\",df.shape)\n",
    "\n",
    "# drop candidates \n",
    "df_filt = df.drop(columns=candidates_to_drop)\n",
    "print(\"After dropping variables: dimensions:\",df_filt.shape)"
   ]
  },
  {
   "cell_type": "markdown",
   "metadata": {},
   "source": [
    "## Random Forest run "
   ]
  },
  {
   "cell_type": "code",
   "execution_count": 17,
   "metadata": {},
   "outputs": [],
   "source": [
    "# get whitefly classes\n",
    "y = df_filt[\"wf\"].tolist()\n",
    "stratify_info = df_filt['wf'].map({'non-toxic': 0, 'toxic': 1})\n",
    "\n",
    "# get matrix X of volatile values\n",
    "X = df_filt.iloc[:,2:]"
   ]
  },
  {
   "cell_type": "code",
   "execution_count": 18,
   "metadata": {},
   "outputs": [],
   "source": [
    "# generates a list with two elements\n",
    "# first element average feature importance\n",
    "# and second element standard deviation\n",
    "feature_importances = extract_feature_importance_avg_and_sd_from_multiple_random_forest_runs(\n",
    "    X,\n",
    "    y,\n",
    "    nb_of_splits=6,\n",
    "    nb_of_trees=1000,\n",
    "    nb_of_runs=5,\n",
    "    njobs=2\n",
    ")"
   ]
  },
  {
   "cell_type": "markdown",
   "metadata": {},
   "source": [
    "## Permutations"
   ]
  },
  {
   "cell_type": "code",
   "execution_count": null,
   "metadata": {},
   "outputs": [],
   "source": [
    "# compute feature importances based on permuted y values\n",
    "feature_importance_perm = extract_feature_importances_from_random_forests_on_permuted_y(\n",
    "    X,\n",
    "    y,\n",
    "    nb_of_splits=6,\n",
    "    nb_of_trees=1000,\n",
    "    nperm=200,\n",
    "    randomSeed=1234,\n",
    "    njobs=2\n",
    ")"
   ]
  },
  {
   "cell_type": "markdown",
   "metadata": {},
   "source": [
    "## p-values"
   ]
  },
  {
   "cell_type": "code",
   "execution_count": null,
   "metadata": {},
   "outputs": [],
   "source": [
    "all_pvalues = get_significant_features(X,\n",
    "                                  original_feature_importances=feature_importances,\n",
    "                                  permuted_feature_importances=feature_importance_perm,\n",
    "                                  pval=0.05)\n",
    "\n",
    "# Select significant variables\n",
    "signif = all_pvalues.loc[all_pvalues.iloc[:,0]<0.05,:]"
   ]
  },
  {
   "cell_type": "markdown",
   "metadata": {},
   "source": [
    "## Plots"
   ]
  },
  {
   "cell_type": "code",
   "execution_count": null,
   "metadata": {},
   "outputs": [],
   "source": [
    "# drops the thrips columns\n",
    "df_wf = df_filt.drop(\"thrips\",axis=1) \n",
    "\n",
    "# plot\n",
    "plot_candidate_heatmap(\n",
    "    df=df_wf,\n",
    "    class_col=\"wf\",\n",
    "    significant=signif.index.values,\n",
    "    log=True\n",
    ")"
   ]
  },
  {
   "cell_type": "code",
   "execution_count": null,
   "metadata": {},
   "outputs": [],
   "source": [
    "plot_candidate_sum_by_class(\n",
    "    df = df_wf,\n",
    "    class_col = \"wf\",\n",
    "    significant=signif.index.values\n",
    ")"
   ]
  },
  {
   "cell_type": "code",
   "execution_count": null,
   "metadata": {},
   "outputs": [],
   "source": [
    "print(signif.shape[0],\"significant candidates were identified\")"
   ]
  },
  {
   "cell_type": "code",
   "execution_count": null,
   "metadata": {},
   "outputs": [],
   "source": []
  }
 ],
 "metadata": {
  "kernelspec": {
   "display_name": "Python 3",
   "language": "python",
   "name": "python3"
  },
  "language_info": {
   "codemirror_mode": {
    "name": "ipython",
    "version": 3
   },
   "file_extension": ".py",
   "mimetype": "text/x-python",
   "name": "python",
   "nbconvert_exporter": "python",
   "pygments_lexer": "ipython3",
   "version": "3.7.1"
  },
  "toc": {
   "base_numbering": 1,
   "nav_menu": {},
   "number_sections": true,
   "sideBar": true,
   "skip_h1_title": false,
   "title_cell": "Table of Contents",
   "title_sidebar": "Contents",
   "toc_cell": true,
   "toc_position": {},
   "toc_section_display": true,
   "toc_window_display": false
  }
 },
 "nbformat": 4,
 "nbformat_minor": 2
}
