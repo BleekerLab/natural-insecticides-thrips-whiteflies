{
 "cells": [
  {
   "cell_type": "code",
   "execution_count": 13,
   "metadata": {},
   "outputs": [],
   "source": [
    "import matplotlib.pyplot as plt\n",
    "import seaborn as sns\n",
    "%matplotlib inline\n",
    "import pandas as pd\n",
    "import numpy as np\n",
    "\n",
    "from sklearn.model_selection import KFold\n",
    "from sklearn.model_selection import StratifiedKFold\n",
    "from sklearn.ensemble import RandomForestClassifier\n",
    "import random \n"
   ]
  },
  {
   "cell_type": "markdown",
   "metadata": {},
   "source": [
    "# Data import"
   ]
  },
  {
   "cell_type": "code",
   "execution_count": 14,
   "metadata": {},
   "outputs": [
    {
     "data": {
      "text/html": [
       "<div>\n",
       "<style scoped>\n",
       "    .dataframe tbody tr th:only-of-type {\n",
       "        vertical-align: middle;\n",
       "    }\n",
       "\n",
       "    .dataframe tbody tr th {\n",
       "        vertical-align: top;\n",
       "    }\n",
       "\n",
       "    .dataframe thead th {\n",
       "        text-align: right;\n",
       "    }\n",
       "</style>\n",
       "<table border=\"1\" class=\"dataframe\">\n",
       "  <thead>\n",
       "    <tr style=\"text-align: right;\">\n",
       "      <th></th>\n",
       "      <th>wf</th>\n",
       "      <th>thrips</th>\n",
       "      <th>5.541_67.0557</th>\n",
       "      <th>7.060_95.0168</th>\n",
       "      <th>9.272_93.0728</th>\n",
       "      <th>9.472_91.0566</th>\n",
       "      <th>9.653_91.0565</th>\n",
       "      <th>10.148_93.0730</th>\n",
       "      <th>10.581_105.0363</th>\n",
       "      <th>10.873_119.0877</th>\n",
       "      <th>...</th>\n",
       "      <th>26.529_131.0872</th>\n",
       "      <th>26.595_91.0568</th>\n",
       "      <th>26.689_109.1032</th>\n",
       "      <th>26.803_111.0836</th>\n",
       "      <th>26.833_81.0727</th>\n",
       "      <th>27.083_97.0317</th>\n",
       "      <th>27.996_91.0565</th>\n",
       "      <th>28.382_97.0323</th>\n",
       "      <th>30.160_91.0569</th>\n",
       "      <th>32.503_159.8606</th>\n",
       "    </tr>\n",
       "    <tr>\n",
       "      <th>sample</th>\n",
       "      <th></th>\n",
       "      <th></th>\n",
       "      <th></th>\n",
       "      <th></th>\n",
       "      <th></th>\n",
       "      <th></th>\n",
       "      <th></th>\n",
       "      <th></th>\n",
       "      <th></th>\n",
       "      <th></th>\n",
       "      <th></th>\n",
       "      <th></th>\n",
       "      <th></th>\n",
       "      <th></th>\n",
       "      <th></th>\n",
       "      <th></th>\n",
       "      <th></th>\n",
       "      <th></th>\n",
       "      <th></th>\n",
       "      <th></th>\n",
       "      <th></th>\n",
       "    </tr>\n",
       "  </thead>\n",
       "  <tbody>\n",
       "    <tr>\n",
       "      <th>S lyc MM</th>\n",
       "      <td>non-toxic</td>\n",
       "      <td>non-toxic</td>\n",
       "      <td>0.00000</td>\n",
       "      <td>0.0</td>\n",
       "      <td>0.0000</td>\n",
       "      <td>0.000000</td>\n",
       "      <td>88210.77165</td>\n",
       "      <td>0.00000</td>\n",
       "      <td>0.0</td>\n",
       "      <td>32617.13711</td>\n",
       "      <td>...</td>\n",
       "      <td>0.0</td>\n",
       "      <td>0.000</td>\n",
       "      <td>0.0</td>\n",
       "      <td>0.00000</td>\n",
       "      <td>0.00000</td>\n",
       "      <td>0.0</td>\n",
       "      <td>0.0</td>\n",
       "      <td>0.0</td>\n",
       "      <td>0.0</td>\n",
       "      <td>0.0</td>\n",
       "    </tr>\n",
       "    <tr>\n",
       "      <th>S hua LA1364</th>\n",
       "      <td>non-toxic</td>\n",
       "      <td>non-toxic</td>\n",
       "      <td>0.00000</td>\n",
       "      <td>0.0</td>\n",
       "      <td>104528.7520</td>\n",
       "      <td>45335.466500</td>\n",
       "      <td>27304.44693</td>\n",
       "      <td>90430.09761</td>\n",
       "      <td>0.0</td>\n",
       "      <td>0.00000</td>\n",
       "      <td>...</td>\n",
       "      <td>0.0</td>\n",
       "      <td>0.000</td>\n",
       "      <td>0.0</td>\n",
       "      <td>5561.18023</td>\n",
       "      <td>0.00000</td>\n",
       "      <td>0.0</td>\n",
       "      <td>0.0</td>\n",
       "      <td>0.0</td>\n",
       "      <td>0.0</td>\n",
       "      <td>0.0</td>\n",
       "    </tr>\n",
       "    <tr>\n",
       "      <th>S pim LA1578</th>\n",
       "      <td>non-toxic</td>\n",
       "      <td>non-toxic</td>\n",
       "      <td>12809.66965</td>\n",
       "      <td>0.0</td>\n",
       "      <td>0.0000</td>\n",
       "      <td>0.000000</td>\n",
       "      <td>221391.28520</td>\n",
       "      <td>0.00000</td>\n",
       "      <td>0.0</td>\n",
       "      <td>24737.81096</td>\n",
       "      <td>...</td>\n",
       "      <td>0.0</td>\n",
       "      <td>0.000</td>\n",
       "      <td>0.0</td>\n",
       "      <td>9495.49648</td>\n",
       "      <td>0.00000</td>\n",
       "      <td>0.0</td>\n",
       "      <td>0.0</td>\n",
       "      <td>0.0</td>\n",
       "      <td>0.0</td>\n",
       "      <td>0.0</td>\n",
       "    </tr>\n",
       "    <tr>\n",
       "      <th>S hab LA1718</th>\n",
       "      <td>toxic</td>\n",
       "      <td>non-toxic</td>\n",
       "      <td>0.00000</td>\n",
       "      <td>0.0</td>\n",
       "      <td>0.0000</td>\n",
       "      <td>0.000000</td>\n",
       "      <td>436434.76200</td>\n",
       "      <td>0.00000</td>\n",
       "      <td>0.0</td>\n",
       "      <td>0.00000</td>\n",
       "      <td>...</td>\n",
       "      <td>0.0</td>\n",
       "      <td>121073.917</td>\n",
       "      <td>0.0</td>\n",
       "      <td>0.00000</td>\n",
       "      <td>15089.64365</td>\n",
       "      <td>0.0</td>\n",
       "      <td>0.0</td>\n",
       "      <td>0.0</td>\n",
       "      <td>0.0</td>\n",
       "      <td>0.0</td>\n",
       "    </tr>\n",
       "    <tr>\n",
       "      <th>S chm LA1840</th>\n",
       "      <td>non-toxic</td>\n",
       "      <td>non-toxic</td>\n",
       "      <td>0.00000</td>\n",
       "      <td>0.0</td>\n",
       "      <td>13354.2292</td>\n",
       "      <td>7006.160718</td>\n",
       "      <td>138245.88960</td>\n",
       "      <td>18838.74620</td>\n",
       "      <td>0.0</td>\n",
       "      <td>0.00000</td>\n",
       "      <td>...</td>\n",
       "      <td>0.0</td>\n",
       "      <td>0.000</td>\n",
       "      <td>0.0</td>\n",
       "      <td>0.00000</td>\n",
       "      <td>0.00000</td>\n",
       "      <td>0.0</td>\n",
       "      <td>0.0</td>\n",
       "      <td>0.0</td>\n",
       "      <td>0.0</td>\n",
       "      <td>0.0</td>\n",
       "    </tr>\n",
       "  </tbody>\n",
       "</table>\n",
       "<p>5 rows × 89 columns</p>\n",
       "</div>"
      ],
      "text/plain": [
       "                     wf     thrips  5.541_67.0557   7.060_95.0168   \\\n",
       "sample                                                               \n",
       "S lyc MM      non-toxic  non-toxic         0.00000             0.0   \n",
       "S hua LA1364  non-toxic  non-toxic         0.00000             0.0   \n",
       "S pim LA1578  non-toxic  non-toxic     12809.66965             0.0   \n",
       "S hab LA1718      toxic  non-toxic         0.00000             0.0   \n",
       "S chm LA1840  non-toxic  non-toxic         0.00000             0.0   \n",
       "\n",
       "              9.272_93.0728   9.472_91.0566   9.653_91.0565   10.148_93.0730   \\\n",
       "sample                                                                          \n",
       "S lyc MM              0.0000        0.000000     88210.77165          0.00000   \n",
       "S hua LA1364     104528.7520    45335.466500     27304.44693      90430.09761   \n",
       "S pim LA1578          0.0000        0.000000    221391.28520          0.00000   \n",
       "S hab LA1718          0.0000        0.000000    436434.76200          0.00000   \n",
       "S chm LA1840      13354.2292     7006.160718    138245.88960      18838.74620   \n",
       "\n",
       "              10.581_105.0363   10.873_119.0877   ...  26.529_131.0872   \\\n",
       "sample                                            ...                     \n",
       "S lyc MM                   0.0       32617.13711  ...               0.0   \n",
       "S hua LA1364               0.0           0.00000  ...               0.0   \n",
       "S pim LA1578               0.0       24737.81096  ...               0.0   \n",
       "S hab LA1718               0.0           0.00000  ...               0.0   \n",
       "S chm LA1840               0.0           0.00000  ...               0.0   \n",
       "\n",
       "              26.595_91.0568   26.689_109.1032   26.803_111.0836   \\\n",
       "sample                                                              \n",
       "S lyc MM                0.000               0.0           0.00000   \n",
       "S hua LA1364            0.000               0.0        5561.18023   \n",
       "S pim LA1578            0.000               0.0        9495.49648   \n",
       "S hab LA1718       121073.917               0.0           0.00000   \n",
       "S chm LA1840            0.000               0.0           0.00000   \n",
       "\n",
       "              26.833_81.0727   27.083_97.0317   27.996_91.0565   \\\n",
       "sample                                                            \n",
       "S lyc MM              0.00000              0.0              0.0   \n",
       "S hua LA1364          0.00000              0.0              0.0   \n",
       "S pim LA1578          0.00000              0.0              0.0   \n",
       "S hab LA1718      15089.64365              0.0              0.0   \n",
       "S chm LA1840          0.00000              0.0              0.0   \n",
       "\n",
       "              28.382_97.0323   30.160_91.0569   32.503_159.8606   \n",
       "sample                                                            \n",
       "S lyc MM                  0.0              0.0               0.0  \n",
       "S hua LA1364              0.0              0.0               0.0  \n",
       "S pim LA1578              0.0              0.0               0.0  \n",
       "S hab LA1718              0.0              0.0               0.0  \n",
       "S chm LA1840              0.0              0.0               0.0  \n",
       "\n",
       "[5 rows x 89 columns]"
      ]
     },
     "execution_count": 14,
     "metadata": {},
     "output_type": "execute_result"
    }
   ],
   "source": [
    "df = pd.read_csv(\"pheno_terpenoids.tsv\",sep=\"\\t\",index_col=0)\n",
    "df.head()"
   ]
  },
  {
   "cell_type": "markdown",
   "metadata": {},
   "source": [
    "## get the X and y arrays"
   ]
  },
  {
   "cell_type": "code",
   "execution_count": 15,
   "metadata": {},
   "outputs": [
    {
     "data": {
      "text/html": [
       "<div>\n",
       "<style scoped>\n",
       "    .dataframe tbody tr th:only-of-type {\n",
       "        vertical-align: middle;\n",
       "    }\n",
       "\n",
       "    .dataframe tbody tr th {\n",
       "        vertical-align: top;\n",
       "    }\n",
       "\n",
       "    .dataframe thead th {\n",
       "        text-align: right;\n",
       "    }\n",
       "</style>\n",
       "<table border=\"1\" class=\"dataframe\">\n",
       "  <thead>\n",
       "    <tr style=\"text-align: right;\">\n",
       "      <th></th>\n",
       "      <th>5.541_67.0557</th>\n",
       "      <th>7.060_95.0168</th>\n",
       "      <th>9.272_93.0728</th>\n",
       "      <th>9.472_91.0566</th>\n",
       "      <th>9.653_91.0565</th>\n",
       "      <th>10.148_93.0730</th>\n",
       "      <th>10.581_105.0363</th>\n",
       "      <th>10.873_119.0877</th>\n",
       "      <th>11.056_91.0567</th>\n",
       "      <th>11.572_91.0564</th>\n",
       "      <th>...</th>\n",
       "      <th>26.529_131.0872</th>\n",
       "      <th>26.595_91.0568</th>\n",
       "      <th>26.689_109.1032</th>\n",
       "      <th>26.803_111.0836</th>\n",
       "      <th>26.833_81.0727</th>\n",
       "      <th>27.083_97.0317</th>\n",
       "      <th>27.996_91.0565</th>\n",
       "      <th>28.382_97.0323</th>\n",
       "      <th>30.160_91.0569</th>\n",
       "      <th>32.503_159.8606</th>\n",
       "    </tr>\n",
       "    <tr>\n",
       "      <th>sample</th>\n",
       "      <th></th>\n",
       "      <th></th>\n",
       "      <th></th>\n",
       "      <th></th>\n",
       "      <th></th>\n",
       "      <th></th>\n",
       "      <th></th>\n",
       "      <th></th>\n",
       "      <th></th>\n",
       "      <th></th>\n",
       "      <th></th>\n",
       "      <th></th>\n",
       "      <th></th>\n",
       "      <th></th>\n",
       "      <th></th>\n",
       "      <th></th>\n",
       "      <th></th>\n",
       "      <th></th>\n",
       "      <th></th>\n",
       "      <th></th>\n",
       "      <th></th>\n",
       "    </tr>\n",
       "  </thead>\n",
       "  <tbody>\n",
       "    <tr>\n",
       "      <th>S lyc MM</th>\n",
       "      <td>0.00000</td>\n",
       "      <td>0.0</td>\n",
       "      <td>0.0000</td>\n",
       "      <td>0.000000</td>\n",
       "      <td>88210.77165</td>\n",
       "      <td>0.00000</td>\n",
       "      <td>0.0</td>\n",
       "      <td>32617.13711</td>\n",
       "      <td>0.0</td>\n",
       "      <td>0.00000</td>\n",
       "      <td>...</td>\n",
       "      <td>0.0</td>\n",
       "      <td>0.000</td>\n",
       "      <td>0.0</td>\n",
       "      <td>0.00000</td>\n",
       "      <td>0.00000</td>\n",
       "      <td>0.0</td>\n",
       "      <td>0.0</td>\n",
       "      <td>0.0</td>\n",
       "      <td>0.0</td>\n",
       "      <td>0.0</td>\n",
       "    </tr>\n",
       "    <tr>\n",
       "      <th>S hua LA1364</th>\n",
       "      <td>0.00000</td>\n",
       "      <td>0.0</td>\n",
       "      <td>104528.7520</td>\n",
       "      <td>45335.466500</td>\n",
       "      <td>27304.44693</td>\n",
       "      <td>90430.09761</td>\n",
       "      <td>0.0</td>\n",
       "      <td>0.00000</td>\n",
       "      <td>0.0</td>\n",
       "      <td>624085.81700</td>\n",
       "      <td>...</td>\n",
       "      <td>0.0</td>\n",
       "      <td>0.000</td>\n",
       "      <td>0.0</td>\n",
       "      <td>5561.18023</td>\n",
       "      <td>0.00000</td>\n",
       "      <td>0.0</td>\n",
       "      <td>0.0</td>\n",
       "      <td>0.0</td>\n",
       "      <td>0.0</td>\n",
       "      <td>0.0</td>\n",
       "    </tr>\n",
       "    <tr>\n",
       "      <th>S pim LA1578</th>\n",
       "      <td>12809.66965</td>\n",
       "      <td>0.0</td>\n",
       "      <td>0.0000</td>\n",
       "      <td>0.000000</td>\n",
       "      <td>221391.28520</td>\n",
       "      <td>0.00000</td>\n",
       "      <td>0.0</td>\n",
       "      <td>24737.81096</td>\n",
       "      <td>0.0</td>\n",
       "      <td>0.00000</td>\n",
       "      <td>...</td>\n",
       "      <td>0.0</td>\n",
       "      <td>0.000</td>\n",
       "      <td>0.0</td>\n",
       "      <td>9495.49648</td>\n",
       "      <td>0.00000</td>\n",
       "      <td>0.0</td>\n",
       "      <td>0.0</td>\n",
       "      <td>0.0</td>\n",
       "      <td>0.0</td>\n",
       "      <td>0.0</td>\n",
       "    </tr>\n",
       "    <tr>\n",
       "      <th>S hab LA1718</th>\n",
       "      <td>0.00000</td>\n",
       "      <td>0.0</td>\n",
       "      <td>0.0000</td>\n",
       "      <td>0.000000</td>\n",
       "      <td>436434.76200</td>\n",
       "      <td>0.00000</td>\n",
       "      <td>0.0</td>\n",
       "      <td>0.00000</td>\n",
       "      <td>0.0</td>\n",
       "      <td>0.00000</td>\n",
       "      <td>...</td>\n",
       "      <td>0.0</td>\n",
       "      <td>121073.917</td>\n",
       "      <td>0.0</td>\n",
       "      <td>0.00000</td>\n",
       "      <td>15089.64365</td>\n",
       "      <td>0.0</td>\n",
       "      <td>0.0</td>\n",
       "      <td>0.0</td>\n",
       "      <td>0.0</td>\n",
       "      <td>0.0</td>\n",
       "    </tr>\n",
       "    <tr>\n",
       "      <th>S chm LA1840</th>\n",
       "      <td>0.00000</td>\n",
       "      <td>0.0</td>\n",
       "      <td>13354.2292</td>\n",
       "      <td>7006.160718</td>\n",
       "      <td>138245.88960</td>\n",
       "      <td>18838.74620</td>\n",
       "      <td>0.0</td>\n",
       "      <td>0.00000</td>\n",
       "      <td>0.0</td>\n",
       "      <td>34923.75849</td>\n",
       "      <td>...</td>\n",
       "      <td>0.0</td>\n",
       "      <td>0.000</td>\n",
       "      <td>0.0</td>\n",
       "      <td>0.00000</td>\n",
       "      <td>0.00000</td>\n",
       "      <td>0.0</td>\n",
       "      <td>0.0</td>\n",
       "      <td>0.0</td>\n",
       "      <td>0.0</td>\n",
       "      <td>0.0</td>\n",
       "    </tr>\n",
       "  </tbody>\n",
       "</table>\n",
       "<p>5 rows × 87 columns</p>\n",
       "</div>"
      ],
      "text/plain": [
       "              5.541_67.0557   7.060_95.0168   9.272_93.0728   9.472_91.0566   \\\n",
       "sample                                                                         \n",
       "S lyc MM             0.00000             0.0          0.0000        0.000000   \n",
       "S hua LA1364         0.00000             0.0     104528.7520    45335.466500   \n",
       "S pim LA1578     12809.66965             0.0          0.0000        0.000000   \n",
       "S hab LA1718         0.00000             0.0          0.0000        0.000000   \n",
       "S chm LA1840         0.00000             0.0      13354.2292     7006.160718   \n",
       "\n",
       "              9.653_91.0565   10.148_93.0730   10.581_105.0363   \\\n",
       "sample                                                            \n",
       "S lyc MM         88210.77165          0.00000               0.0   \n",
       "S hua LA1364     27304.44693      90430.09761               0.0   \n",
       "S pim LA1578    221391.28520          0.00000               0.0   \n",
       "S hab LA1718    436434.76200          0.00000               0.0   \n",
       "S chm LA1840    138245.88960      18838.74620               0.0   \n",
       "\n",
       "              10.873_119.0877   11.056_91.0567   11.572_91.0564   ...  \\\n",
       "sample                                                            ...   \n",
       "S lyc MM           32617.13711              0.0          0.00000  ...   \n",
       "S hua LA1364           0.00000              0.0     624085.81700  ...   \n",
       "S pim LA1578       24737.81096              0.0          0.00000  ...   \n",
       "S hab LA1718           0.00000              0.0          0.00000  ...   \n",
       "S chm LA1840           0.00000              0.0      34923.75849  ...   \n",
       "\n",
       "              26.529_131.0872   26.595_91.0568   26.689_109.1032   \\\n",
       "sample                                                              \n",
       "S lyc MM                   0.0            0.000               0.0   \n",
       "S hua LA1364               0.0            0.000               0.0   \n",
       "S pim LA1578               0.0            0.000               0.0   \n",
       "S hab LA1718               0.0       121073.917               0.0   \n",
       "S chm LA1840               0.0            0.000               0.0   \n",
       "\n",
       "              26.803_111.0836   26.833_81.0727   27.083_97.0317   \\\n",
       "sample                                                             \n",
       "S lyc MM               0.00000          0.00000              0.0   \n",
       "S hua LA1364        5561.18023          0.00000              0.0   \n",
       "S pim LA1578        9495.49648          0.00000              0.0   \n",
       "S hab LA1718           0.00000      15089.64365              0.0   \n",
       "S chm LA1840           0.00000          0.00000              0.0   \n",
       "\n",
       "              27.996_91.0565   28.382_97.0323   30.160_91.0569   \\\n",
       "sample                                                            \n",
       "S lyc MM                  0.0              0.0              0.0   \n",
       "S hua LA1364              0.0              0.0              0.0   \n",
       "S pim LA1578              0.0              0.0              0.0   \n",
       "S hab LA1718              0.0              0.0              0.0   \n",
       "S chm LA1840              0.0              0.0              0.0   \n",
       "\n",
       "              32.503_159.8606   \n",
       "sample                          \n",
       "S lyc MM                   0.0  \n",
       "S hua LA1364               0.0  \n",
       "S pim LA1578               0.0  \n",
       "S hab LA1718               0.0  \n",
       "S chm LA1840               0.0  \n",
       "\n",
       "[5 rows x 87 columns]"
      ]
     },
     "execution_count": 15,
     "metadata": {},
     "output_type": "execute_result"
    }
   ],
   "source": [
    "# get whitefly classes\n",
    "y = df[\"wf\"].tolist()\n",
    "stratify_info = df['wf'].map({'non-toxic': 0, 'toxic': 1})\n",
    "\n",
    "# get matrix X of volatile values\n",
    "X = df.iloc[:,2:]\n",
    "X.head()"
   ]
  },
  {
   "cell_type": "markdown",
   "metadata": {},
   "source": [
    "# Random Forest analysis "
   ]
  },
  {
   "cell_type": "markdown",
   "metadata": {},
   "source": [
    "## Extract feature importance from the RF runs"
   ]
  },
  {
   "cell_type": "code",
   "execution_count": 8,
   "metadata": {},
   "outputs": [],
   "source": [
    "from helper_functions import extract_feature_importance_avg_and_sd_from_multiple_random_forest_runs\n",
    "\n",
    "# generates a list with first element average and second element standard deviation\n",
    "feature_importances = extract_feature_importance_avg_and_sd_from_multiple_random_forest_runs(\n",
    "    X,\n",
    "    y,\n",
    "    nb_of_splits=6,\n",
    "    nb_of_trees=1000,\n",
    "    nb_of_runs=5\n",
    ")"
   ]
  },
  {
   "cell_type": "code",
   "execution_count": 9,
   "metadata": {},
   "outputs": [],
   "source": [
    "# determine the average en std deviations \n",
    "mean_varimportance = feature_importances[0].mean(axis=1)\n",
    "\n",
    "# sum the variances (=squared std) and then take the mean\n",
    "pooled_std = np.sqrt((feature_importances[1]**2).mean(axis=1))\n",
    "\n",
    "# create panda for convenience\n",
    "yerr = pd.concat([mean_varimportance-2*pooled_std, mean_varimportance,mean_varimportance+2*pooled_std],axis=1)"
   ]
  },
  {
   "cell_type": "code",
   "execution_count": 12,
   "metadata": {},
   "outputs": [
    {
     "data": {
      "text/plain": [
       "<seaborn.axisgrid.PairGrid at 0x1a170e0f28>"
      ]
     },
     "execution_count": 12,
     "metadata": {},
     "output_type": "execute_result"
    },
    {
     "data": {
      "image/png": "[encoded data removed]",
      "text/plain": [
       "<Figure size 900x900 with 30 Axes>"
      ]
     },
     "metadata": {
      "needs_background": "light"
     },
     "output_type": "display_data"
    }
   ],
   "source": [
    "# plot the variable importances for each run and compare them to each other -> gives idea of stability \n",
    "sns.pairplot(data=feature_importances[0])"
   ]
  },
  {
   "cell_type": "markdown",
   "metadata": {},
   "source": [
    "# Permutations to extract p-values for each feature importance"
   ]
  },
  {
   "cell_type": "code",
   "execution_count": null,
   "metadata": {},
   "outputs": [],
   "source": [
    "nrperm = 2\n",
    "yperms = pd.DataFrame(columns=['perm{0}'.format(i+1) for i in range(nrperm)])\n",
    "secure_random = random.SystemRandom()"
   ]
  },
  {
   "cell_type": "code",
   "execution_count": null,
   "metadata": {},
   "outputs": [],
   "source": [
    "feature_importance_perm=pd.DataFrame(columns=['perm{0}'.format(i+1) for i in range(nrperm)])\n",
    "yhat_perm=pd.DataFrame(columns=['perm{0}'.format(i+1) for i in range(nrperm)])\n",
    "\n",
    "# create dataframe with y vector\n",
    "dfy = pd.DataFrame(y,columns=['tox'])\n",
    "\n",
    "\n",
    "for perm in range(nrperm):    \n",
    "    # generate random numbers\n",
    "    randomfloat = [secure_random.random() for r in range(len(y))]\n",
    "    # create new ynew matrix\n",
    "    ynew = dfy.iloc[np.argsort(randomfloat)]\n",
    "    # reindex the vector\n",
    "    ynew.index = range(len(y))\n",
    "    # store this matrix for later\n",
    "    yperms.iloc[:,perm]=ynew.iloc[:,0].copy()\n",
    "    \n",
    "    # set to fixed seed 1234 (arbitraryly)\n",
    "    a,yh = single_run(X,ynew,1234,False)\n",
    "    feature_importance_perm.iloc[:,perm] = a.mean(axis=1)\n",
    "    yhat_perm.iloc[:,perm]=yh.iloc[:,0]\n",
    "    "
   ]
  },
  {
   "cell_type": "code",
   "execution_count": null,
   "metadata": {},
   "outputs": [],
   "source": [
    "# routine to determine pvalue of average value (x) based on results scored by random generated data (X)\n",
    "def iperc(x,X):\n",
    "    \n",
    "    df = pd.DataFrame(index=X.index,columns=['p-value'])\n",
    "    \n",
    "    for i in range(len(x)):            \n",
    "        pn = sum(X.iloc[i,:]<x.iloc[i])/X.shape[0]\n",
    "        pp = sum(X.iloc[i,:]>=x.iloc[i])/X.shape[0]\n",
    "    \n",
    "        df.iloc[i] = min(pn,pp)\n",
    "            \n",
    "    return df\n",
    "    "
   ]
  },
  {
   "cell_type": "code",
   "execution_count": null,
   "metadata": {},
   "outputs": [],
   "source": [
    "# create some pandas just for plotting \n",
    "minp = feature_importance_perm.min(axis=1)\n",
    "maxp = feature_importance_perm.max(axis=1)\n",
    "\n",
    "yerr_plot = pd.concat([minp, mean_varimportance,maxp],axis=1)\n",
    "yerr_plot.columns = ['min_perm','avg','max_perm']\n",
    "yerr_plot['sig']=(minp>mean_varimportance) | (maxp<mean_varimportance)\n",
    "yerr_plot['x'] = range(yerr.shape[0])"
   ]
  },
  {
   "cell_type": "code",
   "execution_count": null,
   "metadata": {},
   "outputs": [],
   "source": [
    "fig,ax = plt.subplots(figsize=([5,5]),dpi=200)\n",
    "ax.set(yscale='log')\n",
    "sns.scatterplot(x='x',y='avg',data=yerr_plot,markers=['o','^'],hue='sig',style='sig')\n",
    "sns.lineplot(x='x',y='min_perm',data=yerr_plot,color='red')\n",
    "sns.lineplot(x='x',y='max_perm',data=yerr_plot,color='green')\n",
    "\n",
    "ax.lines[0].set_linestyle('--')\n",
    "ax.lines[0].set_linewidth(1)\n",
    "\n",
    "ax.lines[1].set_linestyle('--')\n",
    "ax.lines[1].set_linewidth(1)\n",
    "\n",
    "plt.legend(['min','max','avg'])\n",
    "\n",
    "plt.xlabel('variable index')\n",
    "plt.ylabel('importance');\n"
   ]
  },
  {
   "cell_type": "code",
   "execution_count": null,
   "metadata": {},
   "outputs": [],
   "source": [
    "mi = mean_varimportance\n",
    "pvalues = iperc(mi,feature_importance_perm)\n",
    "sns.distplot(pvalues.iloc[:,0].astype('float'),20)\n",
    "plt.title('distribution of obseverd p-values');"
   ]
  },
  {
   "cell_type": "code",
   "execution_count": null,
   "metadata": {},
   "outputs": [],
   "source": [
    "pvalues.loc[pvalues['p-value']<0.05,:]"
   ]
  },
  {
   "cell_type": "code",
   "execution_count": null,
   "metadata": {},
   "outputs": [],
   "source": [
    "# only select those variables that have p-value smaller than 0.05 (after bonferroni correction)\n",
    "#mysel = pvalues.loc[pvalues.iloc[:,0]<(0.05/X.shape[0]),:].sort_values('p-value')\n",
    "mysel = pvalues.loc[pvalues.iloc[:,0]<0.05,:].sort_values('p-value')"
   ]
  },
  {
   "cell_type": "code",
   "execution_count": null,
   "metadata": {},
   "outputs": [],
   "source": [
    "# plot those variables\n",
    "nrplots = len(mysel.index.values)\n",
    "fig = plt.figure(figsize=([3,12]),dpi=150)\n",
    "ax = fig.subplots(nrows=nrplots,ncols=1)\n",
    "\n",
    "yerr = pd.concat([mean_varimportance-2*pooled_std, mean_varimportance,mean_varimportance+2*pooled_std],axis=1)\n",
    "\n",
    "for i in range(nrplots):                \n",
    "    plt.subplot(ax[i])\n",
    "    sns.distplot(feature_importance_perm.iloc[mysel.index.values[i],:],bins=10,ax=ax[i])\n",
    "    plt.plot(mi[mysel.index.values[i]],0,mi[mysel.index.values[i]],50,'o')\n",
    "    plt.plot(yerr.iloc[mysel.index.values[i],0],0,yerr.iloc[mysel.index.values[i],0],50,'^')\n",
    "    plt.plot(yerr.iloc[mysel.index.values[i],2],0,yerr.iloc[mysel.index.values[i],2],50,'v')\n",
    "\n",
    "    \n",
    "plt.tight_layout()"
   ]
  },
  {
   "cell_type": "markdown",
   "metadata": {},
   "source": [
    "# Write final results to file"
   ]
  },
  {
   "cell_type": "code",
   "execution_count": null,
   "metadata": {},
   "outputs": [],
   "source": [
    "df.head()"
   ]
  },
  {
   "cell_type": "code",
   "execution_count": null,
   "metadata": {},
   "outputs": [],
   "source": [
    "# here an extra check.. set p-value < 0.05 AND rsd < 0.25 \n",
    "\n",
    "adf = pd.concat([pvalues,pooled_std,mean_varimportance,pooled_std/mean_varimportance],axis=1)\n",
    "adf.rename(columns={0:'std',1:'avg',2:'rsd'},inplace=True);\n",
    "signif = adf.loc[adf['p-value'] < 0.05]\n",
    "print(signif)"
   ]
  },
  {
   "cell_type": "code",
   "execution_count": null,
   "metadata": {},
   "outputs": [],
   "source": [
    "X.iloc[:,signif.index.values]"
   ]
  },
  {
   "cell_type": "markdown",
   "metadata": {},
   "source": [
    "## Sort dataframe by phenotypic class\n",
    "To display a heatmap that shows the rows of the non-toxic genotypes followed by the rows of the toxic genotypes."
   ]
  },
  {
   "cell_type": "code",
   "execution_count": null,
   "metadata": {},
   "outputs": [],
   "source": [
    "df_sorted = df.sort_values(by=[\"wf\"])\n",
    "\n",
    "# make a new column containing the accession and phenotypic class\n",
    "df_sorted[\"genotypes and class\"] = df_sorted.index.values + \"_\" + df_sorted[\"wf\"]\n",
    "df_sorted = df_sorted.set_index(df_sorted[\"genotypes and class\"])"
   ]
  },
  {
   "cell_type": "code",
   "execution_count": null,
   "metadata": {},
   "outputs": [],
   "source": [
    "# X matrix similar to the one used for the Random Forest analysis (rows are reordered, not columns)\n",
    "X = df_sorted.iloc[:,2:]\n",
    "\n",
    "# add one for log offset\n",
    "X_disp = X.replace(0,1) \n",
    "\n",
    "# display heatmap of log2(values)\n",
    "log_function = lambda x: np.log2(x)\n",
    "sns.heatmap(X_disp.iloc[:,signif.index.values].apply(log_function),cmap=\"Blues\")"
   ]
  },
  {
   "cell_type": "code",
   "execution_count": null,
   "metadata": {},
   "outputs": [],
   "source": [
    "# filter to keep only significant metabolites\n",
    "X_filt = X.iloc[:,signif.index.values]"
   ]
  },
  {
   "cell_type": "markdown",
   "metadata": {},
   "source": [
    "# Make plots for each candidate summing over the class"
   ]
  },
  {
   "cell_type": "code",
   "execution_count": null,
   "metadata": {},
   "outputs": [],
   "source": [
    "# insert a column with the genotype + class\n",
    "X_filt.insert(loc=0,column=\"id\",value=X_filt.index.values)"
   ]
  },
  {
   "cell_type": "code",
   "execution_count": null,
   "metadata": {},
   "outputs": [],
   "source": [
    "# new data frame with split value columns \n",
    "new = X_filt[\"id\"].str.split(\"_\", n = 1, expand = True) \n",
    "  \n",
    "# making separate last name column from new data frame \n",
    "X_filt.loc[:,\"wf\"]= new[1]\n",
    "\n",
    "# add index column\n",
    "X_filt = X_filt.set_index(\"id\")"
   ]
  },
  {
   "cell_type": "code",
   "execution_count": null,
   "metadata": {},
   "outputs": [],
   "source": [
    "toxic = X_filt.iloc[:,0:-1][X_filt[\"wf\"] == \"toxic\"].sum()"
   ]
  },
  {
   "cell_type": "code",
   "execution_count": null,
   "metadata": {},
   "outputs": [],
   "source": [
    "nontoxic = X_filt.iloc[:,0:-1][X_filt[\"wf\"] == \"non-toxic\"].sum()"
   ]
  },
  {
   "cell_type": "code",
   "execution_count": null,
   "metadata": {},
   "outputs": [],
   "source": [
    "# prepare a dataframe for plotting\n",
    "sumByClass = pd.DataFrame({'toxic':toxic, 'non-toxic':nontoxic})\n",
    "sumByClass = sumByClass.reset_index()\n",
    "sumByClass.columns.values[0]=\"candidate\"\n",
    "sumByClass = sumByClass.melt(id_vars=\"candidate\",var_name=\"class\",value_name=\"value\")"
   ]
  },
  {
   "cell_type": "code",
   "execution_count": null,
   "metadata": {},
   "outputs": [],
   "source": [
    "fig, ax = plt.subplots(figsize=(12,10))\n",
    "ax.set_xscale(\"log\",basex=2)\n",
    "sns.barplot(x=\"value\",y=\"candidate\",hue=\"class\",data=sumByClass,ax=ax)"
   ]
  },
  {
   "cell_type": "code",
   "execution_count": null,
   "metadata": {
    "scrolled": true
   },
   "outputs": [],
   "source": [
    "sumByClass"
   ]
  },
  {
   "cell_type": "markdown",
   "metadata": {},
   "source": [
    "# Step-wise selection\n",
    "\n",
    "This analysis is different because we will use a filtered dataset based on the results using the original, non-filtered dataset.\n",
    "\n",
    "Significant volatiles that are only detected in the whitefly *non-toxic* class are taken out from the original dataset. That is, their abundance in the *toxic* class should be equal to 0 (not detected in the toxic genotypes).\n",
    "\n",
    "Indeed, these volatiles are too discriminant between the two classes and thus these volatiles get a very high feature importance. As the goal of this analysis is also to get significant volatiles that are either present in both classes (but quantitatively different) or only detectable in the *toxic* class. \n",
    "\n",
    "**Which of the candidate have a value of 0 in the toxic class but a value > 0 in the non-toxic class?**"
   ]
  },
  {
   "cell_type": "code",
   "execution_count": null,
   "metadata": {},
   "outputs": [],
   "source": [
    "candidates_to_drop = sumByClass[(sumByClass[\"class\"] == \"toxic\") & (sumByClass[\"value\"] == 0)][\"candidate\"].tolist()\n",
    "candidates_to_drop"
   ]
  },
  {
   "cell_type": "code",
   "execution_count": null,
   "metadata": {},
   "outputs": [],
   "source": [
    "df = pd.read_csv(\"pheno_terpenoids.tsv\",sep=\"\\t\",index_col=0)\n",
    "print(df.shape)\n",
    "df.head()"
   ]
  },
  {
   "cell_type": "code",
   "execution_count": null,
   "metadata": {},
   "outputs": [],
   "source": [
    "# remove the 3 volatiles with an abundance equal to zero in the toxic class\n",
    "df = df.drop(columns=candidates_to_drop)\n",
    "df.shape"
   ]
  },
  {
   "cell_type": "markdown",
   "metadata": {},
   "source": [
    "## Define modified X and unmodified y arrays"
   ]
  },
  {
   "cell_type": "code",
   "execution_count": null,
   "metadata": {},
   "outputs": [],
   "source": [
    "# get whitefly classes\n",
    "y = df[\"wf\"].tolist()\n",
    "stratify_info = df['wf'].map({'non-toxic': 0, 'toxic': 1})\n",
    "\n",
    "# get matrix X of volatile values\n",
    "X = df.iloc[:,2:]\n",
    "X.head()"
   ]
  },
  {
   "cell_type": "code",
   "execution_count": null,
   "metadata": {},
   "outputs": [],
   "source": [
    "from helper_functions import single_random_forest_run\n",
    "\n",
    "res = single_random_forest_run(X,y,disp=False,rs=1234,nb_of_splits=6,nb_of_trees=1000)"
   ]
  },
  {
   "cell_type": "code",
   "execution_count": null,
   "metadata": {},
   "outputs": [],
   "source": [
    "res[2]"
   ]
  },
  {
   "cell_type": "code",
   "execution_count": null,
   "metadata": {},
   "outputs": [],
   "source": [
    "dfy = pd.DataFrame(y,columns=['tox'])"
   ]
  },
  {
   "cell_type": "code",
   "execution_count": null,
   "metadata": {},
   "outputs": [],
   "source": [
    "dfy"
   ]
  },
  {
   "cell_type": "code",
   "execution_count": null,
   "metadata": {},
   "outputs": [],
   "source": []
  }
 ],
 "metadata": {
  "kernelspec": {
   "display_name": "Python 3",
   "language": "python",
   "name": "python3"
  },
  "language_info": {
   "codemirror_mode": {
    "name": "ipython",
    "version": 3
   },
   "file_extension": ".py",
   "mimetype": "text/x-python",
   "name": "python",
   "nbconvert_exporter": "python",
   "pygments_lexer": "ipython3",
   "version": "3.7.1"
  }
 },
 "nbformat": 4,
 "nbformat_minor": 2
}
