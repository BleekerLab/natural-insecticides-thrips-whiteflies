{
 "cells": [
  {
   "cell_type": "markdown",
   "metadata": {
    "toc": true
   },
   "source": [
    "<h1>Table of Contents<span class=\"tocSkip\"></span></h1>\n",
    "<div class=\"toc\"><ul class=\"toc-item\"><li><span><a href=\"#Data-import\" data-toc-modified-id=\"Data-import-1\"><span class=\"toc-item-num\">1&nbsp;&nbsp;</span>Data import</a></span></li><li><span><a href=\"#Random-Forest-analysis\" data-toc-modified-id=\"Random-Forest-analysis-2\"><span class=\"toc-item-num\">2&nbsp;&nbsp;</span>Random Forest analysis</a></span><ul class=\"toc-item\"><li><span><a href=\"#get-the-X-and-y-arrays\" data-toc-modified-id=\"get-the-X-and-y-arrays-2.1\"><span class=\"toc-item-num\">2.1&nbsp;&nbsp;</span>get the X and y arrays</a></span></li><li><span><a href=\"#Extract-feature-importance-from-the-RF-runs\" data-toc-modified-id=\"Extract-feature-importance-from-the-RF-runs-2.2\"><span class=\"toc-item-num\">2.2&nbsp;&nbsp;</span>Extract feature importance from the RF runs</a></span></li><li><span><a href=\"#Permutations-to-extract-p-values-for-each-feature-importance\" data-toc-modified-id=\"Permutations-to-extract-p-values-for-each-feature-importance-2.3\"><span class=\"toc-item-num\">2.3&nbsp;&nbsp;</span>Permutations to extract p-values for each feature importance</a></span></li><li><span><a href=\"#Calculate-p-values\" data-toc-modified-id=\"Calculate-p-values-2.4\"><span class=\"toc-item-num\">2.4&nbsp;&nbsp;</span>Calculate p-values</a></span></li><li><span><a href=\"#Write-final-results-to-file\" data-toc-modified-id=\"Write-final-results-to-file-2.5\"><span class=\"toc-item-num\">2.5&nbsp;&nbsp;</span>Write final results to file</a></span></li></ul></li><li><span><a href=\"#Plots-(heatmap-and-sum-by-class)\" data-toc-modified-id=\"Plots-(heatmap-and-sum-by-class)-3\"><span class=\"toc-item-num\">3&nbsp;&nbsp;</span>Plots (heatmap and sum by class)</a></span><ul class=\"toc-item\"><li><span><a href=\"#Heatmap\" data-toc-modified-id=\"Heatmap-3.1\"><span class=\"toc-item-num\">3.1&nbsp;&nbsp;</span>Heatmap</a></span></li><li><span><a href=\"#Make-plots-for-each-candidate-summing-over-the-class\" data-toc-modified-id=\"Make-plots-for-each-candidate-summing-over-the-class-3.2\"><span class=\"toc-item-num\">3.2&nbsp;&nbsp;</span>Make plots for each candidate summing over the class</a></span></li></ul></li><li><span><a href=\"#Step-wise-selection\" data-toc-modified-id=\"Step-wise-selection-4\"><span class=\"toc-item-num\">4&nbsp;&nbsp;</span>Step-wise selection</a></span><ul class=\"toc-item\"><li><span><a href=\"#Find-candidates-to-be-removed\" data-toc-modified-id=\"Find-candidates-to-be-removed-4.1\"><span class=\"toc-item-num\">4.1&nbsp;&nbsp;</span>Find candidates to be removed</a></span></li><li><span><a href=\"#Random-Forest-run\" data-toc-modified-id=\"Random-Forest-run-4.2\"><span class=\"toc-item-num\">4.2&nbsp;&nbsp;</span>Random Forest run</a></span></li><li><span><a href=\"#Permutations\" data-toc-modified-id=\"Permutations-4.3\"><span class=\"toc-item-num\">4.3&nbsp;&nbsp;</span>Permutations</a></span></li><li><span><a href=\"#p-values\" data-toc-modified-id=\"p-values-4.4\"><span class=\"toc-item-num\">4.4&nbsp;&nbsp;</span>p-values</a></span></li></ul></li><li><span><a href=\"#Plots\" data-toc-modified-id=\"Plots-5\"><span class=\"toc-item-num\">5&nbsp;&nbsp;</span>Plots</a></span></li></ul></div>"
   ]
  },
  {
   "cell_type": "code",
   "execution_count": 1,
   "metadata": {},
   "outputs": [],
   "source": [
    "import matplotlib.pyplot as plt\n",
    "import seaborn as sns\n",
    "%matplotlib inline\n",
    "import pandas as pd\n",
    "import numpy as np\n",
    "\n",
    "from sklearn.model_selection import KFold\n",
    "from sklearn.model_selection import StratifiedKFold\n",
    "from sklearn.ensemble import RandomForestClassifier\n",
    "import random \n",
    "\n",
    "# custom functions\n",
    "from helper_functions import extract_feature_importance_avg_and_sd_from_multiple_random_forest_runs\n",
    "from helper_functions import extract_feature_importances_from_random_forests_on_permuted_y\n",
    "from helper_functions import get_significant_features\n",
    "from helper_functions import plot_candidate_heatmap\n"
   ]
  },
  {
   "cell_type": "markdown",
   "metadata": {},
   "source": [
    "# Data import"
   ]
  },
  {
   "cell_type": "code",
   "execution_count": 2,
   "metadata": {},
   "outputs": [],
   "source": [
    "df = pd.read_csv(\"pheno_terpenoids.tsv\",sep=\"\\t\",index_col=0)"
   ]
  },
  {
   "cell_type": "markdown",
   "metadata": {},
   "source": [
    "# Random Forest analysis "
   ]
  },
  {
   "cell_type": "markdown",
   "metadata": {},
   "source": [
    "## get the X and y arrays"
   ]
  },
  {
   "cell_type": "code",
   "execution_count": 3,
   "metadata": {},
   "outputs": [],
   "source": [
    "# get whitefly classes\n",
    "y = df[\"wf\"].tolist()\n",
    "stratify_info = df['wf'].map({'non-toxic': 0, 'toxic': 1})\n",
    "\n",
    "# get matrix X of volatile values\n",
    "X = df.iloc[:,2:]"
   ]
  },
  {
   "cell_type": "markdown",
   "metadata": {},
   "source": [
    "## Extract feature importance from the RF runs"
   ]
  },
  {
   "cell_type": "code",
   "execution_count": 4,
   "metadata": {},
   "outputs": [],
   "source": [
    "# generates a list with two elements\n",
    "# first element average feature importance\n",
    "# and second element standard deviation\n",
    "feature_importances = extract_feature_importance_avg_and_sd_from_multiple_random_forest_runs(\n",
    "    X,\n",
    "    y,\n",
    "    nb_of_splits=6,\n",
    "    nb_of_trees=1000,\n",
    "    nb_of_runs=5,\n",
    "    njobs=2\n",
    ")"
   ]
  },
  {
   "cell_type": "markdown",
   "metadata": {},
   "source": [
    "## Permutations to extract p-values for each feature importance"
   ]
  },
  {
   "cell_type": "code",
   "execution_count": 5,
   "metadata": {},
   "outputs": [],
   "source": [
    "# compute feature importances based on permuted y values\n",
    "feature_importance_perm = extract_feature_importances_from_random_forests_on_permuted_y(\n",
    "    X,\n",
    "    y,\n",
    "    nb_of_splits=6,\n",
    "    nb_of_trees=1000,\n",
    "    nperm=2,\n",
    "    njobs=3\n",
    ")"
   ]
  },
  {
   "cell_type": "markdown",
   "metadata": {},
   "source": [
    "## Calculate p-values\n",
    "\n",
    "**How?** By comparing the average feature importance from the original dataset to the distribution of feature importance based on N permutations.   "
   ]
  },
  {
   "cell_type": "code",
   "execution_count": 6,
   "metadata": {},
   "outputs": [
    {
     "data": {
      "text/html": [
       "<div>\n",
       "<style scoped>\n",
       "    .dataframe tbody tr th:only-of-type {\n",
       "        vertical-align: middle;\n",
       "    }\n",
       "\n",
       "    .dataframe tbody tr th {\n",
       "        vertical-align: top;\n",
       "    }\n",
       "\n",
       "    .dataframe thead th {\n",
       "        text-align: right;\n",
       "    }\n",
       "</style>\n",
       "<table border=\"1\" class=\"dataframe\">\n",
       "  <thead>\n",
       "    <tr style=\"text-align: right;\">\n",
       "      <th></th>\n",
       "      <th>p-value</th>\n",
       "      <th>average</th>\n",
       "      <th>sd</th>\n",
       "      <th>rsd</th>\n",
       "    </tr>\n",
       "  </thead>\n",
       "  <tbody>\n",
       "    <tr>\n",
       "      <th>5.541_67.0557</th>\n",
       "      <td>0</td>\n",
       "      <td>0.004201</td>\n",
       "      <td>0.001203</td>\n",
       "      <td>0.286328</td>\n",
       "    </tr>\n",
       "    <tr>\n",
       "      <th>7.060_95.0168</th>\n",
       "      <td>0</td>\n",
       "      <td>0.002420</td>\n",
       "      <td>0.001424</td>\n",
       "      <td>0.588276</td>\n",
       "    </tr>\n",
       "    <tr>\n",
       "      <th>9.272_93.0728</th>\n",
       "      <td>0</td>\n",
       "      <td>0.003766</td>\n",
       "      <td>0.002145</td>\n",
       "      <td>0.569687</td>\n",
       "    </tr>\n",
       "    <tr>\n",
       "      <th>9.472_91.0566</th>\n",
       "      <td>0</td>\n",
       "      <td>0.003392</td>\n",
       "      <td>0.001825</td>\n",
       "      <td>0.537992</td>\n",
       "    </tr>\n",
       "    <tr>\n",
       "      <th>9.653_91.0565</th>\n",
       "      <td>0</td>\n",
       "      <td>0.045564</td>\n",
       "      <td>0.008816</td>\n",
       "      <td>0.193498</td>\n",
       "    </tr>\n",
       "  </tbody>\n",
       "</table>\n",
       "</div>"
      ],
      "text/plain": [
       "               p-value   average        sd       rsd\n",
       "5.541_67.0557        0  0.004201  0.001203  0.286328\n",
       "7.060_95.0168        0  0.002420  0.001424  0.588276\n",
       "9.272_93.0728        0  0.003766  0.002145  0.569687\n",
       "9.472_91.0566        0  0.003392  0.001825  0.537992\n",
       "9.653_91.0565        0  0.045564  0.008816  0.193498"
      ]
     },
     "execution_count": 6,
     "metadata": {},
     "output_type": "execute_result"
    }
   ],
   "source": [
    "all_pvalues = get_significant_features(X,\n",
    "                                  original_feature_importances=feature_importances,\n",
    "                                  permuted_feature_importances=feature_importance_perm,\n",
    "                                  pval=0.05)\n",
    "all_pvalues.head()"
   ]
  },
  {
   "cell_type": "code",
   "execution_count": 7,
   "metadata": {},
   "outputs": [
    {
     "data": {
      "image/png": "[encoded data removed]",
      "text/plain": [
       "<Figure size 432x288 with 1 Axes>"
      ]
     },
     "metadata": {
      "needs_background": "light"
     },
     "output_type": "display_data"
    }
   ],
   "source": [
    "sns.distplot(all_pvalues.iloc[:,0].astype('float'),20)\n",
    "plt.title('Distribution of observed p-values');"
   ]
  },
  {
   "cell_type": "markdown",
   "metadata": {},
   "source": [
    "## Write final results to file"
   ]
  },
  {
   "cell_type": "code",
   "execution_count": 8,
   "metadata": {},
   "outputs": [
    {
     "data": {
      "text/html": [
       "<div>\n",
       "<style scoped>\n",
       "    .dataframe tbody tr th:only-of-type {\n",
       "        vertical-align: middle;\n",
       "    }\n",
       "\n",
       "    .dataframe tbody tr th {\n",
       "        vertical-align: top;\n",
       "    }\n",
       "\n",
       "    .dataframe thead th {\n",
       "        text-align: right;\n",
       "    }\n",
       "</style>\n",
       "<table border=\"1\" class=\"dataframe\">\n",
       "  <thead>\n",
       "    <tr style=\"text-align: right;\">\n",
       "      <th></th>\n",
       "      <th>p-value</th>\n",
       "      <th>average</th>\n",
       "      <th>sd</th>\n",
       "      <th>rsd</th>\n",
       "    </tr>\n",
       "  </thead>\n",
       "  <tbody>\n",
       "    <tr>\n",
       "      <th>5.541_67.0557</th>\n",
       "      <td>0</td>\n",
       "      <td>0.004201</td>\n",
       "      <td>0.001203</td>\n",
       "      <td>0.286328</td>\n",
       "    </tr>\n",
       "    <tr>\n",
       "      <th>7.060_95.0168</th>\n",
       "      <td>0</td>\n",
       "      <td>0.002420</td>\n",
       "      <td>0.001424</td>\n",
       "      <td>0.588276</td>\n",
       "    </tr>\n",
       "    <tr>\n",
       "      <th>9.272_93.0728</th>\n",
       "      <td>0</td>\n",
       "      <td>0.003766</td>\n",
       "      <td>0.002145</td>\n",
       "      <td>0.569687</td>\n",
       "    </tr>\n",
       "    <tr>\n",
       "      <th>9.472_91.0566</th>\n",
       "      <td>0</td>\n",
       "      <td>0.003392</td>\n",
       "      <td>0.001825</td>\n",
       "      <td>0.537992</td>\n",
       "    </tr>\n",
       "    <tr>\n",
       "      <th>9.653_91.0565</th>\n",
       "      <td>0</td>\n",
       "      <td>0.045564</td>\n",
       "      <td>0.008816</td>\n",
       "      <td>0.193498</td>\n",
       "    </tr>\n",
       "    <tr>\n",
       "      <th>10.148_93.0730</th>\n",
       "      <td>0</td>\n",
       "      <td>0.003303</td>\n",
       "      <td>0.001954</td>\n",
       "      <td>0.591469</td>\n",
       "    </tr>\n",
       "    <tr>\n",
       "      <th>10.581_105.0363</th>\n",
       "      <td>0</td>\n",
       "      <td>0.006996</td>\n",
       "      <td>0.002691</td>\n",
       "      <td>0.384711</td>\n",
       "    </tr>\n",
       "    <tr>\n",
       "      <th>10.873_119.0877</th>\n",
       "      <td>0</td>\n",
       "      <td>0.006842</td>\n",
       "      <td>0.003262</td>\n",
       "      <td>0.476754</td>\n",
       "    </tr>\n",
       "    <tr>\n",
       "      <th>11.056_91.0567</th>\n",
       "      <td>0.0114943</td>\n",
       "      <td>0.007763</td>\n",
       "      <td>0.002771</td>\n",
       "      <td>0.357012</td>\n",
       "    </tr>\n",
       "    <tr>\n",
       "      <th>11.572_91.0564</th>\n",
       "      <td>0</td>\n",
       "      <td>0.004700</td>\n",
       "      <td>0.001992</td>\n",
       "      <td>0.423830</td>\n",
       "    </tr>\n",
       "    <tr>\n",
       "      <th>11.844_91.0573</th>\n",
       "      <td>0</td>\n",
       "      <td>0.030118</td>\n",
       "      <td>0.006386</td>\n",
       "      <td>0.212030</td>\n",
       "    </tr>\n",
       "    <tr>\n",
       "      <th>11.96_91.0560</th>\n",
       "      <td>0</td>\n",
       "      <td>0.038527</td>\n",
       "      <td>0.011436</td>\n",
       "      <td>0.296825</td>\n",
       "    </tr>\n",
       "    <tr>\n",
       "      <th>12.373_91.0575</th>\n",
       "      <td>0</td>\n",
       "      <td>0.037348</td>\n",
       "      <td>0.011605</td>\n",
       "      <td>0.310724</td>\n",
       "    </tr>\n",
       "    <tr>\n",
       "      <th>12.618_119.0885</th>\n",
       "      <td>0</td>\n",
       "      <td>0.048123</td>\n",
       "      <td>0.006871</td>\n",
       "      <td>0.142768</td>\n",
       "    </tr>\n",
       "    <tr>\n",
       "      <th>12.761_91.0557</th>\n",
       "      <td>0.0114943</td>\n",
       "      <td>0.050374</td>\n",
       "      <td>0.005639</td>\n",
       "      <td>0.111948</td>\n",
       "    </tr>\n",
       "    <tr>\n",
       "      <th>13.396_91.0579</th>\n",
       "      <td>0</td>\n",
       "      <td>0.064366</td>\n",
       "      <td>0.011711</td>\n",
       "      <td>0.181946</td>\n",
       "    </tr>\n",
       "    <tr>\n",
       "      <th>13.604_105.0725_blank</th>\n",
       "      <td>0</td>\n",
       "      <td>0.052571</td>\n",
       "      <td>0.006253</td>\n",
       "      <td>0.118954</td>\n",
       "    </tr>\n",
       "    <tr>\n",
       "      <th>14.572_91.0565</th>\n",
       "      <td>0</td>\n",
       "      <td>0.003717</td>\n",
       "      <td>0.001108</td>\n",
       "      <td>0.298086</td>\n",
       "    </tr>\n",
       "    <tr>\n",
       "      <th>14.537_91.0571</th>\n",
       "      <td>0</td>\n",
       "      <td>0.006091</td>\n",
       "      <td>0.001460</td>\n",
       "      <td>0.239618</td>\n",
       "    </tr>\n",
       "    <tr>\n",
       "      <th>14.844_105.0368</th>\n",
       "      <td>0</td>\n",
       "      <td>0.005482</td>\n",
       "      <td>0.002136</td>\n",
       "      <td>0.389561</td>\n",
       "    </tr>\n",
       "    <tr>\n",
       "      <th>15.428_68.0279</th>\n",
       "      <td>0</td>\n",
       "      <td>0.002463</td>\n",
       "      <td>0.001468</td>\n",
       "      <td>0.595913</td>\n",
       "    </tr>\n",
       "    <tr>\n",
       "      <th>15.562_91.0570</th>\n",
       "      <td>0</td>\n",
       "      <td>0.000205</td>\n",
       "      <td>0.000216</td>\n",
       "      <td>1.051995</td>\n",
       "    </tr>\n",
       "    <tr>\n",
       "      <th>18.152_67.0559</th>\n",
       "      <td>0</td>\n",
       "      <td>0.003287</td>\n",
       "      <td>0.001708</td>\n",
       "      <td>0.519739</td>\n",
       "    </tr>\n",
       "    <tr>\n",
       "      <th>18.702_97.0318</th>\n",
       "      <td>0</td>\n",
       "      <td>0.002749</td>\n",
       "      <td>0.001630</td>\n",
       "      <td>0.592889</td>\n",
       "    </tr>\n",
       "    <tr>\n",
       "      <th>20.136_79.0560</th>\n",
       "      <td>0</td>\n",
       "      <td>0.000270</td>\n",
       "      <td>0.000333</td>\n",
       "      <td>1.235126</td>\n",
       "    </tr>\n",
       "    <tr>\n",
       "      <th>20.614_58.0433</th>\n",
       "      <td>0</td>\n",
       "      <td>0.024336</td>\n",
       "      <td>0.009022</td>\n",
       "      <td>0.370747</td>\n",
       "    </tr>\n",
       "    <tr>\n",
       "      <th>21.112_119.0858</th>\n",
       "      <td>0.0114943</td>\n",
       "      <td>0.001188</td>\n",
       "      <td>0.000981</td>\n",
       "      <td>0.825637</td>\n",
       "    </tr>\n",
       "    <tr>\n",
       "      <th>21.260_109.1042</th>\n",
       "      <td>0.0114943</td>\n",
       "      <td>0.001074</td>\n",
       "      <td>0.000924</td>\n",
       "      <td>0.860935</td>\n",
       "    </tr>\n",
       "    <tr>\n",
       "      <th>21.506_109.1042</th>\n",
       "      <td>0</td>\n",
       "      <td>0.001149</td>\n",
       "      <td>0.001039</td>\n",
       "      <td>0.904679</td>\n",
       "    </tr>\n",
       "    <tr>\n",
       "      <th>21.673_129.0932</th>\n",
       "      <td>0</td>\n",
       "      <td>0.002572</td>\n",
       "      <td>0.001486</td>\n",
       "      <td>0.577709</td>\n",
       "    </tr>\n",
       "    <tr>\n",
       "      <th>...</th>\n",
       "      <td>...</td>\n",
       "      <td>...</td>\n",
       "      <td>...</td>\n",
       "      <td>...</td>\n",
       "    </tr>\n",
       "    <tr>\n",
       "      <th>25.153_119.0864</th>\n",
       "      <td>0</td>\n",
       "      <td>0.001152</td>\n",
       "      <td>0.000769</td>\n",
       "      <td>0.667240</td>\n",
       "    </tr>\n",
       "    <tr>\n",
       "      <th>25.211_105.0732</th>\n",
       "      <td>0</td>\n",
       "      <td>0.000913</td>\n",
       "      <td>0.000731</td>\n",
       "      <td>0.801334</td>\n",
       "    </tr>\n",
       "    <tr>\n",
       "      <th>25.356_105.0726</th>\n",
       "      <td>0</td>\n",
       "      <td>0.014331</td>\n",
       "      <td>0.002471</td>\n",
       "      <td>0.172456</td>\n",
       "    </tr>\n",
       "    <tr>\n",
       "      <th>25.421_161.1340</th>\n",
       "      <td>0.0114943</td>\n",
       "      <td>0.019624</td>\n",
       "      <td>0.006609</td>\n",
       "      <td>0.336768</td>\n",
       "    </tr>\n",
       "    <tr>\n",
       "      <th>25.421_58.0434</th>\n",
       "      <td>0.0114943</td>\n",
       "      <td>0.019604</td>\n",
       "      <td>0.007279</td>\n",
       "      <td>0.371303</td>\n",
       "    </tr>\n",
       "    <tr>\n",
       "      <th>25.421_119.0869</th>\n",
       "      <td>0</td>\n",
       "      <td>0.001034</td>\n",
       "      <td>0.000828</td>\n",
       "      <td>0.800617</td>\n",
       "    </tr>\n",
       "    <tr>\n",
       "      <th>25.508_105.0726</th>\n",
       "      <td>0</td>\n",
       "      <td>0.006616</td>\n",
       "      <td>0.002086</td>\n",
       "      <td>0.315308</td>\n",
       "    </tr>\n",
       "    <tr>\n",
       "      <th>25.516_145.0981</th>\n",
       "      <td>0</td>\n",
       "      <td>0.000963</td>\n",
       "      <td>0.000634</td>\n",
       "      <td>0.658803</td>\n",
       "    </tr>\n",
       "    <tr>\n",
       "      <th>25.533_105.0721</th>\n",
       "      <td>0</td>\n",
       "      <td>0.016884</td>\n",
       "      <td>0.004247</td>\n",
       "      <td>0.251536</td>\n",
       "    </tr>\n",
       "    <tr>\n",
       "      <th>25.585_105.0719</th>\n",
       "      <td>0</td>\n",
       "      <td>0.002251</td>\n",
       "      <td>0.001054</td>\n",
       "      <td>0.468409</td>\n",
       "    </tr>\n",
       "    <tr>\n",
       "      <th>25.641_119.0875</th>\n",
       "      <td>0.0114943</td>\n",
       "      <td>0.013383</td>\n",
       "      <td>0.005526</td>\n",
       "      <td>0.412903</td>\n",
       "    </tr>\n",
       "    <tr>\n",
       "      <th>25.706_91.0568</th>\n",
       "      <td>0</td>\n",
       "      <td>0.012168</td>\n",
       "      <td>0.006238</td>\n",
       "      <td>0.512668</td>\n",
       "    </tr>\n",
       "    <tr>\n",
       "      <th>25.779_97.0322</th>\n",
       "      <td>0.0114943</td>\n",
       "      <td>0.002675</td>\n",
       "      <td>0.001609</td>\n",
       "      <td>0.601529</td>\n",
       "    </tr>\n",
       "    <tr>\n",
       "      <th>25.842_161.1316</th>\n",
       "      <td>0</td>\n",
       "      <td>0.002268</td>\n",
       "      <td>0.000984</td>\n",
       "      <td>0.433980</td>\n",
       "    </tr>\n",
       "    <tr>\n",
       "      <th>25.911_105.0725</th>\n",
       "      <td>0</td>\n",
       "      <td>0.004499</td>\n",
       "      <td>0.001759</td>\n",
       "      <td>0.390958</td>\n",
       "    </tr>\n",
       "    <tr>\n",
       "      <th>25.968_119.0881</th>\n",
       "      <td>0</td>\n",
       "      <td>0.008017</td>\n",
       "      <td>0.001984</td>\n",
       "      <td>0.247493</td>\n",
       "    </tr>\n",
       "    <tr>\n",
       "      <th>26.045_91.0563</th>\n",
       "      <td>0</td>\n",
       "      <td>0.001103</td>\n",
       "      <td>0.000821</td>\n",
       "      <td>0.744259</td>\n",
       "    </tr>\n",
       "    <tr>\n",
       "      <th>26.164_119.0865</th>\n",
       "      <td>0</td>\n",
       "      <td>0.018214</td>\n",
       "      <td>0.008423</td>\n",
       "      <td>0.462446</td>\n",
       "    </tr>\n",
       "    <tr>\n",
       "      <th>26.200_105.0726</th>\n",
       "      <td>0.0114943</td>\n",
       "      <td>0.014840</td>\n",
       "      <td>0.004725</td>\n",
       "      <td>0.318420</td>\n",
       "    </tr>\n",
       "    <tr>\n",
       "      <th>26.227_95.0152</th>\n",
       "      <td>0.0114943</td>\n",
       "      <td>0.002315</td>\n",
       "      <td>0.001527</td>\n",
       "      <td>0.659413</td>\n",
       "    </tr>\n",
       "    <tr>\n",
       "      <th>26.529_131.0872</th>\n",
       "      <td>0</td>\n",
       "      <td>0.000997</td>\n",
       "      <td>0.000749</td>\n",
       "      <td>0.751087</td>\n",
       "    </tr>\n",
       "    <tr>\n",
       "      <th>26.595_91.0568</th>\n",
       "      <td>0</td>\n",
       "      <td>0.013501</td>\n",
       "      <td>0.005612</td>\n",
       "      <td>0.415682</td>\n",
       "    </tr>\n",
       "    <tr>\n",
       "      <th>26.689_109.1032</th>\n",
       "      <td>0</td>\n",
       "      <td>0.001053</td>\n",
       "      <td>0.000764</td>\n",
       "      <td>0.725537</td>\n",
       "    </tr>\n",
       "    <tr>\n",
       "      <th>26.803_111.0836</th>\n",
       "      <td>0</td>\n",
       "      <td>0.015835</td>\n",
       "      <td>0.001867</td>\n",
       "      <td>0.117890</td>\n",
       "    </tr>\n",
       "    <tr>\n",
       "      <th>26.833_81.0727</th>\n",
       "      <td>0</td>\n",
       "      <td>0.011485</td>\n",
       "      <td>0.005938</td>\n",
       "      <td>0.517026</td>\n",
       "    </tr>\n",
       "    <tr>\n",
       "      <th>27.083_97.0317</th>\n",
       "      <td>0.0114943</td>\n",
       "      <td>0.002597</td>\n",
       "      <td>0.001463</td>\n",
       "      <td>0.563280</td>\n",
       "    </tr>\n",
       "    <tr>\n",
       "      <th>27.996_91.0565</th>\n",
       "      <td>0</td>\n",
       "      <td>0.000908</td>\n",
       "      <td>0.000841</td>\n",
       "      <td>0.926215</td>\n",
       "    </tr>\n",
       "    <tr>\n",
       "      <th>28.382_97.0323</th>\n",
       "      <td>0</td>\n",
       "      <td>0.002316</td>\n",
       "      <td>0.001384</td>\n",
       "      <td>0.597782</td>\n",
       "    </tr>\n",
       "    <tr>\n",
       "      <th>30.160_91.0569</th>\n",
       "      <td>0</td>\n",
       "      <td>0.001133</td>\n",
       "      <td>0.000895</td>\n",
       "      <td>0.789968</td>\n",
       "    </tr>\n",
       "    <tr>\n",
       "      <th>32.503_159.8606</th>\n",
       "      <td>0.0114943</td>\n",
       "      <td>0.002382</td>\n",
       "      <td>0.001431</td>\n",
       "      <td>0.600738</td>\n",
       "    </tr>\n",
       "  </tbody>\n",
       "</table>\n",
       "<p>87 rows × 4 columns</p>\n",
       "</div>"
      ],
      "text/plain": [
       "                          p-value   average        sd       rsd\n",
       "5.541_67.0557                   0  0.004201  0.001203  0.286328\n",
       "7.060_95.0168                   0  0.002420  0.001424  0.588276\n",
       "9.272_93.0728                   0  0.003766  0.002145  0.569687\n",
       "9.472_91.0566                   0  0.003392  0.001825  0.537992\n",
       "9.653_91.0565                   0  0.045564  0.008816  0.193498\n",
       "10.148_93.0730                  0  0.003303  0.001954  0.591469\n",
       "10.581_105.0363                 0  0.006996  0.002691  0.384711\n",
       "10.873_119.0877                 0  0.006842  0.003262  0.476754\n",
       "11.056_91.0567          0.0114943  0.007763  0.002771  0.357012\n",
       "11.572_91.0564                  0  0.004700  0.001992  0.423830\n",
       "11.844_91.0573                  0  0.030118  0.006386  0.212030\n",
       "11.96_91.0560                   0  0.038527  0.011436  0.296825\n",
       "12.373_91.0575                  0  0.037348  0.011605  0.310724\n",
       "12.618_119.0885                 0  0.048123  0.006871  0.142768\n",
       "12.761_91.0557          0.0114943  0.050374  0.005639  0.111948\n",
       "13.396_91.0579                  0  0.064366  0.011711  0.181946\n",
       "13.604_105.0725_blank           0  0.052571  0.006253  0.118954\n",
       "14.572_91.0565                  0  0.003717  0.001108  0.298086\n",
       "14.537_91.0571                  0  0.006091  0.001460  0.239618\n",
       "14.844_105.0368                 0  0.005482  0.002136  0.389561\n",
       "15.428_68.0279                  0  0.002463  0.001468  0.595913\n",
       "15.562_91.0570                  0  0.000205  0.000216  1.051995\n",
       "18.152_67.0559                  0  0.003287  0.001708  0.519739\n",
       "18.702_97.0318                  0  0.002749  0.001630  0.592889\n",
       "20.136_79.0560                  0  0.000270  0.000333  1.235126\n",
       "20.614_58.0433                  0  0.024336  0.009022  0.370747\n",
       "21.112_119.0858         0.0114943  0.001188  0.000981  0.825637\n",
       "21.260_109.1042         0.0114943  0.001074  0.000924  0.860935\n",
       "21.506_109.1042                 0  0.001149  0.001039  0.904679\n",
       "21.673_129.0932                 0  0.002572  0.001486  0.577709\n",
       "...                           ...       ...       ...       ...\n",
       "25.153_119.0864                 0  0.001152  0.000769  0.667240\n",
       "25.211_105.0732                 0  0.000913  0.000731  0.801334\n",
       "25.356_105.0726                 0  0.014331  0.002471  0.172456\n",
       "25.421_161.1340         0.0114943  0.019624  0.006609  0.336768\n",
       "25.421_58.0434          0.0114943  0.019604  0.007279  0.371303\n",
       "25.421_119.0869                 0  0.001034  0.000828  0.800617\n",
       "25.508_105.0726                 0  0.006616  0.002086  0.315308\n",
       "25.516_145.0981                 0  0.000963  0.000634  0.658803\n",
       "25.533_105.0721                 0  0.016884  0.004247  0.251536\n",
       "25.585_105.0719                 0  0.002251  0.001054  0.468409\n",
       "25.641_119.0875         0.0114943  0.013383  0.005526  0.412903\n",
       "25.706_91.0568                  0  0.012168  0.006238  0.512668\n",
       "25.779_97.0322          0.0114943  0.002675  0.001609  0.601529\n",
       "25.842_161.1316                 0  0.002268  0.000984  0.433980\n",
       "25.911_105.0725                 0  0.004499  0.001759  0.390958\n",
       "25.968_119.0881                 0  0.008017  0.001984  0.247493\n",
       "26.045_91.0563                  0  0.001103  0.000821  0.744259\n",
       "26.164_119.0865                 0  0.018214  0.008423  0.462446\n",
       "26.200_105.0726         0.0114943  0.014840  0.004725  0.318420\n",
       "26.227_95.0152          0.0114943  0.002315  0.001527  0.659413\n",
       "26.529_131.0872                 0  0.000997  0.000749  0.751087\n",
       "26.595_91.0568                  0  0.013501  0.005612  0.415682\n",
       "26.689_109.1032                 0  0.001053  0.000764  0.725537\n",
       "26.803_111.0836                 0  0.015835  0.001867  0.117890\n",
       "26.833_81.0727                  0  0.011485  0.005938  0.517026\n",
       "27.083_97.0317          0.0114943  0.002597  0.001463  0.563280\n",
       "27.996_91.0565                  0  0.000908  0.000841  0.926215\n",
       "28.382_97.0323                  0  0.002316  0.001384  0.597782\n",
       "30.160_91.0569                  0  0.001133  0.000895  0.789968\n",
       "32.503_159.8606         0.0114943  0.002382  0.001431  0.600738\n",
       "\n",
       "[87 rows x 4 columns]"
      ]
     },
     "execution_count": 8,
     "metadata": {},
     "output_type": "execute_result"
    }
   ],
   "source": [
    "# Select significant variables\n",
    "signif = all_pvalues.loc[all_pvalues.iloc[:,0]<0.05,:]\n",
    "\n",
    "# write to table\n",
    "signif.to_csv(\"Table.volatiles_and_thrips.tsv\",sep=\"\\t\")\n",
    "\n",
    "signif"
   ]
  },
  {
   "cell_type": "markdown",
   "metadata": {},
   "source": [
    "# Plots (heatmap and sum by class)"
   ]
  },
  {
   "cell_type": "markdown",
   "metadata": {},
   "source": [
    "## Heatmap\n",
    "To display a heatmap that shows the rows of the non-toxic genotypes followed by the rows of the toxic genotypes."
   ]
  },
  {
   "cell_type": "code",
   "execution_count": 9,
   "metadata": {},
   "outputs": [
    {
     "data": {
      "text/plain": [
       "<matplotlib.axes._subplots.AxesSubplot at 0x1a236622b0>"
      ]
     },
     "execution_count": 9,
     "metadata": {},
     "output_type": "execute_result"
    },
    {
     "data": {
      "image/png": "[encoded data removed]",
      "text/plain": [
       "<Figure size 432x288 with 2 Axes>"
      ]
     },
     "metadata": {
      "needs_background": "light"
     },
     "output_type": "display_data"
    }
   ],
   "source": [
    "# drops the thrips columns\n",
    "df_wf = df.drop(\"thrips\",axis=1) \n",
    "\n",
    "from helper_functions import plot_candidate_heatmap\n",
    "plot_candidate_heatmap(\n",
    "    df=df_wf,\n",
    "    class_col=\"wf\",\n",
    "    significant=signif.index.values,\n",
    "    log=True\n",
    ")"
   ]
  },
  {
   "cell_type": "code",
   "execution_count": 10,
   "metadata": {},
   "outputs": [
    {
     "ename": "NameError",
     "evalue": "name 'df_sorted' is not defined",
     "output_type": "error",
     "traceback": [
      "\u001b[0;31m---------------------------------------------------------------------------\u001b[0m",
      "\u001b[0;31mNameError\u001b[0m                                 Traceback (most recent call last)",
      "\u001b[0;32m<ipython-input-10-57a9d03fbf07>\u001b[0m in \u001b[0;36m<module>\u001b[0;34m\u001b[0m\n\u001b[1;32m      1\u001b[0m \u001b[0;31m# X matrix similar to the one used for the Random Forest analysis (rows are reordered, not columns)\u001b[0m\u001b[0;34m\u001b[0m\u001b[0;34m\u001b[0m\u001b[0;34m\u001b[0m\u001b[0m\n\u001b[0;32m----> 2\u001b[0;31m \u001b[0mX\u001b[0m \u001b[0;34m=\u001b[0m \u001b[0mdf_sorted\u001b[0m\u001b[0;34m.\u001b[0m\u001b[0miloc\u001b[0m\u001b[0;34m[\u001b[0m\u001b[0;34m:\u001b[0m\u001b[0;34m,\u001b[0m\u001b[0;36m2\u001b[0m\u001b[0;34m:\u001b[0m\u001b[0;34m]\u001b[0m\u001b[0;34m\u001b[0m\u001b[0;34m\u001b[0m\u001b[0m\n\u001b[0m\u001b[1;32m      3\u001b[0m \u001b[0;34m\u001b[0m\u001b[0m\n\u001b[1;32m      4\u001b[0m \u001b[0;31m# add one for log offset\u001b[0m\u001b[0;34m\u001b[0m\u001b[0;34m\u001b[0m\u001b[0;34m\u001b[0m\u001b[0m\n\u001b[1;32m      5\u001b[0m \u001b[0mX_disp\u001b[0m \u001b[0;34m=\u001b[0m \u001b[0mX\u001b[0m\u001b[0;34m.\u001b[0m\u001b[0mreplace\u001b[0m\u001b[0;34m(\u001b[0m\u001b[0;36m0\u001b[0m\u001b[0;34m,\u001b[0m\u001b[0;36m1\u001b[0m\u001b[0;34m)\u001b[0m \u001b[0;31m# log2(1) will be equals to zero\u001b[0m\u001b[0;34m\u001b[0m\u001b[0;34m\u001b[0m\u001b[0m\n",
      "\u001b[0;31mNameError\u001b[0m: name 'df_sorted' is not defined"
     ]
    }
   ],
   "source": [
    "# X matrix similar to the one used for the Random Forest analysis (rows are reordered, not columns)\n",
    "X = df_sorted.iloc[:,2:]\n",
    "\n",
    "# add one for log offset\n",
    "X_disp = X.replace(0,1) # log2(1) will be equals to zero\n",
    "\n",
    "# Only keep significant variables\n",
    "X_filt = X_disp.loc[:,signif.index.values]"
   ]
  },
  {
   "cell_type": "code",
   "execution_count": null,
   "metadata": {},
   "outputs": [],
   "source": [
    "# display heatmap of log2(values)\n",
    "log_function = lambda x: np.log2(x)\n",
    "sns.heatmap(X_filt.apply(log_function),cmap=\"Blues\")"
   ]
  },
  {
   "cell_type": "markdown",
   "metadata": {},
   "source": [
    "## Make plots for each candidate summing over the class"
   ]
  },
  {
   "cell_type": "code",
   "execution_count": null,
   "metadata": {},
   "outputs": [],
   "source": [
    "# insert a column with the genotype + class\n",
    "X_filt.insert(loc=0,column=\"id\",value=X_filt.index.values)"
   ]
  },
  {
   "cell_type": "code",
   "execution_count": null,
   "metadata": {},
   "outputs": [],
   "source": [
    "# new data frame with split value columns \n",
    "new = X_filt[\"id\"].str.split(\"_\", n = 1, expand = True) \n",
    "  \n",
    "# making separate last name column from new data frame \n",
    "X_filt.loc[:,\"wf\"]= new[1]\n",
    "\n",
    "# add index column\n",
    "X_filt = X_filt.set_index(\"id\")"
   ]
  },
  {
   "cell_type": "code",
   "execution_count": null,
   "metadata": {},
   "outputs": [],
   "source": [
    "toxic = X_filt.iloc[:,0:-1][X_filt[\"wf\"] == \"toxic\"].sum()"
   ]
  },
  {
   "cell_type": "code",
   "execution_count": null,
   "metadata": {},
   "outputs": [],
   "source": [
    "nontoxic = X_filt.iloc[:,0:-1][X_filt[\"wf\"] == \"non-toxic\"].sum()"
   ]
  },
  {
   "cell_type": "code",
   "execution_count": null,
   "metadata": {},
   "outputs": [],
   "source": [
    "# prepare a dataframe for plotting\n",
    "sumByClass = pd.DataFrame({'toxic':toxic, 'non-toxic':nontoxic})\n",
    "sumByClass = sumByClass.reset_index()\n",
    "sumByClass.columns.values[0]=\"candidate\"\n",
    "sumByClass = sumByClass.melt(id_vars=\"candidate\",var_name=\"class\",value_name=\"value\")"
   ]
  },
  {
   "cell_type": "code",
   "execution_count": null,
   "metadata": {},
   "outputs": [],
   "source": [
    "fig, ax = plt.subplots(figsize=(12,10))\n",
    "ax.set_xscale(\"log\",basex=2)\n",
    "sns.barplot(x=\"value\",y=\"candidate\",hue=\"class\",data=sumByClass,ax=ax)"
   ]
  },
  {
   "cell_type": "markdown",
   "metadata": {},
   "source": [
    "# Step-wise selection\n",
    "\n",
    "This analysis is different because we will use a filtered dataset based on the results using the original, non-filtered dataset.\n",
    "\n",
    "Significant volatiles that are only detected in the whitefly *non-toxic* class are taken out from the original dataset. That is, their abundance in the *toxic* class should be equal to 0 (not detected in the toxic genotypes).\n",
    "\n",
    "Indeed, these volatiles are too discriminant between the two classes and thus these volatiles get a very high feature importance. As the goal of this analysis is also to get significant volatiles that are either present in both classes (but quantitatively different) or only detectable in the *toxic* class. \n",
    "\n",
    "**Which of the candidate have a value close to 0 in the toxic class but a value > 0 in the non-toxic class?**\n",
    "To answer this, I can calculate the ratio of the candidates abundances in the non-toxic class and divide it by its abundance in the toxic class. A high ratio would suggest that the compound is almost exclusively present in the non-toxic genotypes. "
   ]
  },
  {
   "cell_type": "markdown",
   "metadata": {},
   "source": [
    "## Find candidates to be removed"
   ]
  },
  {
   "cell_type": "code",
   "execution_count": null,
   "metadata": {},
   "outputs": [],
   "source": [
    "# getting candidates with a high non-toxic to toxic ratio\n",
    "ratio_threshold = 100"
   ]
  },
  {
   "cell_type": "code",
   "execution_count": null,
   "metadata": {},
   "outputs": [],
   "source": [
    "# first pivoting (unmelting) the sumByClass dataframe\n",
    "sumByClass_reshaped = sumByClass.pivot(index=\"candidate\",columns=\"class\",values=\"value\")\n",
    "\n",
    "# calculating the ratio \n",
    "sumByClass_reshaped[\"ratio\"] = sumByClass_reshaped[\"non-toxic\"] / sumByClass_reshaped[\"toxic\"]\n",
    "\n",
    "candidates_to_drop = sumByClass_reshaped[sumByClass_reshaped[\"ratio\"] > ratio_threshold].index.get_values().tolist()"
   ]
  },
  {
   "cell_type": "code",
   "execution_count": null,
   "metadata": {},
   "outputs": [],
   "source": [
    "# read original dataframe\n",
    "df = pd.read_csv(\"pheno_terpenoids.tsv\",sep=\"\\t\",index_col=0)\n",
    "print(\"original dimensions:\",df.shape)\n",
    "df = df.drop(columns=candidates_to_drop)\n",
    "print(\"After dropping variables: dimensions:\",df.shape)"
   ]
  },
  {
   "cell_type": "markdown",
   "metadata": {},
   "source": [
    "## Random Forest run "
   ]
  },
  {
   "cell_type": "code",
   "execution_count": null,
   "metadata": {},
   "outputs": [],
   "source": [
    "# get whitefly classes\n",
    "y = df[\"wf\"].tolist()\n",
    "stratify_info = df['wf'].map({'non-toxic': 0, 'toxic': 1})\n",
    "\n",
    "# get matrix X of volatile values\n",
    "X = df.iloc[:,2:]"
   ]
  },
  {
   "cell_type": "code",
   "execution_count": null,
   "metadata": {},
   "outputs": [],
   "source": [
    "# generates a list with two elements\n",
    "# first element average feature importance\n",
    "# and second element standard deviation\n",
    "feature_importances = extract_feature_importance_avg_and_sd_from_multiple_random_forest_runs(\n",
    "    X,\n",
    "    y,\n",
    "    nb_of_splits=6,\n",
    "    nb_of_trees=1000,\n",
    "    nb_of_runs=5,\n",
    "    njobs=2\n",
    ")"
   ]
  },
  {
   "cell_type": "markdown",
   "metadata": {},
   "source": [
    "## Permutations"
   ]
  },
  {
   "cell_type": "code",
   "execution_count": null,
   "metadata": {},
   "outputs": [],
   "source": [
    "# compute feature importances based on permuted y values\n",
    "feature_importance_perm = extract_feature_importances_from_random_forests_on_permuted_y(\n",
    "    X,\n",
    "    y,\n",
    "    nb_of_splits=6,\n",
    "    nb_of_trees=1000,\n",
    "    nperm=100,\n",
    "    njobs=3\n",
    ")"
   ]
  },
  {
   "cell_type": "markdown",
   "metadata": {},
   "source": [
    "## p-values"
   ]
  },
  {
   "cell_type": "code",
   "execution_count": null,
   "metadata": {},
   "outputs": [],
   "source": [
    "all_pvalues = get_significant_features(X,\n",
    "                                  original_feature_importances=feature_importances,\n",
    "                                  permuted_feature_importances=feature_importance_perm,\n",
    "                                  pval=0.05)"
   ]
  },
  {
   "cell_type": "markdown",
   "metadata": {},
   "source": [
    "# Plots"
   ]
  },
  {
   "cell_type": "code",
   "execution_count": null,
   "metadata": {},
   "outputs": [],
   "source": []
  }
 ],
 "metadata": {
  "kernelspec": {
   "display_name": "Python 3",
   "language": "python",
   "name": "python3"
  },
  "language_info": {
   "codemirror_mode": {
    "name": "ipython",
    "version": 3
   },
   "file_extension": ".py",
   "mimetype": "text/x-python",
   "name": "python",
   "nbconvert_exporter": "python",
   "pygments_lexer": "ipython3",
   "version": "3.7.1"
  },
  "toc": {
   "base_numbering": 1,
   "nav_menu": {},
   "number_sections": true,
   "sideBar": true,
   "skip_h1_title": false,
   "title_cell": "Table of Contents",
   "title_sidebar": "Contents",
   "toc_cell": true,
   "toc_position": {},
   "toc_section_display": true,
   "toc_window_display": false
  }
 },
 "nbformat": 4,
 "nbformat_minor": 2
}
